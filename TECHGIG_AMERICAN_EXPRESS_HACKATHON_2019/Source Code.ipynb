{
 "cells": [
  {
   "cell_type": "code",
   "execution_count": 1,
   "metadata": {},
   "outputs": [],
   "source": [
    "# Importing the libraries\n",
    "import numpy as np\n",
    "import matplotlib.pyplot as plt\n",
    "import pandas as pd\n",
    "from pandasql import sqldf\n",
    "pysqldf = lambda q: sqldf(q, globals())"
   ]
  },
  {
   "cell_type": "code",
   "execution_count": 2,
   "metadata": {},
   "outputs": [],
   "source": [
    "import os\n",
    "os.getcwd()\n",
    "os.chdir(\"C:\\\\Users\\\\Home\\\\Desktop\\\\Saptha\\\\Machine-Learning\\\\American_Express_Techgig\")"
   ]
  },
  {
   "cell_type": "code",
   "execution_count": 3,
   "metadata": {},
   "outputs": [],
   "source": [
    "# Invoke garbage collector in python\n",
    "import gc "
   ]
  },
  {
   "cell_type": "code",
   "execution_count": 4,
   "metadata": {},
   "outputs": [],
   "source": [
    "# Importing input Datasets\n",
    "\n",
    "train = pd.read_csv('train.csv')\n",
    "test = pd.read_csv('test.csv')"
   ]
  },
  {
   "cell_type": "code",
   "execution_count": 5,
   "metadata": {},
   "outputs": [
    {
     "name": "stdout",
     "output_type": "stream",
     "text": [
      "<class 'pandas.core.frame.DataFrame'>\n",
      "RangeIndex: 590 entries, 0 to 589\n",
      "Data columns (total 17 columns):\n",
      "Key               590 non-null int64\n",
      "Male              590 non-null object\n",
      "Age               590 non-null object\n",
      "Debt              590 non-null float64\n",
      "Married           590 non-null object\n",
      "BankCustomer      590 non-null object\n",
      "EducationLevel    590 non-null object\n",
      "Ethnicity         590 non-null object\n",
      "YearsEmployed     590 non-null float64\n",
      "PriorDefault      590 non-null object\n",
      "Employed          590 non-null object\n",
      "CreditScore       590 non-null int64\n",
      "DriversLicense    590 non-null object\n",
      "Citizen           590 non-null object\n",
      "ZipCode           590 non-null object\n",
      "Income            590 non-null int64\n",
      "Approved          590 non-null object\n",
      "dtypes: float64(2), int64(3), object(12)\n",
      "memory usage: 78.4+ KB\n"
     ]
    }
   ],
   "source": [
    "train.info()"
   ]
  },
  {
   "cell_type": "code",
   "execution_count": 6,
   "metadata": {},
   "outputs": [
    {
     "name": "stdout",
     "output_type": "stream",
     "text": [
      "b    400\n",
      "a    179\n",
      "?     11\n",
      "Name: Male, dtype: int64\n",
      "?        12\n",
      "22.67     8\n",
      "18.83     6\n",
      "20.42     6\n",
      "22.5      6\n",
      "23.58     6\n",
      "20.67     6\n",
      "24.5      5\n",
      "27.67     5\n",
      "19.17     5\n",
      "23.08     5\n",
      "25        5\n",
      "20        4\n",
      "23.5      4\n",
      "28.58     4\n",
      "33.17     4\n",
      "25.17     4\n",
      "26.17     4\n",
      "32.33     4\n",
      "24.75     4\n",
      "24.58     4\n",
      "23        4\n",
      "21.92     3\n",
      "28.75     3\n",
      "34.08     3\n",
      "37.5      3\n",
      "18.08     3\n",
      "19.58     3\n",
      "18.17     3\n",
      "36.17     3\n",
      "         ..\n",
      "38.75     1\n",
      "17.25     1\n",
      "41.75     1\n",
      "38.67     1\n",
      "39.25     1\n",
      "31.92     1\n",
      "15.83     1\n",
      "25.92     1\n",
      "33.92     1\n",
      "48.08     1\n",
      "36.25     1\n",
      "39        1\n",
      "29.17     1\n",
      "29.67     1\n",
      "30.5      1\n",
      "19.75     1\n",
      "51.33     1\n",
      "33        1\n",
      "36.08     1\n",
      "27.75     1\n",
      "18.5      1\n",
      "31.75     1\n",
      "38.25     1\n",
      "17.42     1\n",
      "52.5      1\n",
      "51.83     1\n",
      "31        1\n",
      "37.58     1\n",
      "65.17     1\n",
      "35.42     1\n",
      "Name: Age, Length: 322, dtype: int64\n",
      "1.500     20\n",
      "2.500     17\n",
      "0.000     17\n",
      "3.000     17\n",
      "1.250     15\n",
      "5.000     14\n",
      "0.750     14\n",
      "1.750     12\n",
      "4.000     11\n",
      "0.500     10\n",
      "10.000    10\n",
      "11.000     9\n",
      "2.000      9\n",
      "6.500      9\n",
      "0.375      8\n",
      "7.000      8\n",
      "3.500      8\n",
      "11.500     8\n",
      "5.500      8\n",
      "0.585      8\n",
      "0.165      8\n",
      "12.500     7\n",
      "9.000      7\n",
      "2.750      7\n",
      "0.540      7\n",
      "1.000      6\n",
      "0.835      6\n",
      "0.335      6\n",
      "9.500      5\n",
      "4.250      5\n",
      "          ..\n",
      "21.500     1\n",
      "11.125     1\n",
      "4.710      1\n",
      "5.415      1\n",
      "22.000     1\n",
      "5.125      1\n",
      "17.750     1\n",
      "20.000     1\n",
      "8.000      1\n",
      "1.290      1\n",
      "1.790      1\n",
      "3.625      1\n",
      "5.250      1\n",
      "26.335     1\n",
      "22.290     1\n",
      "10.040     1\n",
      "6.750      1\n",
      "1.080      1\n",
      "12.625     1\n",
      "2.665      1\n",
      "3.790      1\n",
      "12.125     1\n",
      "11.460     1\n",
      "7.835      1\n",
      "2.835      1\n",
      "18.125     1\n",
      "4.125      1\n",
      "14.585     1\n",
      "4.750      1\n",
      "21.000     1\n",
      "Name: Debt, Length: 184, dtype: int64\n",
      "u    434\n",
      "y    148\n",
      "?      6\n",
      "l      2\n",
      "Name: Married, dtype: int64\n",
      "g     434\n",
      "p     148\n",
      "?       6\n",
      "gg      2\n",
      "Name: BankCustomer, dtype: int64\n",
      "c     119\n",
      "q      65\n",
      "i      53\n",
      "w      51\n",
      "aa     50\n",
      "ff     49\n",
      "k      45\n",
      "x      33\n",
      "m      30\n",
      "cc     29\n",
      "d      24\n",
      "e      21\n",
      "j      10\n",
      "?       9\n",
      "r       2\n",
      "Name: EducationLevel, dtype: int64\n",
      "v     341\n",
      "h     104\n",
      "bb     55\n",
      "ff     53\n",
      "?       9\n",
      "z       8\n",
      "j       8\n",
      "dd      6\n",
      "n       4\n",
      "o       2\n",
      "Name: Ethnicity, dtype: int64\n",
      "0.000     67\n",
      "0.250     31\n",
      "1.000     30\n",
      "0.125     29\n",
      "0.040     26\n",
      "0.500     24\n",
      "0.085     23\n",
      "0.165     21\n",
      "1.500     21\n",
      "2.500     15\n",
      "1.750     13\n",
      "2.000     11\n",
      "0.290     11\n",
      "3.500     10\n",
      "0.750     10\n",
      "2.250     10\n",
      "5.000      9\n",
      "3.000      9\n",
      "4.000      8\n",
      "1.250      7\n",
      "0.415      7\n",
      "0.375      7\n",
      "5.500      6\n",
      "0.540      6\n",
      "1.085      6\n",
      "6.500      5\n",
      "0.210      5\n",
      "0.585      5\n",
      "4.500      5\n",
      "8.500      5\n",
      "          ..\n",
      "5.665      1\n",
      "1.960      1\n",
      "13.500     1\n",
      "2.335      1\n",
      "3.165      1\n",
      "1.835      1\n",
      "0.795      1\n",
      "3.040      1\n",
      "10.750     1\n",
      "4.580      1\n",
      "5.125      1\n",
      "9.000      1\n",
      "9.460      1\n",
      "0.960      1\n",
      "2.710      1\n",
      "4.625      1\n",
      "1.875      1\n",
      "13.000     1\n",
      "7.375      1\n",
      "16.000     1\n",
      "2.625      1\n",
      "5.375      1\n",
      "2.125      1\n",
      "17.500     1\n",
      "11.500     1\n",
      "3.125      1\n",
      "4.165      1\n",
      "1.210      1\n",
      "15.500     1\n",
      "0.790      1\n",
      "Name: YearsEmployed, Length: 112, dtype: int64\n",
      "f    299\n",
      "t    291\n",
      "Name: PriorDefault, dtype: int64\n",
      "f    350\n",
      "t    240\n",
      "Name: Employed, dtype: int64\n",
      "0     350\n",
      "1      59\n",
      "2      40\n",
      "3      23\n",
      "6      18\n",
      "5      15\n",
      "4      14\n",
      "11     13\n",
      "7      13\n",
      "8       9\n",
      "9       8\n",
      "14      8\n",
      "10      6\n",
      "12      5\n",
      "16      3\n",
      "15      2\n",
      "20      2\n",
      "19      1\n",
      "13      1\n",
      "Name: CreditScore, dtype: int64\n",
      "f    327\n",
      "t    263\n",
      "Name: DriversLicense, dtype: int64\n",
      "g    530\n",
      "s     52\n",
      "p      8\n",
      "Name: Citizen, dtype: int64\n",
      "0      106\n",
      "160     33\n",
      "120     30\n",
      "200     30\n",
      "100     26\n",
      "80      24\n",
      "280     18\n",
      "180     16\n",
      "140     14\n",
      "?       13\n",
      "320     12\n",
      "300     11\n",
      "240     10\n",
      "60       9\n",
      "220      9\n",
      "340      7\n",
      "400      7\n",
      "260      6\n",
      "360      5\n",
      "380      5\n",
      "144      4\n",
      "420      4\n",
      "40       4\n",
      "108      4\n",
      "232      4\n",
      "440      4\n",
      "132      4\n",
      "290      3\n",
      "520      3\n",
      "70       3\n",
      "      ... \n",
      "519      1\n",
      "221      1\n",
      "129      1\n",
      "145      1\n",
      "396      1\n",
      "152      1\n",
      "454      1\n",
      "431      1\n",
      "230      1\n",
      "86       1\n",
      "393      1\n",
      "600      1\n",
      "760      1\n",
      "22       1\n",
      "416      1\n",
      "276      1\n",
      "303      1\n",
      "170      1\n",
      "224      1\n",
      "93       1\n",
      "117      1\n",
      "24       1\n",
      "309      1\n",
      "523      1\n",
      "49       1\n",
      "450      1\n",
      "212      1\n",
      "411      1\n",
      "254      1\n",
      "680      1\n",
      "Name: ZipCode, Length: 156, dtype: int64\n",
      "0       257\n",
      "1        26\n",
      "1000     10\n",
      "500       8\n",
      "6         8\n",
      "5         7\n",
      "2         7\n",
      "4         5\n",
      "100       5\n",
      "3000      4\n",
      "7         4\n",
      "200       4\n",
      "10        4\n",
      "20        4\n",
      "300       4\n",
      "50        3\n",
      "600       3\n",
      "18        3\n",
      "150       3\n",
      "3         3\n",
      "2000      3\n",
      "350       2\n",
      "540       2\n",
      "67        2\n",
      "68        2\n",
      "99        2\n",
      "1210      2\n",
      "3065      2\n",
      "351       2\n",
      "1200      2\n",
      "       ... \n",
      "247       1\n",
      "1065      1\n",
      "234       1\n",
      "2279      1\n",
      "228       1\n",
      "7544      1\n",
      "396       1\n",
      "582       1\n",
      "484       1\n",
      "1391      1\n",
      "1602      1\n",
      "567       1\n",
      "560       1\n",
      "1583      1\n",
      "6700      1\n",
      "1270      1\n",
      "4607      1\n",
      "501       1\n",
      "3552      1\n",
      "4500      1\n",
      "475       1\n",
      "2510      1\n",
      "458       1\n",
      "456       1\n",
      "2503      1\n",
      "6590      1\n",
      "1465      1\n",
      "5552      1\n",
      "1430      1\n",
      "251       1\n",
      "Name: Income, Length: 210, dtype: int64\n",
      "-    358\n",
      "+    232\n",
      "Name: Approved, dtype: int64\n"
     ]
    }
   ],
   "source": [
    "# Finding Columns with missing values.\n",
    "\n",
    "print (train.Male.value_counts())\n",
    "print (train.Age.value_counts())\n",
    "print (train.Debt.value_counts()) # No NULL values\n",
    "print (train.Married.value_counts())\n",
    "print (train.BankCustomer.value_counts())\n",
    "print (train.EducationLevel.value_counts())\n",
    "print (train.Ethnicity.value_counts())\n",
    "print (train.YearsEmployed.value_counts()) # No NULL values\n",
    "print (train.PriorDefault.value_counts()) # No NULL values\n",
    "print (train.Employed.value_counts()) # No NULL values\n",
    "print (train.CreditScore.value_counts()) # No NULL values\n",
    "print (train.DriversLicense.value_counts()) # No NULL values\n",
    "print (train.Citizen.value_counts()) # No NULL values\n",
    "print (train.ZipCode.value_counts())\n",
    "print (train.Income.value_counts()) # No NULL values\n",
    "print (train.Approved.value_counts()) # No NULL values"
   ]
  },
  {
   "cell_type": "code",
   "execution_count": 7,
   "metadata": {},
   "outputs": [],
   "source": [
    "train.replace({'Age':{'?' :0}}, inplace=True)\n",
    "train.Age = np.float32(train.Age)"
   ]
  },
  {
   "cell_type": "code",
   "execution_count": 8,
   "metadata": {},
   "outputs": [
    {
     "data": {
      "text/html": [
       "<div>\n",
       "<style scoped>\n",
       "    .dataframe tbody tr th:only-of-type {\n",
       "        vertical-align: middle;\n",
       "    }\n",
       "\n",
       "    .dataframe tbody tr th {\n",
       "        vertical-align: top;\n",
       "    }\n",
       "\n",
       "    .dataframe thead th {\n",
       "        text-align: right;\n",
       "    }\n",
       "</style>\n",
       "<table border=\"1\" class=\"dataframe\">\n",
       "  <thead>\n",
       "    <tr style=\"text-align: right;\">\n",
       "      <th></th>\n",
       "      <th>Key</th>\n",
       "      <th>Age</th>\n",
       "      <th>Debt</th>\n",
       "      <th>YearsEmployed</th>\n",
       "      <th>CreditScore</th>\n",
       "      <th>Income</th>\n",
       "    </tr>\n",
       "  </thead>\n",
       "  <tbody>\n",
       "    <tr>\n",
       "      <th>count</th>\n",
       "      <td>590.000000</td>\n",
       "      <td>590.000000</td>\n",
       "      <td>590.000000</td>\n",
       "      <td>590.000000</td>\n",
       "      <td>590.000000</td>\n",
       "      <td>590.000000</td>\n",
       "    </tr>\n",
       "    <tr>\n",
       "      <th>mean</th>\n",
       "      <td>295.500000</td>\n",
       "      <td>30.622503</td>\n",
       "      <td>4.609390</td>\n",
       "      <td>2.088534</td>\n",
       "      <td>2.045763</td>\n",
       "      <td>918.706780</td>\n",
       "    </tr>\n",
       "    <tr>\n",
       "      <th>std</th>\n",
       "      <td>170.462606</td>\n",
       "      <td>12.684757</td>\n",
       "      <td>4.849569</td>\n",
       "      <td>3.198681</td>\n",
       "      <td>3.702375</td>\n",
       "      <td>5025.415369</td>\n",
       "    </tr>\n",
       "    <tr>\n",
       "      <th>min</th>\n",
       "      <td>1.000000</td>\n",
       "      <td>0.000000</td>\n",
       "      <td>0.000000</td>\n",
       "      <td>0.000000</td>\n",
       "      <td>0.000000</td>\n",
       "      <td>0.000000</td>\n",
       "    </tr>\n",
       "    <tr>\n",
       "      <th>25%</th>\n",
       "      <td>148.250000</td>\n",
       "      <td>22.170000</td>\n",
       "      <td>1.000000</td>\n",
       "      <td>0.165000</td>\n",
       "      <td>0.000000</td>\n",
       "      <td>0.000000</td>\n",
       "    </tr>\n",
       "    <tr>\n",
       "      <th>50%</th>\n",
       "      <td>295.500000</td>\n",
       "      <td>27.710000</td>\n",
       "      <td>2.710000</td>\n",
       "      <td>1.000000</td>\n",
       "      <td>0.000000</td>\n",
       "      <td>4.000000</td>\n",
       "    </tr>\n",
       "    <tr>\n",
       "      <th>75%</th>\n",
       "      <td>442.750000</td>\n",
       "      <td>37.290001</td>\n",
       "      <td>7.000000</td>\n",
       "      <td>2.500000</td>\n",
       "      <td>2.000000</td>\n",
       "      <td>363.000000</td>\n",
       "    </tr>\n",
       "    <tr>\n",
       "      <th>max</th>\n",
       "      <td>590.000000</td>\n",
       "      <td>80.250000</td>\n",
       "      <td>26.335000</td>\n",
       "      <td>20.000000</td>\n",
       "      <td>20.000000</td>\n",
       "      <td>100000.000000</td>\n",
       "    </tr>\n",
       "  </tbody>\n",
       "</table>\n",
       "</div>"
      ],
      "text/plain": [
       "              Key         Age        Debt  YearsEmployed  CreditScore  \\\n",
       "count  590.000000  590.000000  590.000000     590.000000   590.000000   \n",
       "mean   295.500000   30.622503    4.609390       2.088534     2.045763   \n",
       "std    170.462606   12.684757    4.849569       3.198681     3.702375   \n",
       "min      1.000000    0.000000    0.000000       0.000000     0.000000   \n",
       "25%    148.250000   22.170000    1.000000       0.165000     0.000000   \n",
       "50%    295.500000   27.710000    2.710000       1.000000     0.000000   \n",
       "75%    442.750000   37.290001    7.000000       2.500000     2.000000   \n",
       "max    590.000000   80.250000   26.335000      20.000000    20.000000   \n",
       "\n",
       "              Income  \n",
       "count     590.000000  \n",
       "mean      918.706780  \n",
       "std      5025.415369  \n",
       "min         0.000000  \n",
       "25%         0.000000  \n",
       "50%         4.000000  \n",
       "75%       363.000000  \n",
       "max    100000.000000  "
      ]
     },
     "execution_count": 8,
     "metadata": {},
     "output_type": "execute_result"
    }
   ],
   "source": [
    "train.describe()"
   ]
  },
  {
   "cell_type": "code",
   "execution_count": 9,
   "metadata": {},
   "outputs": [
    {
     "name": "stdout",
     "output_type": "stream",
     "text": [
      "30.62250328063965\n",
      "27.71\n"
     ]
    }
   ],
   "source": [
    "# Imputing by mean vs median\n",
    "print (np.mean(train.Age))\n",
    "print (np.median(train.Age))"
   ]
  },
  {
   "cell_type": "code",
   "execution_count": 10,
   "metadata": {},
   "outputs": [
    {
     "name": "stdout",
     "output_type": "stream",
     "text": [
      "AxesSubplot(0.125,0.125;0.775x0.755)\n"
     ]
    },
    {
     "data": {
      "image/png": "[encoded data removed]",
      "text/plain": [
       "<Figure size 432x288 with 1 Axes>"
      ]
     },
     "metadata": {
      "needs_background": "light"
     },
     "output_type": "display_data"
    }
   ],
   "source": [
    "# Distribution of categorical variables before imputation\n",
    "# we need to ensure that the distribution of the feature before and after imputation remained the same.\n",
    "\n",
    "import seaborn as sns\n",
    "print (sns.countplot(x=\"Male\", data=train))"
   ]
  },
  {
   "cell_type": "code",
   "execution_count": 11,
   "metadata": {},
   "outputs": [
    {
     "name": "stdout",
     "output_type": "stream",
     "text": [
      "AxesSubplot(0.125,0.125;0.775x0.755)\n"
     ]
    },
    {
     "data": {
      "image/png": "[encoded data removed]",
      "text/plain": [
       "<Figure size 432x288 with 1 Axes>"
      ]
     },
     "metadata": {
      "needs_background": "light"
     },
     "output_type": "display_data"
    }
   ],
   "source": [
    "print (sns.countplot(x=\"Married\", data=train))"
   ]
  },
  {
   "cell_type": "code",
   "execution_count": 12,
   "metadata": {},
   "outputs": [
    {
     "name": "stdout",
     "output_type": "stream",
     "text": [
      "AxesSubplot(0.125,0.125;0.775x0.755)\n"
     ]
    },
    {
     "data": {
      "image/png": "[encoded data removed]",
      "text/plain": [
       "<Figure size 432x288 with 1 Axes>"
      ]
     },
     "metadata": {
      "needs_background": "light"
     },
     "output_type": "display_data"
    }
   ],
   "source": [
    "print (sns.countplot(x=\"BankCustomer\", data=train))"
   ]
  },
  {
   "cell_type": "code",
   "execution_count": 13,
   "metadata": {},
   "outputs": [
    {
     "name": "stdout",
     "output_type": "stream",
     "text": [
      "AxesSubplot(0.125,0.125;0.775x0.755)\n"
     ]
    },
    {
     "data": {
      "image/png": "[encoded data removed]",
      "text/plain": [
       "<Figure size 432x288 with 1 Axes>"
      ]
     },
     "metadata": {
      "needs_background": "light"
     },
     "output_type": "display_data"
    }
   ],
   "source": [
    "print (sns.countplot(x=\"EducationLevel\", data=train))"
   ]
  },
  {
   "cell_type": "code",
   "execution_count": 14,
   "metadata": {},
   "outputs": [
    {
     "name": "stdout",
     "output_type": "stream",
     "text": [
      "AxesSubplot(0.125,0.125;0.775x0.755)\n"
     ]
    },
    {
     "data": {
      "image/png": "[encoded data removed]",
      "text/plain": [
       "<Figure size 432x288 with 1 Axes>"
      ]
     },
     "metadata": {
      "needs_background": "light"
     },
     "output_type": "display_data"
    }
   ],
   "source": [
    "print (sns.countplot(x=\"Ethnicity\", data=train))"
   ]
  },
  {
   "cell_type": "code",
   "execution_count": 15,
   "metadata": {},
   "outputs": [
    {
     "name": "stdout",
     "output_type": "stream",
     "text": [
      "AxesSubplot(0.125,0.125;0.775x0.755)\n"
     ]
    },
    {
     "data": {
      "image/png": "[encoded data removed]",
      "text/plain": [
       "<Figure size 432x288 with 1 Axes>"
      ]
     },
     "metadata": {
      "needs_background": "light"
     },
     "output_type": "display_data"
    }
   ],
   "source": [
    "print (sns.countplot(x=\"ZipCode\", data=train))"
   ]
  },
  {
   "cell_type": "code",
   "execution_count": 16,
   "metadata": {},
   "outputs": [],
   "source": [
    "# Handling missing values & categorical data encoding.\n",
    "\n",
    "# Replacing by mean\n",
    "train.replace({'Age':{0 :round(np.mean(train.Age))}}, inplace=True) \n",
    "\n",
    "# Replacing by mode\n",
    "train.replace({'Male':{'?' :'b'}}, inplace=True) \n",
    "train.replace({'Married':{'?' :'u'}}, inplace=True) \n",
    "train.replace({'BankCustomer':{'?' :'g'}}, inplace=True) \n",
    "train.replace({'EducationLevel':{'?' :'c'}}, inplace=True) \n",
    "train.replace({'Ethnicity':{'?' :'v'}}, inplace=True) \n",
    "train.replace({'ZipCode':{'?' :'0'}}, inplace=True) \n",
    "\n",
    "# Encoding true, false as 1,0 respectively --> Nominal categorical variables with just two categories.\n",
    "train.replace({'PriorDefault':{'t' :1,'f' :0}}, inplace=True) \n",
    "train.replace({'Employed':{'t' :1, 'f' :0}}, inplace=True) \n",
    "train.replace({'DriversLicense':{'t' :1, 'f' :0}}, inplace=True) \n",
    "train.replace({'Approved':{'+' :1, '-' :0}}, inplace=True) \n",
    "\n"
   ]
  },
  {
   "cell_type": "code",
   "execution_count": 17,
   "metadata": {},
   "outputs": [
    {
     "name": "stdout",
     "output_type": "stream",
     "text": [
      "AxesSubplot(0.125,0.125;0.775x0.755)\n"
     ]
    },
    {
     "data": {
      "image/png": "[encoded data removed]",
      "text/plain": [
       "<Figure size 432x288 with 1 Axes>"
      ]
     },
     "metadata": {
      "needs_background": "light"
     },
     "output_type": "display_data"
    }
   ],
   "source": [
    "# Distribution of categorical variables after imputation\n",
    "print (sns.countplot(x=\"Male\", data=train))"
   ]
  },
  {
   "cell_type": "code",
   "execution_count": 18,
   "metadata": {},
   "outputs": [
    {
     "name": "stdout",
     "output_type": "stream",
     "text": [
      "AxesSubplot(0.125,0.125;0.775x0.755)\n"
     ]
    },
    {
     "data": {
      "image/png": "[encoded data removed]",
      "text/plain": [
       "<Figure size 432x288 with 1 Axes>"
      ]
     },
     "metadata": {
      "needs_background": "light"
     },
     "output_type": "display_data"
    }
   ],
   "source": [
    "print (sns.countplot(x=\"Married\", data=train))"
   ]
  },
  {
   "cell_type": "code",
   "execution_count": 19,
   "metadata": {},
   "outputs": [
    {
     "name": "stdout",
     "output_type": "stream",
     "text": [
      "AxesSubplot(0.125,0.125;0.775x0.755)\n"
     ]
    },
    {
     "data": {
      "image/png": "[encoded data removed]",
      "text/plain": [
       "<Figure size 432x288 with 1 Axes>"
      ]
     },
     "metadata": {
      "needs_background": "light"
     },
     "output_type": "display_data"
    }
   ],
   "source": [
    "print (sns.countplot(x=\"BankCustomer\", data=train))"
   ]
  },
  {
   "cell_type": "code",
   "execution_count": 20,
   "metadata": {},
   "outputs": [
    {
     "name": "stdout",
     "output_type": "stream",
     "text": [
      "AxesSubplot(0.125,0.125;0.775x0.755)\n"
     ]
    },
    {
     "data": {
      "image/png": "[encoded data removed]",
      "text/plain": [
       "<Figure size 432x288 with 1 Axes>"
      ]
     },
     "metadata": {
      "needs_background": "light"
     },
     "output_type": "display_data"
    }
   ],
   "source": [
    "print (sns.countplot(x=\"EducationLevel\", data=train))"
   ]
  },
  {
   "cell_type": "code",
   "execution_count": 21,
   "metadata": {},
   "outputs": [
    {
     "name": "stdout",
     "output_type": "stream",
     "text": [
      "AxesSubplot(0.125,0.125;0.775x0.755)\n"
     ]
    },
    {
     "data": {
      "image/png": "[encoded data removed]",
      "text/plain": [
       "<Figure size 432x288 with 1 Axes>"
      ]
     },
     "metadata": {
      "needs_background": "light"
     },
     "output_type": "display_data"
    }
   ],
   "source": [
    "print (sns.countplot(x=\"Ethnicity\", data=train))"
   ]
  },
  {
   "cell_type": "code",
   "execution_count": 22,
   "metadata": {},
   "outputs": [
    {
     "name": "stdout",
     "output_type": "stream",
     "text": [
      "AxesSubplot(0.125,0.125;0.775x0.755)\n"
     ]
    },
    {
     "data": {
      "image/png": "[encoded data removed]",
      "text/plain": [
       "<Figure size 432x288 with 1 Axes>"
      ]
     },
     "metadata": {
      "needs_background": "light"
     },
     "output_type": "display_data"
    }
   ],
   "source": [
    "print (sns.countplot(x=\"ZipCode\", data=train))"
   ]
  },
  {
   "cell_type": "code",
   "execution_count": 23,
   "metadata": {},
   "outputs": [],
   "source": [
    "# Doing everything for test data\n",
    "\n",
    "test.Age = np.float32(test.Age)\n",
    "\n",
    "# Handling missing values & categorical data encoding.\n",
    "\n",
    "# Replacing by mode\n",
    "test.replace({'Male':{'?' :'b'}}, inplace=True) \n",
    "test.replace({'Married':{'?' :'u'}}, inplace=True) \n",
    "test.replace({'BankCustomer':{'?' :'g'}}, inplace=True) \n",
    "test.replace({'EducationLevel':{'?' :'c'}}, inplace=True) \n",
    "test.replace({'Ethnicity':{'?' :'v'}}, inplace=True) \n",
    "\n",
    "# Encoding true, false as 1,0 respectively --> Binary categorical variables.\n",
    "test.replace({'PriorDefault':{'t' :1,'f' :0}}, inplace=True) \n",
    "test.replace({'Employed':{'t' :1, 'f' :0}}, inplace=True) \n",
    "test.replace({'DriversLicense':{'t' :1, 'f' :0}}, inplace=True) \n"
   ]
  },
  {
   "cell_type": "code",
   "execution_count": 24,
   "metadata": {},
   "outputs": [],
   "source": [
    "# For ensemble classifier.\n",
    "# Maximum vote technique.\n",
    "# Base classifiers used - Logistic Regression, Random Forest, Extreme Gradient Boosting.\n",
    "\n",
    "# ensemble = pd.DataFrame()"
   ]
  },
  {
   "cell_type": "code",
   "execution_count": 25,
   "metadata": {},
   "outputs": [],
   "source": [
    "#################### Logistic Regression ####################"
   ]
  },
  {
   "cell_type": "code",
   "execution_count": 26,
   "metadata": {},
   "outputs": [],
   "source": [
    "#################### Data Preparation for modelling using Logistic Regression ####################"
   ]
  },
  {
   "cell_type": "code",
   "execution_count": 27,
   "metadata": {},
   "outputs": [],
   "source": [
    "# logTrain = train.copy(deep = True) # Deep copy so that changes in logTrain are not reflected in train\n",
    "# logTest = test.copy(deep = True)"
   ]
  },
  {
   "cell_type": "code",
   "execution_count": 28,
   "metadata": {},
   "outputs": [],
   "source": [
    "# Deleting columns which are not meaningful for model building.\n",
    "# del logTrain['Key']\n",
    "# del logTrain['ZipCode']\n",
    "\n",
    "# del logTest['ZipCode']"
   ]
  },
  {
   "cell_type": "code",
   "execution_count": 29,
   "metadata": {},
   "outputs": [],
   "source": [
    "# Dummy encoding nominal categorical variables.\n",
    "\n",
    "# logTrain = pd.get_dummies(logTrain, columns=['Male'], prefix = ['m'])\n",
    "\n",
    "# logTrain = logTrain[logTrain.Married != 'l'] \n",
    "# logTrain = pd.get_dummies(logTrain, columns=['Married'], prefix = ['md'])\n",
    "\n",
    "# logTrain = pd.get_dummies(logTrain, columns=['BankCustomer'], prefix = ['bc'])\n",
    "\n",
    "# logTrain = pd.get_dummies(logTrain, columns=['EducationLevel'], prefix = ['el'])\n",
    "\n",
    "# logTrain = logTrain[logTrain.Citizen != 'p']\n",
    "# logTrain = pd.get_dummies(logTrain, columns=['Citizen'], prefix = ['ct'])\n",
    "\n",
    "# Creating feature bins\n",
    "# These feature bins didn't significantly increase AUC. So they were commented out while trying chiSq test and Age was used as \n",
    "# continuous feature itself.\n",
    "# logTrain['Age'] = round(logTrain['Age'])\n",
    "# logTrain['agebins'] = pd.cut(logTrain['Age'], [0,20,40,60,80], labels = [\"[0,20]\",\"[20,40]\",\"[40,60]\",\"[60,80]\"])\n",
    "# logTrain = pd.get_dummies(logTrain, columns=['agebins'], prefix = ['ag'])\n",
    "# del logTrain['Age']\n",
    "\n",
    "# logTest = pd.get_dummies(logTest, columns=['Male'], prefix = ['m'])\n",
    "# logTest = pd.get_dummies(logTest, columns=['Married'], prefix = ['md'])\n",
    "# logTest = pd.get_dummies(logTest, columns=['BankCustomer'], prefix = ['bc'])\n",
    "# logTest = pd.get_dummies(logTest, columns=['EducationLevel'], prefix = ['el'])\n",
    "# logTest = pd.get_dummies(logTest, columns=['Citizen'], prefix = ['ct'])\n",
    "\n",
    "# Creating feature bins\n",
    "# These feature bins didn't significantly increase AUC. So they were commented out while trying chiSq test and Age was used as \n",
    "# continuous feature itself.\n",
    "# logTest['Age'] = round(logTest['Age'])\n",
    "# logTest['agebins'] = pd.cut(logTest['Age'], [0,20,40,60,80], labels = [\"[0,20]\",\"[20,40]\",\"[40,60]\",\"[60,80]\"])\n",
    "# logTest = pd.get_dummies(logTest, columns=['agebins'], prefix = ['ag'])\n",
    "# del logTest['Age']\n",
    "\n",
    "# logTest['el_j'] = 0\n"
   ]
  },
  {
   "cell_type": "code",
   "execution_count": 30,
   "metadata": {},
   "outputs": [],
   "source": [
    "# Logistic Regression model fitting.\n",
    "# Building a basic logistic regression model without any feature selection.\n",
    "\n",
    "# from sklearn.model_selection import train_test_split\n",
    "# from sklearn.linear_model import LogisticRegression\n",
    "# from sklearn import metrics\n",
    "# from sklearn.model_selection import train_test_split\n",
    "# from sklearn.preprocessing import StandardScaler\n",
    "\n",
    "# Y = logTrain['Approved']\n",
    "# X = logTrain\n",
    "\n",
    "# X_train, X_test, y_train, y_test = train_test_split(X, Y, test_size=0.2, random_state=0)\n",
    "\n",
    "# et_mean_encode = X_train.groupby('Ethnicity')['Approved'].mean()\n",
    "# X_train.loc[:,'Ethnicity'] = X_train['Ethnicity'].map(et_mean_encode)\n",
    "# X_test.loc[:,'Ethnicity'] = X_test['Ethnicity'].map(et_mean_encode)\n",
    "\n",
    "# X_train_approved = X_train['Approved']\n",
    "# X_test_approved = X_test['Approved']\n",
    "# del X_train['Approved']\n",
    "# del X_test['Approved']\n",
    "\n",
    "# logreg = LogisticRegression()\n",
    "# logreg.fit(X_train, y_train)\n",
    "# y_pred_test = logreg.predict(X_test)\n",
    "# y_pred_train = logreg.predict(X_train)\n",
    "\n",
    "# print ('Train')\n",
    "# from sklearn.metrics import roc_curve, auc\n",
    "# false_positive_rate, true_positive_rate, thresholds = roc_curve(y_train, y_pred_train)\n",
    "# roc_auc = auc(false_positive_rate, true_positive_rate)\n",
    "# print (roc_auc)\n",
    "# print (false_positive_rate)\n",
    "# print (true_positive_rate)\n",
    "\n",
    "# print ('Test')\n",
    "# print('Accuracy of logistic regression classifier on test set: {:.2f}'.format(logreg.score(X_test, y_test)))\n",
    "# from sklearn.metrics import confusion_matrix\n",
    "# confusion_matrix = confusion_matrix(y_test, y_pred_test)\n",
    "# print(confusion_matrix)\n",
    "# from sklearn.metrics import classification_report\n",
    "# print(classification_report(y_test, y_pred_test))\n",
    "# print (X_train.columns)\n",
    "# print ('Model Coefficients')\n",
    "# print (logreg.coef_)\n",
    "\n",
    "# from sklearn.metrics import roc_curve, auc\n",
    "# false_positive_rate, true_positive_rate, thresholds = roc_curve(y_test, y_pred_test)\n",
    "# roc_auc = auc(false_positive_rate, true_positive_rate)\n",
    "# print (roc_auc)\n",
    "# print (false_positive_rate)\n",
    "# print (true_positive_rate)\n",
    "\n",
    "# X_train['Approved'] = X_train_approved\n",
    "# X_test['Approved'] = X_test_approved"
   ]
  },
  {
   "cell_type": "code",
   "execution_count": 31,
   "metadata": {},
   "outputs": [],
   "source": [
    "#import pandas as pd\n",
    "#import numpy as np\n",
    "#import scipy.stats as stats\n",
    "# from scipy.stats import chi2_contingency\n",
    "\n",
    "#class ChiSquare:\n",
    "#    def __init__(self, dataframe):\n",
    "#        self.df = dataframe\n",
    "#        self.p = None #P-Value\n",
    "#        self.chi2 = None #Chi Test Statistic\n",
    "#       self.dof = None\n",
    "        \n",
    "#        self.dfTabular = None\n",
    "#        self.dfExpected = None\n",
    "        \n",
    "#    def _print_chisquare_result(self, colX, alpha):\n",
    "#        result = \"\"\n",
    "#        if self.p<alpha:\n",
    "#            result=\"{0} is IMPORTANT for Prediction\".format(colX)\n",
    "#        else:\n",
    "#            result=\"{0} is NOT an important predictor. (Discard {0} from model)\".format(colX)\n",
    "\n",
    "#        print(result)\n",
    "        \n",
    "#    def TestIndependence(self,colX,colY, alpha=0.01):\n",
    "#        X = self.df[colX].astype(str)\n",
    "#        Y = self.df[colY].astype(str)\n",
    "        \n",
    "#        self.dfObserved = pd.crosstab(Y,X) \n",
    "#        chi2, p, dof, expected = stats.chi2_contingency(self.dfObserved.values)\n",
    "#        self.p = p\n",
    "#        self.chi2 = chi2\n",
    "#        self.dof = dof \n",
    "        \n",
    "#        self.dfExpected = pd.DataFrame(expected, columns=self.dfObserved.columns, index = self.dfObserved.index)\n",
    "        \n",
    "#        self._print_chisquare_result(colX, alpha)"
   ]
  },
  {
   "cell_type": "code",
   "execution_count": 32,
   "metadata": {},
   "outputs": [
    {
     "name": "stdout",
     "output_type": "stream",
     "text": [
      "Ethnicity is IMPORTANT for Prediction\n",
      "PriorDefault is IMPORTANT for Prediction\n",
      "Employed is IMPORTANT for Prediction\n",
      "CreditScore is IMPORTANT for Prediction\n",
      "DriversLicense is NOT an important predictor. (Discard DriversLicense from model)\n",
      "m_a is NOT an important predictor. (Discard m_a from model)\n",
      "m_b is NOT an important predictor. (Discard m_b from model)\n",
      "md_u is IMPORTANT for Prediction\n",
      "md_y is IMPORTANT for Prediction\n",
      "bc_g is IMPORTANT for Prediction\n",
      "bc_p is IMPORTANT for Prediction\n",
      "el_aa is NOT an important predictor. (Discard el_aa from model)\n",
      "el_c is NOT an important predictor. (Discard el_c from model)\n",
      "el_cc is NOT an important predictor. (Discard el_cc from model)\n",
      "el_d is NOT an important predictor. (Discard el_d from model)\n",
      "el_e is NOT an important predictor. (Discard el_e from model)\n",
      "el_ff is IMPORTANT for Prediction\n",
      "el_i is IMPORTANT for Prediction\n",
      "el_j is NOT an important predictor. (Discard el_j from model)\n",
      "el_k is NOT an important predictor. (Discard el_k from model)\n",
      "el_m is NOT an important predictor. (Discard el_m from model)\n",
      "el_q is IMPORTANT for Prediction\n",
      "el_r is NOT an important predictor. (Discard el_r from model)\n",
      "el_w is NOT an important predictor. (Discard el_w from model)\n",
      "el_x is IMPORTANT for Prediction\n",
      "ct_g is NOT an important predictor. (Discard ct_g from model)\n",
      "ct_s is NOT an important predictor. (Discard ct_s from model)\n",
      "Approved is IMPORTANT for Prediction\n"
     ]
    },
    {
     "name": "stderr",
     "output_type": "stream",
     "text": [
      "C:\\Users\\Home\\Anaconda3\\lib\\site-packages\\ipykernel_launcher.py:20: SettingWithCopyWarning: \n",
      "A value is trying to be set on a copy of a slice from a DataFrame.\n",
      "Try using .loc[row_indexer,col_indexer] = value instead\n",
      "\n",
      "See the caveats in the documentation: http://pandas.pydata.org/pandas-docs/stable/indexing.html#indexing-view-versus-copy\n",
      "C:\\Users\\Home\\Anaconda3\\lib\\site-packages\\ipykernel_launcher.py:21: SettingWithCopyWarning: \n",
      "A value is trying to be set on a copy of a slice from a DataFrame.\n",
      "Try using .loc[row_indexer,col_indexer] = value instead\n",
      "\n",
      "See the caveats in the documentation: http://pandas.pydata.org/pandas-docs/stable/indexing.html#indexing-view-versus-copy\n",
      "C:\\Users\\Home\\Anaconda3\\lib\\site-packages\\ipykernel_launcher.py:22: SettingWithCopyWarning: \n",
      "A value is trying to be set on a copy of a slice from a DataFrame.\n",
      "Try using .loc[row_indexer,col_indexer] = value instead\n",
      "\n",
      "See the caveats in the documentation: http://pandas.pydata.org/pandas-docs/stable/indexing.html#indexing-view-versus-copy\n",
      "C:\\Users\\Home\\Anaconda3\\lib\\site-packages\\ipykernel_launcher.py:23: SettingWithCopyWarning: \n",
      "A value is trying to be set on a copy of a slice from a DataFrame.\n",
      "Try using .loc[row_indexer,col_indexer] = value instead\n",
      "\n",
      "See the caveats in the documentation: http://pandas.pydata.org/pandas-docs/stable/indexing.html#indexing-view-versus-copy\n"
     ]
    }
   ],
   "source": [
    "# Using the same train,test split that was used for basic model building to compare between models.\n",
    "# Building model after selecting features using chi square test\n",
    "\n",
    "# X_train_Age = X_train['Age']\n",
    "# del X_train['Age']\n",
    "# X_train_Debt = X_train['Debt']\n",
    "# del X_train['Debt']\n",
    "# X_train_YearsEmployed = X_train['YearsEmployed']\n",
    "# del X_train['YearsEmployed']\n",
    "# X_train_Income =  X_train['Income']\n",
    "# del X_train['Income']\n",
    "\n",
    "# Initialize ChiSquare Class\n",
    "# cT = ChiSquare(X_train)\n",
    "# testColumns = X_train.columns\n",
    "\n",
    "# for var in testColumns:\n",
    "#     cT.TestIndependence(colX=var,colY=\"Approved\" )  \n",
    "\n",
    "# X_train['Age'] = X_train_Age\n",
    "# X_train['Debt'] = X_train_Debt\n",
    "# X_train['YearsEmployed'] = X_train_YearsEmployed\n",
    "# X_train['Income'] = X_train_Income\n",
    "\n",
    "# del X_train['Approved']\n",
    "# del X_test['Approved']"
   ]
  },
  {
   "cell_type": "code",
   "execution_count": 32,
   "metadata": {},
   "outputs": [],
   "source": [
    "# choosing best features.\n",
    "\n",
    "# del X_train['DriversLicense']\n",
    "# del X_train['m_a']\n",
    "# del X_train['m_b']\n",
    "# del X_train['el_aa']\n",
    "# del X_train['el_c']\n",
    "# del X_train['el_cc']\n",
    "# del X_train['el_d']\n",
    "# del X_train['el_e']\n",
    "# del X_train['el_j']\n",
    "# del X_train['el_k']\n",
    "# del X_train['el_m']\n",
    "# del X_train['el_r']\n",
    "# del X_train['el_w']\n",
    "# del X_train['ct_g']\n",
    "# del X_train['ct_s']\n",
    "\n",
    "# testCols = X_train.columns\n",
    "# X_test = X_test[testCols]\n",
    "\n",
    "# Logistic Regression model fitting.\n",
    "# from sklearn.linear_model import LogisticRegression\n",
    "# from sklearn import metrics\n",
    "# from sklearn.preprocessing import StandardScaler\n",
    "\n",
    "# logreg = LogisticRegression()\n",
    "# logreg.fit(X_train, y_train)\n",
    "# y_pred_test = logreg.predict(X_test)\n",
    "# y_pred_train = logreg.predict(X_train)\n",
    "\n",
    "# print ('Train')\n",
    "# from sklearn.metrics import roc_curve, auc\n",
    "# false_positive_rate, true_positive_rate, thresholds = roc_curve(y_train, y_pred_train)\n",
    "# roc_auc = auc(false_positive_rate, true_positive_rate)\n",
    "# print (roc_auc)\n",
    "# print (false_positive_rate)\n",
    "# print (true_positive_rate)\n",
    "\n",
    "# print('Accuracy of logistic regression classifier on test set: {:.2f}'.format(logreg.score(X_test, y_test)))\n",
    "# from sklearn.metrics import confusion_matrix\n",
    "# confusion_matrix = confusion_matrix(y_test, y_pred_test)\n",
    "# print(confusion_matrix)\n",
    "# from sklearn.metrics import classification_report\n",
    "# print(classification_report(y_test, y_pred_test))\n",
    "# print (X_train.columns)\n",
    "# print ('Model Coefficients')\n",
    "# print (logreg.coef_)\n",
    "\n",
    "# print ('Test')\n",
    "# from sklearn.metrics import roc_curve, auc\n",
    "# false_positive_rate, true_positive_rate, thresholds = roc_curve(y_test, y_pred_test)\n",
    "# roc_auc = auc(false_positive_rate, true_positive_rate)\n",
    "# print (roc_auc)\n",
    "# print (false_positive_rate)\n",
    "# print (true_positive_rate)\n",
    "\n",
    "# del X_train\n",
    "# del X_test\n",
    "# del y_train\n",
    "# del y_test"
   ]
  },
  {
   "cell_type": "code",
   "execution_count": 33,
   "metadata": {},
   "outputs": [],
   "source": [
    "#Actual model building for submission\n",
    "# from sklearn.model_selection import train_test_split\n",
    "# from sklearn.linear_model import LogisticRegression\n",
    "# from sklearn import metrics\n",
    "\n",
    "# Y = logTrain['Approved']\n",
    "# X = logTrain\n",
    "\n",
    "# et_mean_encode = logTrain.groupby('Ethnicity')['Approved'].mean()\n",
    "# logTrain.loc[:,'Ethnicity'] = logTrain['Ethnicity'].map(et_mean_encode)\n",
    "# logTest.loc[:,'Ethnicity'] = logTest['Ethnicity'].map(et_mean_encode)\n",
    "\n",
    "# del logTrain['Approved']\n",
    "\n",
    "# test_Key = logTest['Key']\n",
    "# del logTest['Key']\n",
    "# X_test = logTest\n",
    "\n",
    "# logreg = LogisticRegression()\n",
    "# logreg.fit(X, Y)\n",
    "\n",
    "# Approved = logreg.predict(X_test)\n",
    "# logTest['Approved'] = Approved\n",
    "# logTest['Key'] = test_Key\n",
    "\n",
    "# ensemble['Key'] = test_Key\n",
    "# ensemble['lr'] = logTest['Approved']\n",
    "\n",
    "# logTest.replace({'Approved':{1 :'+', 0 :'-'}}, inplace=True) \n",
    "# logTest.to_csv('submission7.csv')\n"
   ]
  },
  {
   "cell_type": "code",
   "execution_count": 34,
   "metadata": {},
   "outputs": [],
   "source": [
    "# del logTrain\n",
    "# del logTest"
   ]
  },
  {
   "cell_type": "code",
   "execution_count": 35,
   "metadata": {},
   "outputs": [],
   "source": [
    "#################### XGBoost Model fitting ####################"
   ]
  },
  {
   "cell_type": "code",
   "execution_count": 36,
   "metadata": {},
   "outputs": [],
   "source": [
    "#xgbTrain = train.copy(deep = True) # Deep copy so that changes in xgbTrain are not reflected in train\n",
    "#xgbTest = test.copy(deep = True)"
   ]
  },
  {
   "cell_type": "code",
   "execution_count": 37,
   "metadata": {},
   "outputs": [],
   "source": [
    "# Deleting columns which are not meaningful for model building.\n",
    "#del xgbTrain['Key']\n",
    "#del xgbTrain['ZipCode']\n",
    "\n",
    "#del xgbTest['ZipCode']"
   ]
  },
  {
   "cell_type": "code",
   "execution_count": 38,
   "metadata": {},
   "outputs": [],
   "source": [
    "#import xgboost as xgb\n",
    "\n",
    "#Y = xgbTrain['Approved']\n",
    "#X = xgbTrain\n",
    "\n",
    "#xgbTrain = xgbTrain[xgbTrain.Married != 'l'] \n",
    "#xgbTrain = xgbTrain[xgbTrain.Citizen != 'p']\n",
    "\n",
    "#X_train, X_test, y_train, y_test = train_test_split(X, Y, test_size=0.2, random_state=0)\n",
    "\n",
    "#et_mean_encode = X_train.groupby('Ethnicity')['Approved'].mean()\n",
    "#X_train.loc[:,'Ethnicity'] = X_train['Ethnicity'].map(et_mean_encode)\n",
    "#X_test.loc[:,'Ethnicity'] = X_test['Ethnicity'].map(et_mean_encode)\n",
    "\n",
    "#m_mean_encode = X_train.groupby('Male')['Approved'].mean()\n",
    "#X_train.loc[:,'Male'] = X_train['Male'].map(m_mean_encode)\n",
    "#X_test.loc[:,'Male'] = X_test['Male'].map(m_mean_encode)\n",
    "\n",
    "#md_mean_encode = X_train.groupby('Married')['Approved'].mean()\n",
    "#X_train.loc[:,'Married'] = X_train['Married'].map(md_mean_encode)\n",
    "#X_test.loc[:,'Married'] = X_test['Married'].map(md_mean_encode)\n",
    "\n",
    "#bc_mean_encode = X_train.groupby('BankCustomer')['Approved'].mean()\n",
    "#X_train.loc[:,'BankCustomer'] = X_train['BankCustomer'].map(bc_mean_encode)\n",
    "#X_test.loc[:,'BankCustomer'] = X_test['BankCustomer'].map(bc_mean_encode)\n",
    "\n",
    "#el_mean_encode = X_train.groupby('EducationLevel')['Approved'].mean()\n",
    "#X_train.loc[:,'EducationLevel'] = X_train['EducationLevel'].map(el_mean_encode)\n",
    "#X_test.loc[:,'EducationLevel'] = X_test['EducationLevel'].map(el_mean_encode)\n",
    "\n",
    "#ct_mean_encode = X_train.groupby('Citizen')['Approved'].mean()\n",
    "#X_train.loc[:,'Citizen'] = X_train['Citizen'].map(ct_mean_encode)\n",
    "#X_test.loc[:,'Citizen'] = X_test['Citizen'].map(ct_mean_encode)\n",
    "\n",
    "#del X_train['Approved']\n",
    "#del X_test['Approved']\n",
    "\n",
    "#xg = xgb.XGBClassifier(objective = 'reg:logistic')\n",
    "#xg.fit(X_train, y_train)\n",
    "\n",
    "#y_pred_train = xg.predict(X_train)\n",
    "#y_pred_test = xg.predict(X_test)\n",
    "\n",
    "#print (\"Train\")\n",
    "#from sklearn.metrics import roc_curve, auc\n",
    "#false_positive_rate, true_positive_rate, thresholds = roc_curve(y_train, y_pred_train)\n",
    "#roc_auc = auc(false_positive_rate, true_positive_rate)\n",
    "#print (roc_auc)\n",
    "#print (false_positive_rate)\n",
    "#print (true_positive_rate)\n",
    "\n",
    "#print(\"Test\")\n",
    "#from sklearn.metrics import roc_curve, auc\n",
    "#false_positive_rate, true_positive_rate, thresholds = roc_curve(y_test, y_pred_test)\n",
    "#roc_auc = auc(false_positive_rate, true_positive_rate)\n",
    "#print (roc_auc)\n",
    "#print (false_positive_rate)\n",
    "#print (true_positive_rate)\n",
    "\n",
    "\n",
    "#del X_train\n",
    "#del X_test\n",
    "#del y_train\n",
    "#del y_test"
   ]
  },
  {
   "cell_type": "code",
   "execution_count": 39,
   "metadata": {},
   "outputs": [],
   "source": [
    "# Actual model building for submission.\n",
    "#import xgboost as xgb\n",
    "\n",
    "#xgbTrain = xgbTrain[xgbTrain.Married != 'l'] \n",
    "#xgbTrain = xgbTrain[xgbTrain.Citizen != 'p']\n",
    "\n",
    "#Y = xgbTrain['Approved']\n",
    "\n",
    "#et_mean_encode = xgbTrain.groupby('Ethnicity')['Approved'].mean()\n",
    "#xgbTrain.loc[:,'Ethnicity'] = xgbTrain['Ethnicity'].map(et_mean_encode)\n",
    "#xgbTest.loc[:,'Ethnicity'] = xgbTest['Ethnicity'].map(et_mean_encode)\n",
    "\n",
    "#m_mean_encode = xgbTrain.groupby('Male')['Approved'].mean()\n",
    "#xgbTrain.loc[:,'Male'] = xgbTrain['Male'].map(m_mean_encode)\n",
    "#xgbTest.loc[:,'Male'] = xgbTest['Male'].map(m_mean_encode)\n",
    "\n",
    "#md_mean_encode = xgbTrain.groupby('Married')['Approved'].mean()\n",
    "#xgbTrain.loc[:,'Married'] = xgbTrain['Married'].map(md_mean_encode)\n",
    "#xgbTest.loc[:,'Married'] = xgbTest['Married'].map(md_mean_encode)\n",
    "\n",
    "#bc_mean_encode = xgbTrain.groupby('BankCustomer')['Approved'].mean()\n",
    "#xgbTrain.loc[:,'BankCustomer'] = xgbTrain['BankCustomer'].map(bc_mean_encode)\n",
    "#xgbTest.loc[:,'BankCustomer'] = xgbTest['BankCustomer'].map(bc_mean_encode)\n",
    "\n",
    "#el_mean_encode = xgbTrain.groupby('EducationLevel')['Approved'].mean()\n",
    "#xgbTrain.loc[:,'EducationLevel'] = xgbTrain['EducationLevel'].map(el_mean_encode)\n",
    "#xgbTest.loc[:,'EducationLevel'] = xgbTest['EducationLevel'].map(el_mean_encode)\n",
    "\n",
    "#ct_mean_encode = xgbTrain.groupby('Citizen')['Approved'].mean()\n",
    "#xgbTrain.loc[:,'Citizen'] = xgbTrain['Citizen'].map(ct_mean_encode)\n",
    "#xgbTest.loc[:,'Citizen'] = xgbTest['Citizen'].map(ct_mean_encode)\n",
    "\n",
    "#del xgbTrain['Approved']\n",
    "\n",
    "#test_Key = xgbTest['Key']\n",
    "#del xgbTest['Key']\n",
    "\n",
    "#xg = xgb.XGBClassifier(objective = 'reg:logistic')\n",
    "#xg.fit(xgbTrain, Y)\n",
    "\n",
    "#Approved = xg.predict(xgbTest)\n",
    "#xgbTest['Approved'] = Approved\n",
    "#xgbTest['Key'] = test_Key\n",
    "#ensemble['xgb'] = xgbTest['Approved']\n",
    "\n"
   ]
  },
  {
   "cell_type": "code",
   "execution_count": 40,
   "metadata": {},
   "outputs": [],
   "source": [
    "#################### RandomForest Model fitting ####################"
   ]
  },
  {
   "cell_type": "code",
   "execution_count": 41,
   "metadata": {},
   "outputs": [],
   "source": [
    "rfTrain = train.copy(deep = True) # Deep copy so that changes in rfTrain are not reflected in train\n",
    "rfTest = test.copy(deep = True)"
   ]
  },
  {
   "cell_type": "code",
   "execution_count": 42,
   "metadata": {},
   "outputs": [],
   "source": [
    "# Deleting columns which are not meaningful for model building.\n",
    "del rfTrain['Key']\n",
    "del rfTrain['ZipCode']\n",
    "\n",
    "del rfTest['ZipCode']"
   ]
  },
  {
   "cell_type": "code",
   "execution_count": 44,
   "metadata": {},
   "outputs": [
    {
     "name": "stderr",
     "output_type": "stream",
     "text": [
      "C:\\Users\\Home\\Anaconda3\\lib\\site-packages\\pandas\\core\\indexing.py:543: SettingWithCopyWarning: \n",
      "A value is trying to be set on a copy of a slice from a DataFrame.\n",
      "Try using .loc[row_indexer,col_indexer] = value instead\n",
      "\n",
      "See the caveats in the documentation: http://pandas.pydata.org/pandas-docs/stable/indexing.html#indexing-view-versus-copy\n",
      "  self.obj[item] = s\n"
     ]
    },
    {
     "name": "stdout",
     "output_type": "stream",
     "text": [
      "Train\n",
      "0.9871283255086073\n",
      "[0.         0.00352113 1.        ]\n",
      "[0.         0.97777778 1.        ]\n",
      "[[65  6]\n",
      " [ 6 40]]\n",
      "Test\n",
      "0.8925290875688916\n",
      "[0.         0.08450704 1.        ]\n",
      "[0.         0.86956522 1.        ]\n"
     ]
    },
    {
     "name": "stderr",
     "output_type": "stream",
     "text": [
      "C:\\Users\\Home\\Anaconda3\\lib\\site-packages\\sklearn\\ensemble\\forest.py:245: FutureWarning: The default value of n_estimators will change from 10 in version 0.20 to 100 in 0.22.\n",
      "  \"10 in version 0.20 to 100 in 0.22.\", FutureWarning)\n"
     ]
    }
   ],
   "source": [
    "from sklearn.ensemble import RandomForestClassifier\n",
    "from sklearn.model_selection import train_test_split\n",
    "\n",
    "Y = rfTrain['Approved']\n",
    "X = rfTrain\n",
    "\n",
    "rfTrain = rfTrain[rfTrain.Married != 'l'] \n",
    "rfTrain = rfTrain[rfTrain.Citizen != 'p']\n",
    "\n",
    "X_train, X_test, y_train, y_test = train_test_split(X, Y, test_size=0.2, random_state=0)\n",
    "\n",
    "et_mean_encode = X_train.groupby('Ethnicity')['Approved'].mean()\n",
    "X_train.loc[:,'Ethnicity'] = X_train['Ethnicity'].map(et_mean_encode)\n",
    "X_test.loc[:,'Ethnicity'] = X_test['Ethnicity'].map(et_mean_encode)\n",
    "\n",
    "m_mean_encode = X_train.groupby('Male')['Approved'].mean()\n",
    "X_train.loc[:,'Male'] = X_train['Male'].map(m_mean_encode)\n",
    "X_test.loc[:,'Male'] = X_test['Male'].map(m_mean_encode)\n",
    "\n",
    "md_mean_encode = X_train.groupby('Married')['Approved'].mean()\n",
    "X_train.loc[:,'Married'] = X_train['Married'].map(md_mean_encode)\n",
    "X_test.loc[:,'Married'] = X_test['Married'].map(md_mean_encode)\n",
    "\n",
    "bc_mean_encode = X_train.groupby('BankCustomer')['Approved'].mean()\n",
    "X_train.loc[:,'BankCustomer'] = X_train['BankCustomer'].map(bc_mean_encode)\n",
    "X_test.loc[:,'BankCustomer'] = X_test['BankCustomer'].map(bc_mean_encode)\n",
    "\n",
    "el_mean_encode = X_train.groupby('EducationLevel')['Approved'].mean()\n",
    "X_train.loc[:,'EducationLevel'] = X_train['EducationLevel'].map(el_mean_encode)\n",
    "X_test.loc[:,'EducationLevel'] = X_test['EducationLevel'].map(el_mean_encode)\n",
    "\n",
    "ct_mean_encode = X_train.groupby('Citizen')['Approved'].mean()\n",
    "X_train.loc[:,'Citizen'] = X_train['Citizen'].map(ct_mean_encode)\n",
    "X_test.loc[:,'Citizen'] = X_test['Citizen'].map(ct_mean_encode)\n",
    "\n",
    "del X_train['Approved']\n",
    "del X_test['Approved']\n",
    "\n",
    "rf = RandomForestClassifier()\n",
    "rf.fit(X_train, y_train)\n",
    "y_pred_test = rf.predict(X_test)\n",
    "y_pred_train = rf.predict(X_train)\n",
    "\n",
    "print ('Train')\n",
    "from sklearn.metrics import roc_curve, auc\n",
    "false_positive_rate, true_positive_rate, thresholds = roc_curve(y_train, y_pred_train)\n",
    "roc_auc = auc(false_positive_rate, true_positive_rate)\n",
    "print (roc_auc)\n",
    "print (false_positive_rate)\n",
    "print (true_positive_rate)\n",
    "\n",
    "from sklearn.metrics import confusion_matrix\n",
    "confusion_matrix = confusion_matrix(y_test, y_pred_test)\n",
    "print(confusion_matrix)\n",
    "\n",
    "print ('Test')\n",
    "from sklearn.metrics import roc_curve, auc\n",
    "false_positive_rate, true_positive_rate, thresholds = roc_curve(y_test, y_pred_test)\n",
    "roc_auc = auc(false_positive_rate, true_positive_rate)\n",
    "print (roc_auc)\n",
    "print (false_positive_rate)\n",
    "print (true_positive_rate)"
   ]
  },
  {
   "cell_type": "code",
   "execution_count": 45,
   "metadata": {},
   "outputs": [
    {
     "name": "stdout",
     "output_type": "stream",
     "text": [
      "********** Train **********\n",
      "1\n",
      "0.9357198748043818\n",
      "Test\n",
      "0.8253214941824862\n",
      "********** Train **********\n",
      "2\n",
      "0.9068466353677621\n",
      "Test\n",
      "0.8087875076546233\n",
      "********** Train **********\n",
      "4\n",
      "0.9426838810641628\n",
      "Test\n",
      "0.8413962033067973\n",
      "********** Train **********\n",
      "5\n",
      "0.9773082942097028\n",
      "Test\n",
      "0.8534905082669932\n",
      "********** Train **********\n",
      "8\n",
      "0.9843505477308295\n",
      "Test\n",
      "0.8675750153092467\n",
      "********** Train **********\n",
      "16\n",
      "0.9944444444444445\n",
      "Test\n",
      "0.8784445805266381\n",
      "********** Train **********\n",
      "32\n",
      "0.9972222222222222\n",
      "Test\n",
      "0.8925290875688916\n",
      "********** Train **********\n",
      "64\n",
      "1.0\n",
      "Test\n",
      "0.8963563992651562\n"
     ]
    },
    {
     "data": {
      "image/png": "[encoded data removed]",
      "text/plain": [
       "<Figure size 432x288 with 1 Axes>"
      ]
     },
     "metadata": {
      "needs_background": "light"
     },
     "output_type": "display_data"
    }
   ],
   "source": [
    "# Tuning Random forest parameters\n",
    "\n",
    "n_estimators = [1, 2, 4, 5, 8, 16, 32, 64]\n",
    "train_results = []\n",
    "test_results = []\n",
    "for estimator in n_estimators:\n",
    "    rf = RandomForestClassifier(n_estimators=estimator, n_jobs=-1)\n",
    "    rf.fit(X_train, y_train)\n",
    "    train_pred = rf.predict(X_train)\n",
    "    false_positive_rate, true_positive_rate, thresholds = roc_curve(y_train, train_pred)\n",
    "    roc_auc = auc(false_positive_rate, true_positive_rate)\n",
    "    print (\"********** Train **********\")\n",
    "    print (estimator)\n",
    "    print (roc_auc)\n",
    "    train_results.append(roc_auc)\n",
    "    y_pred = rf.predict(X_test)\n",
    "    false_positive_rate, true_positive_rate, thresholds = roc_curve(y_test, y_pred)\n",
    "    roc_auc = auc(false_positive_rate, true_positive_rate)\n",
    "    print (\"Test\")\n",
    "    print (roc_auc)\n",
    "    test_results.append(roc_auc)\n",
    "    \n",
    "from matplotlib.legend_handler import HandlerLine2D\n",
    "line1 = plt.plot(n_estimators, train_results, 'b', label='Train AUC')\n",
    "line2 = plt.plot(n_estimators, test_results, 'r', label='Test AUC')\n",
    "plt.ylabel('AUC score')\n",
    "plt.xlabel('n_estimators')\n",
    "plt.show()"
   ]
  },
  {
   "cell_type": "code",
   "execution_count": 46,
   "metadata": {},
   "outputs": [
    {
     "name": "stderr",
     "output_type": "stream",
     "text": [
      "C:\\Users\\Home\\Anaconda3\\lib\\site-packages\\sklearn\\ensemble\\forest.py:245: FutureWarning: The default value of n_estimators will change from 10 in version 0.20 to 100 in 0.22.\n",
      "  \"10 in version 0.20 to 100 in 0.22.\", FutureWarning)\n"
     ]
    },
    {
     "name": "stdout",
     "output_type": "stream",
     "text": [
      "********** Train **********\n",
      "1.0\n",
      "0.8253521126760563\n",
      "Test\n",
      "0.8887017758726271\n"
     ]
    },
    {
     "name": "stderr",
     "output_type": "stream",
     "text": [
      "C:\\Users\\Home\\Anaconda3\\lib\\site-packages\\sklearn\\ensemble\\forest.py:245: FutureWarning: The default value of n_estimators will change from 10 in version 0.20 to 100 in 0.22.\n",
      "  \"10 in version 0.20 to 100 in 0.22.\", FutureWarning)\n"
     ]
    },
    {
     "name": "stdout",
     "output_type": "stream",
     "text": [
      "********** Train **********\n",
      "2.0\n",
      "0.8134976525821596\n",
      "Test\n",
      "0.856093080220453\n"
     ]
    },
    {
     "name": "stderr",
     "output_type": "stream",
     "text": [
      "C:\\Users\\Home\\Anaconda3\\lib\\site-packages\\sklearn\\ensemble\\forest.py:245: FutureWarning: The default value of n_estimators will change from 10 in version 0.20 to 100 in 0.22.\n",
      "  \"10 in version 0.20 to 100 in 0.22.\", FutureWarning)\n"
     ]
    },
    {
     "name": "stdout",
     "output_type": "stream",
     "text": [
      "********** Train **********\n",
      "3.0\n",
      "0.8832942097026604\n",
      "Test\n",
      "0.911053276178812\n"
     ]
    },
    {
     "name": "stderr",
     "output_type": "stream",
     "text": [
      "C:\\Users\\Home\\Anaconda3\\lib\\site-packages\\sklearn\\ensemble\\forest.py:245: FutureWarning: The default value of n_estimators will change from 10 in version 0.20 to 100 in 0.22.\n",
      "  \"10 in version 0.20 to 100 in 0.22.\", FutureWarning)\n"
     ]
    },
    {
     "name": "stdout",
     "output_type": "stream",
     "text": [
      "********** Train **********\n",
      "4.0\n",
      "0.8836854460093897\n",
      "Test\n",
      "0.8854868340477647\n"
     ]
    },
    {
     "name": "stderr",
     "output_type": "stream",
     "text": [
      "C:\\Users\\Home\\Anaconda3\\lib\\site-packages\\sklearn\\ensemble\\forest.py:245: FutureWarning: The default value of n_estimators will change from 10 in version 0.20 to 100 in 0.22.\n",
      "  \"10 in version 0.20 to 100 in 0.22.\", FutureWarning)\n"
     ]
    },
    {
     "name": "stdout",
     "output_type": "stream",
     "text": [
      "********** Train **********\n",
      "5.0\n",
      "0.881455399061033\n",
      "Test\n",
      "0.8567054500918556\n"
     ]
    },
    {
     "name": "stderr",
     "output_type": "stream",
     "text": [
      "C:\\Users\\Home\\Anaconda3\\lib\\site-packages\\sklearn\\ensemble\\forest.py:245: FutureWarning: The default value of n_estimators will change from 10 in version 0.20 to 100 in 0.22.\n",
      "  \"10 in version 0.20 to 100 in 0.22.\", FutureWarning)\n"
     ]
    },
    {
     "name": "stdout",
     "output_type": "stream",
     "text": [
      "********** Train **********\n",
      "6.0\n",
      "0.935172143974961\n",
      "Test\n",
      "0.86053276178812\n"
     ]
    },
    {
     "name": "stderr",
     "output_type": "stream",
     "text": [
      "C:\\Users\\Home\\Anaconda3\\lib\\site-packages\\sklearn\\ensemble\\forest.py:245: FutureWarning: The default value of n_estimators will change from 10 in version 0.20 to 100 in 0.22.\n",
      "  \"10 in version 0.20 to 100 in 0.22.\", FutureWarning)\n"
     ]
    },
    {
     "name": "stdout",
     "output_type": "stream",
     "text": [
      "********** Train **********\n",
      "7.0\n",
      "0.9268388106416275\n",
      "Test\n",
      "0.8567054500918556\n"
     ]
    },
    {
     "name": "stderr",
     "output_type": "stream",
     "text": [
      "C:\\Users\\Home\\Anaconda3\\lib\\site-packages\\sklearn\\ensemble\\forest.py:245: FutureWarning: The default value of n_estimators will change from 10 in version 0.20 to 100 in 0.22.\n",
      "  \"10 in version 0.20 to 100 in 0.22.\", FutureWarning)\n"
     ]
    },
    {
     "name": "stdout",
     "output_type": "stream",
     "text": [
      "********** Train **********\n",
      "8.0\n",
      "0.9724960876369328\n",
      "Test\n",
      "0.8746172688303736\n"
     ]
    },
    {
     "name": "stderr",
     "output_type": "stream",
     "text": [
      "C:\\Users\\Home\\Anaconda3\\lib\\site-packages\\sklearn\\ensemble\\forest.py:245: FutureWarning: The default value of n_estimators will change from 10 in version 0.20 to 100 in 0.22.\n",
      "  \"10 in version 0.20 to 100 in 0.22.\", FutureWarning)\n"
     ]
    },
    {
     "name": "stdout",
     "output_type": "stream",
     "text": [
      "********** Train **********\n",
      "9.0\n",
      "0.9735133020344289\n",
      "Test\n",
      "0.8854868340477647\n"
     ]
    },
    {
     "name": "stderr",
     "output_type": "stream",
     "text": [
      "C:\\Users\\Home\\Anaconda3\\lib\\site-packages\\sklearn\\ensemble\\forest.py:245: FutureWarning: The default value of n_estimators will change from 10 in version 0.20 to 100 in 0.22.\n",
      "  \"10 in version 0.20 to 100 in 0.22.\", FutureWarning)\n"
     ]
    },
    {
     "name": "stdout",
     "output_type": "stream",
     "text": [
      "********** Train **********\n",
      "10.0\n",
      "0.97981220657277\n",
      "Test\n",
      "0.8854868340477647\n"
     ]
    },
    {
     "name": "stderr",
     "output_type": "stream",
     "text": [
      "C:\\Users\\Home\\Anaconda3\\lib\\site-packages\\sklearn\\ensemble\\forest.py:245: FutureWarning: The default value of n_estimators will change from 10 in version 0.20 to 100 in 0.22.\n",
      "  \"10 in version 0.20 to 100 in 0.22.\", FutureWarning)\n"
     ]
    },
    {
     "name": "stdout",
     "output_type": "stream",
     "text": [
      "********** Train **********\n",
      "11.0\n",
      "0.9833333333333334\n",
      "Test\n",
      "0.8816595223515002\n"
     ]
    },
    {
     "name": "stderr",
     "output_type": "stream",
     "text": [
      "C:\\Users\\Home\\Anaconda3\\lib\\site-packages\\sklearn\\ensemble\\forest.py:245: FutureWarning: The default value of n_estimators will change from 10 in version 0.20 to 100 in 0.22.\n",
      "  \"10 in version 0.20 to 100 in 0.22.\", FutureWarning)\n"
     ]
    },
    {
     "name": "stdout",
     "output_type": "stream",
     "text": [
      "********** Train **********\n",
      "12.0\n",
      "0.9888888888888889\n",
      "Test\n",
      "0.8746172688303736\n"
     ]
    },
    {
     "name": "stderr",
     "output_type": "stream",
     "text": [
      "C:\\Users\\Home\\Anaconda3\\lib\\site-packages\\sklearn\\ensemble\\forest.py:245: FutureWarning: The default value of n_estimators will change from 10 in version 0.20 to 100 in 0.22.\n",
      "  \"10 in version 0.20 to 100 in 0.22.\", FutureWarning)\n"
     ]
    },
    {
     "name": "stdout",
     "output_type": "stream",
     "text": [
      "********** Train **********\n",
      "13.0\n",
      "0.9760172143974962\n",
      "Test\n",
      "0.8675750153092467\n"
     ]
    },
    {
     "name": "stderr",
     "output_type": "stream",
     "text": [
      "C:\\Users\\Home\\Anaconda3\\lib\\site-packages\\sklearn\\ensemble\\forest.py:245: FutureWarning: The default value of n_estimators will change from 10 in version 0.20 to 100 in 0.22.\n",
      "  \"10 in version 0.20 to 100 in 0.22.\", FutureWarning)\n"
     ]
    },
    {
     "name": "stdout",
     "output_type": "stream",
     "text": [
      "********** Train **********\n",
      "14.0\n",
      "0.9916666666666667\n",
      "Test\n",
      "0.8816595223515002\n"
     ]
    },
    {
     "name": "stderr",
     "output_type": "stream",
     "text": [
      "C:\\Users\\Home\\Anaconda3\\lib\\site-packages\\sklearn\\ensemble\\forest.py:245: FutureWarning: The default value of n_estimators will change from 10 in version 0.20 to 100 in 0.22.\n",
      "  \"10 in version 0.20 to 100 in 0.22.\", FutureWarning)\n"
     ]
    },
    {
     "name": "stdout",
     "output_type": "stream",
     "text": [
      "********** Train **********\n",
      "15.0\n",
      "0.97981220657277\n",
      "Test\n",
      "0.8925290875688916\n"
     ]
    },
    {
     "name": "stderr",
     "output_type": "stream",
     "text": [
      "C:\\Users\\Home\\Anaconda3\\lib\\site-packages\\sklearn\\ensemble\\forest.py:245: FutureWarning: The default value of n_estimators will change from 10 in version 0.20 to 100 in 0.22.\n",
      "  \"10 in version 0.20 to 100 in 0.22.\", FutureWarning)\n"
     ]
    },
    {
     "name": "stdout",
     "output_type": "stream",
     "text": [
      "********** Train **********\n",
      "16.0\n",
      "0.978794992175274\n",
      "Test\n",
      "0.8746172688303736\n"
     ]
    },
    {
     "name": "stderr",
     "output_type": "stream",
     "text": [
      "C:\\Users\\Home\\Anaconda3\\lib\\site-packages\\sklearn\\ensemble\\forest.py:245: FutureWarning: The default value of n_estimators will change from 10 in version 0.20 to 100 in 0.22.\n",
      "  \"10 in version 0.20 to 100 in 0.22.\", FutureWarning)\n"
     ]
    },
    {
     "name": "stdout",
     "output_type": "stream",
     "text": [
      "********** Train **********\n",
      "17.0\n",
      "0.9899061032863851\n",
      "Test\n",
      "0.86053276178812\n"
     ]
    },
    {
     "name": "stderr",
     "output_type": "stream",
     "text": [
      "C:\\Users\\Home\\Anaconda3\\lib\\site-packages\\sklearn\\ensemble\\forest.py:245: FutureWarning: The default value of n_estimators will change from 10 in version 0.20 to 100 in 0.22.\n",
      "  \"10 in version 0.20 to 100 in 0.22.\", FutureWarning)\n"
     ]
    },
    {
     "name": "stdout",
     "output_type": "stream",
     "text": [
      "********** Train **********\n",
      "18.0\n",
      "0.9843505477308295\n",
      "Test\n",
      "0.852878138395591\n"
     ]
    },
    {
     "name": "stderr",
     "output_type": "stream",
     "text": [
      "C:\\Users\\Home\\Anaconda3\\lib\\site-packages\\sklearn\\ensemble\\forest.py:245: FutureWarning: The default value of n_estimators will change from 10 in version 0.20 to 100 in 0.22.\n",
      "  \"10 in version 0.20 to 100 in 0.22.\", FutureWarning)\n"
     ]
    },
    {
     "name": "stdout",
     "output_type": "stream",
     "text": [
      "********** Train **********\n",
      "19.0\n",
      "0.9843505477308295\n",
      "Test\n",
      "0.8816595223515002\n"
     ]
    },
    {
     "name": "stderr",
     "output_type": "stream",
     "text": [
      "C:\\Users\\Home\\Anaconda3\\lib\\site-packages\\sklearn\\ensemble\\forest.py:245: FutureWarning: The default value of n_estimators will change from 10 in version 0.20 to 100 in 0.22.\n",
      "  \"10 in version 0.20 to 100 in 0.22.\", FutureWarning)\n"
     ]
    },
    {
     "name": "stdout",
     "output_type": "stream",
     "text": [
      "********** Train **********\n",
      "20.0\n",
      "0.9899061032863851\n",
      "Test\n",
      "0.903398652786283\n"
     ]
    },
    {
     "name": "stderr",
     "output_type": "stream",
     "text": [
      "C:\\Users\\Home\\Anaconda3\\lib\\site-packages\\sklearn\\ensemble\\forest.py:245: FutureWarning: The default value of n_estimators will change from 10 in version 0.20 to 100 in 0.22.\n",
      "  \"10 in version 0.20 to 100 in 0.22.\", FutureWarning)\n"
     ]
    },
    {
     "name": "stdout",
     "output_type": "stream",
     "text": [
      "********** Train **********\n",
      "21.0\n",
      "0.9899061032863851\n",
      "Test\n",
      "0.9072259644825474\n"
     ]
    },
    {
     "name": "stderr",
     "output_type": "stream",
     "text": [
      "C:\\Users\\Home\\Anaconda3\\lib\\site-packages\\sklearn\\ensemble\\forest.py:245: FutureWarning: The default value of n_estimators will change from 10 in version 0.20 to 100 in 0.22.\n",
      "  \"10 in version 0.20 to 100 in 0.22.\", FutureWarning)\n"
     ]
    },
    {
     "name": "stdout",
     "output_type": "stream",
     "text": [
      "********** Train **********\n",
      "22.0\n",
      "0.9888888888888889\n",
      "Test\n",
      "0.8893141457440294\n"
     ]
    },
    {
     "name": "stderr",
     "output_type": "stream",
     "text": [
      "C:\\Users\\Home\\Anaconda3\\lib\\site-packages\\sklearn\\ensemble\\forest.py:245: FutureWarning: The default value of n_estimators will change from 10 in version 0.20 to 100 in 0.22.\n",
      "  \"10 in version 0.20 to 100 in 0.22.\", FutureWarning)\n"
     ]
    },
    {
     "name": "stdout",
     "output_type": "stream",
     "text": [
      "********** Train **********\n",
      "23.0\n",
      "0.9899061032863851\n",
      "Test\n",
      "0.8675750153092467\n"
     ]
    },
    {
     "name": "stderr",
     "output_type": "stream",
     "text": [
      "C:\\Users\\Home\\Anaconda3\\lib\\site-packages\\sklearn\\ensemble\\forest.py:245: FutureWarning: The default value of n_estimators will change from 10 in version 0.20 to 100 in 0.22.\n",
      "  \"10 in version 0.20 to 100 in 0.22.\", FutureWarning)\n"
     ]
    },
    {
     "name": "stdout",
     "output_type": "stream",
     "text": [
      "********** Train **********\n",
      "24.0\n",
      "0.9916666666666667\n",
      "Test\n",
      "0.8420085731781995\n"
     ]
    },
    {
     "name": "stderr",
     "output_type": "stream",
     "text": [
      "C:\\Users\\Home\\Anaconda3\\lib\\site-packages\\sklearn\\ensemble\\forest.py:245: FutureWarning: The default value of n_estimators will change from 10 in version 0.20 to 100 in 0.22.\n",
      "  \"10 in version 0.20 to 100 in 0.22.\", FutureWarning)\n"
     ]
    },
    {
     "name": "stdout",
     "output_type": "stream",
     "text": [
      "********** Train **********\n",
      "25.0\n",
      "0.9861111111111112\n",
      "Test\n",
      "0.9104409063074097\n"
     ]
    },
    {
     "name": "stderr",
     "output_type": "stream",
     "text": [
      "C:\\Users\\Home\\Anaconda3\\lib\\site-packages\\sklearn\\ensemble\\forest.py:245: FutureWarning: The default value of n_estimators will change from 10 in version 0.20 to 100 in 0.22.\n",
      "  \"10 in version 0.20 to 100 in 0.22.\", FutureWarning)\n"
     ]
    },
    {
     "name": "stdout",
     "output_type": "stream",
     "text": [
      "********** Train **********\n",
      "26.0\n",
      "0.9833333333333334\n",
      "Test\n",
      "0.9104409063074097\n"
     ]
    },
    {
     "name": "stderr",
     "output_type": "stream",
     "text": [
      "C:\\Users\\Home\\Anaconda3\\lib\\site-packages\\sklearn\\ensemble\\forest.py:245: FutureWarning: The default value of n_estimators will change from 10 in version 0.20 to 100 in 0.22.\n",
      "  \"10 in version 0.20 to 100 in 0.22.\", FutureWarning)\n"
     ]
    },
    {
     "name": "stdout",
     "output_type": "stream",
     "text": [
      "********** Train **********\n",
      "27.0\n",
      "0.9871283255086073\n",
      "Test\n",
      "0.8925290875688916\n"
     ]
    },
    {
     "name": "stderr",
     "output_type": "stream",
     "text": [
      "C:\\Users\\Home\\Anaconda3\\lib\\site-packages\\sklearn\\ensemble\\forest.py:245: FutureWarning: The default value of n_estimators will change from 10 in version 0.20 to 100 in 0.22.\n",
      "  \"10 in version 0.20 to 100 in 0.22.\", FutureWarning)\n"
     ]
    },
    {
     "name": "stdout",
     "output_type": "stream",
     "text": [
      "********** Train **********\n",
      "28.0\n",
      "0.9916666666666667\n",
      "Test\n",
      "0.8778322106552359\n"
     ]
    },
    {
     "name": "stderr",
     "output_type": "stream",
     "text": [
      "C:\\Users\\Home\\Anaconda3\\lib\\site-packages\\sklearn\\ensemble\\forest.py:245: FutureWarning: The default value of n_estimators will change from 10 in version 0.20 to 100 in 0.22.\n",
      "  \"10 in version 0.20 to 100 in 0.22.\", FutureWarning)\n"
     ]
    },
    {
     "name": "stdout",
     "output_type": "stream",
     "text": [
      "********** Train **********\n",
      "29.0\n",
      "0.9853677621283256\n",
      "Test\n",
      "0.921310471524801\n"
     ]
    },
    {
     "name": "stderr",
     "output_type": "stream",
     "text": [
      "C:\\Users\\Home\\Anaconda3\\lib\\site-packages\\sklearn\\ensemble\\forest.py:245: FutureWarning: The default value of n_estimators will change from 10 in version 0.20 to 100 in 0.22.\n",
      "  \"10 in version 0.20 to 100 in 0.22.\", FutureWarning)\n"
     ]
    },
    {
     "name": "stdout",
     "output_type": "stream",
     "text": [
      "********** Train **********\n",
      "30.0\n",
      "0.9888888888888889\n",
      "Test\n",
      "0.8740048989589712\n"
     ]
    },
    {
     "name": "stderr",
     "output_type": "stream",
     "text": [
      "C:\\Users\\Home\\Anaconda3\\lib\\site-packages\\sklearn\\ensemble\\forest.py:245: FutureWarning: The default value of n_estimators will change from 10 in version 0.20 to 100 in 0.22.\n",
      "  \"10 in version 0.20 to 100 in 0.22.\", FutureWarning)\n"
     ]
    },
    {
     "name": "stdout",
     "output_type": "stream",
     "text": [
      "********** Train **********\n",
      "31.0\n",
      "0.9853677621283256\n",
      "Test\n",
      "0.8567054500918556\n"
     ]
    },
    {
     "name": "stderr",
     "output_type": "stream",
     "text": [
      "C:\\Users\\Home\\Anaconda3\\lib\\site-packages\\sklearn\\ensemble\\forest.py:245: FutureWarning: The default value of n_estimators will change from 10 in version 0.20 to 100 in 0.22.\n",
      "  \"10 in version 0.20 to 100 in 0.22.\", FutureWarning)\n"
     ]
    },
    {
     "name": "stdout",
     "output_type": "stream",
     "text": [
      "********** Train **********\n",
      "32.0\n",
      "0.9871283255086073\n",
      "Test\n",
      "0.903398652786283\n"
     ]
    },
    {
     "data": {
      "image/png": "[encoded data removed]",
      "text/plain": [
       "<Figure size 432x288 with 1 Axes>"
      ]
     },
     "metadata": {
      "needs_background": "light"
     },
     "output_type": "display_data"
    }
   ],
   "source": [
    "max_depths = np.linspace(1, 32, 32, endpoint=True)\n",
    "train_results = []\n",
    "test_results = []\n",
    "for max_depth in max_depths:\n",
    "    rf = RandomForestClassifier(max_depth=max_depth, n_jobs=-1)\n",
    "    rf.fit(X_train, y_train)\n",
    "    train_pred = rf.predict(X_train)\n",
    "    false_positive_rate, true_positive_rate, thresholds = roc_curve(y_train, train_pred)\n",
    "    roc_auc = auc(false_positive_rate, true_positive_rate)\n",
    "    print (\"********** Train **********\")\n",
    "    print (max_depth)\n",
    "    print (roc_auc)\n",
    "    train_results.append(roc_auc)\n",
    "    y_pred = rf.predict(X_test)\n",
    "    false_positive_rate, true_positive_rate, thresholds = roc_curve(y_test, y_pred)\n",
    "    roc_auc = auc(false_positive_rate, true_positive_rate)\n",
    "    print (\"Test\")\n",
    "    print (roc_auc)\n",
    "    test_results.append(roc_auc)\n",
    "from matplotlib.legend_handler import HandlerLine2D\n",
    "line1, = plt.plot(max_depths, train_results, 'b', label='Train AUC')\n",
    "line2, = plt.plot(max_depths, test_results, 'r', label='Test AUC')\n",
    "plt.ylabel('AUC score')\n",
    "plt.xlabel('Tree depth')\n",
    "plt.show()"
   ]
  },
  {
   "cell_type": "code",
   "execution_count": 47,
   "metadata": {},
   "outputs": [
    {
     "name": "stderr",
     "output_type": "stream",
     "text": [
      "C:\\Users\\Home\\Anaconda3\\lib\\site-packages\\sklearn\\ensemble\\forest.py:245: FutureWarning: The default value of n_estimators will change from 10 in version 0.20 to 100 in 0.22.\n",
      "  \"10 in version 0.20 to 100 in 0.22.\", FutureWarning)\n",
      "C:\\Users\\Home\\Anaconda3\\lib\\site-packages\\sklearn\\ensemble\\forest.py:245: FutureWarning: The default value of n_estimators will change from 10 in version 0.20 to 100 in 0.22.\n",
      "  \"10 in version 0.20 to 100 in 0.22.\", FutureWarning)\n",
      "C:\\Users\\Home\\Anaconda3\\lib\\site-packages\\sklearn\\ensemble\\forest.py:245: FutureWarning: The default value of n_estimators will change from 10 in version 0.20 to 100 in 0.22.\n",
      "  \"10 in version 0.20 to 100 in 0.22.\", FutureWarning)\n",
      "C:\\Users\\Home\\Anaconda3\\lib\\site-packages\\sklearn\\ensemble\\forest.py:245: FutureWarning: The default value of n_estimators will change from 10 in version 0.20 to 100 in 0.22.\n",
      "  \"10 in version 0.20 to 100 in 0.22.\", FutureWarning)\n",
      "C:\\Users\\Home\\Anaconda3\\lib\\site-packages\\sklearn\\ensemble\\forest.py:245: FutureWarning: The default value of n_estimators will change from 10 in version 0.20 to 100 in 0.22.\n",
      "  \"10 in version 0.20 to 100 in 0.22.\", FutureWarning)\n",
      "C:\\Users\\Home\\Anaconda3\\lib\\site-packages\\sklearn\\ensemble\\forest.py:245: FutureWarning: The default value of n_estimators will change from 10 in version 0.20 to 100 in 0.22.\n",
      "  \"10 in version 0.20 to 100 in 0.22.\", FutureWarning)\n",
      "C:\\Users\\Home\\Anaconda3\\lib\\site-packages\\sklearn\\ensemble\\forest.py:245: FutureWarning: The default value of n_estimators will change from 10 in version 0.20 to 100 in 0.22.\n",
      "  \"10 in version 0.20 to 100 in 0.22.\", FutureWarning)\n",
      "C:\\Users\\Home\\Anaconda3\\lib\\site-packages\\sklearn\\ensemble\\forest.py:245: FutureWarning: The default value of n_estimators will change from 10 in version 0.20 to 100 in 0.22.\n",
      "  \"10 in version 0.20 to 100 in 0.22.\", FutureWarning)\n",
      "C:\\Users\\Home\\Anaconda3\\lib\\site-packages\\sklearn\\ensemble\\forest.py:245: FutureWarning: The default value of n_estimators will change from 10 in version 0.20 to 100 in 0.22.\n",
      "  \"10 in version 0.20 to 100 in 0.22.\", FutureWarning)\n",
      "C:\\Users\\Home\\Anaconda3\\lib\\site-packages\\sklearn\\ensemble\\forest.py:245: FutureWarning: The default value of n_estimators will change from 10 in version 0.20 to 100 in 0.22.\n",
      "  \"10 in version 0.20 to 100 in 0.22.\", FutureWarning)\n"
     ]
    },
    {
     "name": "stdout",
     "output_type": "stream",
     "text": [
      "********** Train **********\n",
      "0.1\n",
      "0.8771909233176839\n",
      "Test\n",
      "0.8963563992651562\n",
      "********** Train **********\n",
      "0.2\n",
      "0.8757042253521128\n",
      "Test\n",
      "0.8643600734843845\n",
      "********** Train **********\n",
      "0.30000000000000004\n",
      "0.8395148669796557\n",
      "Test\n",
      "0.8170545009185548\n",
      "********** Train **********\n",
      "0.4\n",
      "0.8104460093896713\n",
      "Test\n",
      "0.8599203919167178\n",
      "********** Train **********\n",
      "0.5\n",
      "0.7952660406885759\n",
      "Test\n",
      "0.8663502755664422\n",
      "********** Train **********\n",
      "0.6\n",
      "0.7162754303599375\n",
      "Test\n",
      "0.7767911818738519\n",
      "********** Train **********\n",
      "0.7000000000000001\n",
      "0.5\n",
      "Test\n",
      "0.5\n",
      "********** Train **********\n",
      "0.8\n",
      "0.5\n",
      "Test\n",
      "0.5\n",
      "********** Train **********\n",
      "0.9\n",
      "0.5\n",
      "Test\n",
      "0.5\n",
      "********** Train **********\n",
      "1.0\n",
      "0.5\n",
      "Test\n",
      "0.5\n"
     ]
    },
    {
     "data": {
      "image/png": "[encoded data removed]",
      "text/plain": [
       "<Figure size 432x288 with 1 Axes>"
      ]
     },
     "metadata": {
      "needs_background": "light"
     },
     "output_type": "display_data"
    }
   ],
   "source": [
    "min_samples_splits = np.linspace(0.1, 1.0, 10, endpoint=True)\n",
    "train_results = []\n",
    "test_results = []\n",
    "for min_samples_split in min_samples_splits:\n",
    "    rf = RandomForestClassifier(min_samples_split=min_samples_split)\n",
    "    rf.fit(X_train, y_train)\n",
    "    train_pred = rf.predict(X_train)\n",
    "    false_positive_rate, true_positive_rate, thresholds = roc_curve(y_train, train_pred)\n",
    "    roc_auc = auc(false_positive_rate, true_positive_rate)\n",
    "    print (\"********** Train **********\")\n",
    "    print (min_samples_split)\n",
    "    print (roc_auc)\n",
    "    train_results.append(roc_auc)\n",
    "    y_pred = rf.predict(X_test)\n",
    "    false_positive_rate, true_positive_rate, thresholds = roc_curve(y_test, y_pred)\n",
    "    roc_auc = auc(false_positive_rate, true_positive_rate)\n",
    "    print (\"Test\")\n",
    "    print (roc_auc)\n",
    "    test_results.append(roc_auc)\n",
    "    \n",
    "from matplotlib.legend_handler import HandlerLine2D\n",
    "line1, = plt.plot(min_samples_splits, train_results, 'b', label='Train AUC')\n",
    "line2, = plt.plot(min_samples_splits, test_results, 'r', label='Test AUC')\n",
    "plt.ylabel('AUC score')\n",
    "plt.xlabel('min samples split')\n",
    "plt.show()"
   ]
  },
  {
   "cell_type": "code",
   "execution_count": 48,
   "metadata": {},
   "outputs": [
    {
     "name": "stderr",
     "output_type": "stream",
     "text": [
      "C:\\Users\\Home\\Anaconda3\\lib\\site-packages\\sklearn\\ensemble\\forest.py:245: FutureWarning: The default value of n_estimators will change from 10 in version 0.20 to 100 in 0.22.\n",
      "  \"10 in version 0.20 to 100 in 0.22.\", FutureWarning)\n",
      "C:\\Users\\Home\\Anaconda3\\lib\\site-packages\\sklearn\\ensemble\\forest.py:245: FutureWarning: The default value of n_estimators will change from 10 in version 0.20 to 100 in 0.22.\n",
      "  \"10 in version 0.20 to 100 in 0.22.\", FutureWarning)\n",
      "C:\\Users\\Home\\Anaconda3\\lib\\site-packages\\sklearn\\ensemble\\forest.py:245: FutureWarning: The default value of n_estimators will change from 10 in version 0.20 to 100 in 0.22.\n",
      "  \"10 in version 0.20 to 100 in 0.22.\", FutureWarning)\n",
      "C:\\Users\\Home\\Anaconda3\\lib\\site-packages\\sklearn\\ensemble\\forest.py:245: FutureWarning: The default value of n_estimators will change from 10 in version 0.20 to 100 in 0.22.\n",
      "  \"10 in version 0.20 to 100 in 0.22.\", FutureWarning)\n",
      "C:\\Users\\Home\\Anaconda3\\lib\\site-packages\\sklearn\\ensemble\\forest.py:245: FutureWarning: The default value of n_estimators will change from 10 in version 0.20 to 100 in 0.22.\n",
      "  \"10 in version 0.20 to 100 in 0.22.\", FutureWarning)\n"
     ]
    },
    {
     "name": "stdout",
     "output_type": "stream",
     "text": [
      "********** Train **********\n",
      "0.1\n",
      "0.8114632237871675\n",
      "Test\n",
      "0.8452235150030618\n",
      "********** Train **********\n",
      "0.2\n",
      "0.8501564945226917\n",
      "Test\n",
      "0.8746172688303736\n",
      "********** Train **********\n",
      "0.30000000000000004\n",
      "0.5\n",
      "Test\n",
      "0.5\n",
      "********** Train **********\n",
      "0.4\n",
      "0.5\n",
      "Test\n",
      "0.5\n",
      "********** Train **********\n",
      "0.5\n",
      "0.5\n",
      "Test\n",
      "0.5\n"
     ]
    },
    {
     "data": {
      "image/png": "[encoded data removed]",
      "text/plain": [
       "<Figure size 432x288 with 1 Axes>"
      ]
     },
     "metadata": {
      "needs_background": "light"
     },
     "output_type": "display_data"
    }
   ],
   "source": [
    "min_samples_leafs = np.linspace(0.1, 0.5, 5, endpoint=True)\n",
    "train_results = []\n",
    "test_results = []\n",
    "for min_samples_leaf in min_samples_leafs:\n",
    "    rf = RandomForestClassifier(min_samples_leaf=min_samples_leaf)\n",
    "    rf.fit(X_train, y_train)\n",
    "    train_pred = rf.predict(X_train)\n",
    "    false_positive_rate, true_positive_rate, thresholds = roc_curve(y_train, train_pred)\n",
    "    roc_auc = auc(false_positive_rate, true_positive_rate)\n",
    "    print (\"********** Train **********\")\n",
    "    print (min_samples_leaf)\n",
    "    print (roc_auc)\n",
    "    train_results.append(roc_auc)\n",
    "    y_pred = rf.predict(X_test)\n",
    "    false_positive_rate, true_positive_rate, thresholds = roc_curve(y_test, y_pred)\n",
    "    roc_auc = auc(false_positive_rate, true_positive_rate)\n",
    "    print (\"Test\")\n",
    "    print (roc_auc)\n",
    "    test_results.append(roc_auc)\n",
    "from matplotlib.legend_handler import HandlerLine2D\n",
    "line1, = plt.plot(min_samples_leafs, train_results, 'b', label='Train AUC')\n",
    "line2, = plt.plot(min_samples_leafs, test_results, 'r', label='Test AUC')\n",
    "plt.ylabel('AUC score')\n",
    "plt.xlabel('min samples leaf')\n",
    "plt.show()"
   ]
  },
  {
   "cell_type": "code",
   "execution_count": 49,
   "metadata": {},
   "outputs": [
    {
     "name": "stderr",
     "output_type": "stream",
     "text": [
      "C:\\Users\\Home\\Anaconda3\\lib\\site-packages\\sklearn\\ensemble\\forest.py:245: FutureWarning: The default value of n_estimators will change from 10 in version 0.20 to 100 in 0.22.\n",
      "  \"10 in version 0.20 to 100 in 0.22.\", FutureWarning)\n",
      "C:\\Users\\Home\\Anaconda3\\lib\\site-packages\\sklearn\\ensemble\\forest.py:245: FutureWarning: The default value of n_estimators will change from 10 in version 0.20 to 100 in 0.22.\n",
      "  \"10 in version 0.20 to 100 in 0.22.\", FutureWarning)\n",
      "C:\\Users\\Home\\Anaconda3\\lib\\site-packages\\sklearn\\ensemble\\forest.py:245: FutureWarning: The default value of n_estimators will change from 10 in version 0.20 to 100 in 0.22.\n",
      "  \"10 in version 0.20 to 100 in 0.22.\", FutureWarning)\n",
      "C:\\Users\\Home\\Anaconda3\\lib\\site-packages\\sklearn\\ensemble\\forest.py:245: FutureWarning: The default value of n_estimators will change from 10 in version 0.20 to 100 in 0.22.\n",
      "  \"10 in version 0.20 to 100 in 0.22.\", FutureWarning)\n",
      "C:\\Users\\Home\\Anaconda3\\lib\\site-packages\\sklearn\\ensemble\\forest.py:245: FutureWarning: The default value of n_estimators will change from 10 in version 0.20 to 100 in 0.22.\n",
      "  \"10 in version 0.20 to 100 in 0.22.\", FutureWarning)\n",
      "C:\\Users\\Home\\Anaconda3\\lib\\site-packages\\sklearn\\ensemble\\forest.py:245: FutureWarning: The default value of n_estimators will change from 10 in version 0.20 to 100 in 0.22.\n",
      "  \"10 in version 0.20 to 100 in 0.22.\", FutureWarning)\n",
      "C:\\Users\\Home\\Anaconda3\\lib\\site-packages\\sklearn\\ensemble\\forest.py:245: FutureWarning: The default value of n_estimators will change from 10 in version 0.20 to 100 in 0.22.\n",
      "  \"10 in version 0.20 to 100 in 0.22.\", FutureWarning)\n",
      "C:\\Users\\Home\\Anaconda3\\lib\\site-packages\\sklearn\\ensemble\\forest.py:245: FutureWarning: The default value of n_estimators will change from 10 in version 0.20 to 100 in 0.22.\n",
      "  \"10 in version 0.20 to 100 in 0.22.\", FutureWarning)\n",
      "C:\\Users\\Home\\Anaconda3\\lib\\site-packages\\sklearn\\ensemble\\forest.py:245: FutureWarning: The default value of n_estimators will change from 10 in version 0.20 to 100 in 0.22.\n",
      "  \"10 in version 0.20 to 100 in 0.22.\", FutureWarning)\n"
     ]
    },
    {
     "name": "stdout",
     "output_type": "stream",
     "text": [
      "********** Train **********\n",
      "1\n",
      "0.9805555555555556\n",
      "Test\n",
      "0.870789957134109\n",
      "********** Train **********\n",
      "2\n",
      "0.9780516431924884\n",
      "Test\n",
      "0.8778322106552359\n",
      "********** Train **********\n",
      "3\n",
      "0.9888888888888889\n",
      "Test\n",
      "0.8675750153092467\n",
      "********** Train **********\n",
      "4\n",
      "0.9881455399061033\n",
      "Test\n",
      "0.8746172688303736\n",
      "********** Train **********\n",
      "5\n",
      "0.9881455399061033\n",
      "Test\n",
      "0.8816595223515002\n",
      "********** Train **********\n",
      "6\n",
      "0.9944444444444445\n",
      "Test\n",
      "0.827924066135946\n",
      "********** Train **********\n",
      "7\n",
      "0.9954616588419406\n",
      "Test\n",
      "0.9001837109614208\n",
      "********** Train **********\n",
      "8\n",
      "0.9843505477308295\n",
      "Test\n",
      "0.8752296387017758\n",
      "********** Train **********\n",
      "9\n",
      "0.9871283255086073\n",
      "Test\n",
      "0.8854868340477647\n",
      "********** Train **********\n",
      "10\n",
      "0.9881455399061033\n"
     ]
    },
    {
     "name": "stderr",
     "output_type": "stream",
     "text": [
      "C:\\Users\\Home\\Anaconda3\\lib\\site-packages\\sklearn\\ensemble\\forest.py:245: FutureWarning: The default value of n_estimators will change from 10 in version 0.20 to 100 in 0.22.\n",
      "  \"10 in version 0.20 to 100 in 0.22.\", FutureWarning)\n",
      "C:\\Users\\Home\\Anaconda3\\lib\\site-packages\\sklearn\\ensemble\\forest.py:245: FutureWarning: The default value of n_estimators will change from 10 in version 0.20 to 100 in 0.22.\n",
      "  \"10 in version 0.20 to 100 in 0.22.\", FutureWarning)\n",
      "C:\\Users\\Home\\Anaconda3\\lib\\site-packages\\sklearn\\ensemble\\forest.py:245: FutureWarning: The default value of n_estimators will change from 10 in version 0.20 to 100 in 0.22.\n",
      "  \"10 in version 0.20 to 100 in 0.22.\", FutureWarning)\n",
      "C:\\Users\\Home\\Anaconda3\\lib\\site-packages\\sklearn\\ensemble\\forest.py:245: FutureWarning: The default value of n_estimators will change from 10 in version 0.20 to 100 in 0.22.\n",
      "  \"10 in version 0.20 to 100 in 0.22.\", FutureWarning)\n"
     ]
    },
    {
     "name": "stdout",
     "output_type": "stream",
     "text": [
      "Test\n",
      "0.9001837109614208\n",
      "********** Train **********\n",
      "11\n",
      "0.9909233176838811\n",
      "Test\n",
      "0.9001837109614208\n",
      "********** Train **********\n",
      "12\n",
      "0.9742566510172145\n",
      "Test\n",
      "0.8675750153092467\n",
      "********** Train **********\n",
      "13\n",
      "0.9888888888888889\n",
      "Test\n",
      "0.8931414574402939\n"
     ]
    },
    {
     "data": {
      "image/png": "[encoded data removed]",
      "text/plain": [
       "<Figure size 432x288 with 1 Axes>"
      ]
     },
     "metadata": {
      "needs_background": "light"
     },
     "output_type": "display_data"
    }
   ],
   "source": [
    "max_features = list(range(1,X_train.shape[1]))\n",
    "train_results = []\n",
    "test_results = []\n",
    "for max_feature in max_features:\n",
    "    rf = RandomForestClassifier(max_features=max_feature)\n",
    "    rf.fit(X_train, y_train)\n",
    "    train_pred = rf.predict(X_train)\n",
    "    false_positive_rate, true_positive_rate, thresholds = roc_curve(y_train, train_pred)\n",
    "    roc_auc = auc(false_positive_rate, true_positive_rate)\n",
    "    print (\"********** Train **********\")\n",
    "    print (max_feature)\n",
    "    print (roc_auc)\n",
    "    train_results.append(roc_auc)\n",
    "    y_pred = rf.predict(X_test)\n",
    "    false_positive_rate, true_positive_rate, thresholds = roc_curve(y_test, y_pred)\n",
    "    roc_auc = auc(false_positive_rate, true_positive_rate)\n",
    "    print (\"Test\")\n",
    "    print (roc_auc)\n",
    "    test_results.append(roc_auc)\n",
    "from matplotlib.legend_handler import HandlerLine2D\n",
    "line1, = plt.plot(max_features, train_results, 'b', label='Train AUC')\n",
    "line2, = plt.plot(max_features, test_results, 'r', label='Test AUC')\n",
    "plt.ylabel('AUC score')\n",
    "plt.xlabel('max features')\n",
    "plt.show()"
   ]
  },
  {
   "cell_type": "code",
   "execution_count": 50,
   "metadata": {},
   "outputs": [
    {
     "name": "stdout",
     "output_type": "stream",
     "text": [
      "Train\n",
      "0.8585289514866978\n",
      "[0.         0.22183099 1.        ]\n",
      "[0.         0.93888889 1.        ]\n",
      "Test\n",
      "[[57 14]\n",
      " [ 1 45]]\n",
      "0.890538885486834\n",
      "[0.        0.1971831 1.       ]\n",
      "[0.         0.97826087 1.        ]\n"
     ]
    }
   ],
   "source": [
    "# After hyper parameter tuning\n",
    "\n",
    "# n_estimators - 32\n",
    "# max_depth - 13\n",
    "# min_samples_split - 0.4\n",
    "# min_samples_leaf - 0.3\n",
    "# max_features - 10\n",
    "\n",
    "rf = RandomForestClassifier(n_estimators = 32, max_depth = 13, min_samples_split = 0.4,  min_samples_leaf = 0.3, max_features = 10)\n",
    "rf.fit(X_train, y_train)\n",
    "y_pred_test = rf.predict(X_test)\n",
    "y_pred_train = rf.predict(X_train)\n",
    "\n",
    "print ('Train')\n",
    "from sklearn.metrics import roc_curve, auc\n",
    "false_positive_rate, true_positive_rate, thresholds = roc_curve(y_train, y_pred_train)\n",
    "roc_auc = auc(false_positive_rate, true_positive_rate)\n",
    "print (roc_auc)\n",
    "print (false_positive_rate)\n",
    "print (true_positive_rate)\n",
    "\n",
    "print ('Test')\n",
    "from sklearn.metrics import confusion_matrix\n",
    "confusion_matrix = confusion_matrix(y_test, y_pred_test)\n",
    "print(confusion_matrix)\n",
    "\n",
    "from sklearn.metrics import roc_curve, auc\n",
    "false_positive_rate, true_positive_rate, thresholds = roc_curve(y_test, y_pred_test)\n",
    "roc_auc = auc(false_positive_rate, true_positive_rate)\n",
    "print (roc_auc)\n",
    "print (false_positive_rate)\n",
    "print (true_positive_rate)"
   ]
  },
  {
   "cell_type": "code",
   "execution_count": 56,
   "metadata": {},
   "outputs": [],
   "source": [
    "# Actual model building for submission.\n",
    "from sklearn.ensemble import RandomForestClassifier\n",
    "\n",
    "rfTrain = train.copy(deep = True) # Deep copy so that changes in rfTrain are not reflected in train\n",
    "rfTest = test.copy(deep = True)\n",
    "\n",
    "# Deleting columns which are not meaningful for model building.\n",
    "del rfTrain['Key']\n",
    "del rfTrain['ZipCode']\n",
    "del rfTest['ZipCode']\n",
    "\n",
    "rfTrain = rfTrain[rfTrain.Married != 'l'] \n",
    "rfTrain = rfTrain[rfTrain.Citizen != 'p']\n",
    "\n",
    "Y = rfTrain['Approved']\n",
    "\n",
    "et_mean_encode = rfTrain.groupby('Ethnicity')['Approved'].mean()\n",
    "rfTrain.loc[:,'Ethnicity'] = rfTrain['Ethnicity'].map(et_mean_encode)\n",
    "rfTest.loc[:,'Ethnicity'] = rfTest['Ethnicity'].map(et_mean_encode)\n",
    "\n",
    "m_mean_encode = rfTrain.groupby('Male')['Approved'].mean()\n",
    "rfTrain.loc[:,'Male'] = rfTrain['Male'].map(m_mean_encode)\n",
    "rfTest.loc[:,'Male'] = rfTest['Male'].map(m_mean_encode)\n",
    "\n",
    "md_mean_encode = rfTrain.groupby('Married')['Approved'].mean()\n",
    "rfTrain.loc[:,'Married'] = rfTrain['Married'].map(md_mean_encode)\n",
    "rfTest.loc[:,'Married'] = rfTest['Married'].map(md_mean_encode)\n",
    "\n",
    "bc_mean_encode = rfTrain.groupby('BankCustomer')['Approved'].mean()\n",
    "rfTrain.loc[:,'BankCustomer'] = rfTrain['BankCustomer'].map(bc_mean_encode)\n",
    "rfTest.loc[:,'BankCustomer'] = rfTest['BankCustomer'].map(bc_mean_encode)\n",
    "\n",
    "el_mean_encode = rfTrain.groupby('EducationLevel')['Approved'].mean()\n",
    "rfTrain.loc[:,'EducationLevel'] = rfTrain['EducationLevel'].map(el_mean_encode)\n",
    "rfTest.loc[:,'EducationLevel'] = rfTest['EducationLevel'].map(el_mean_encode)\n",
    "\n",
    "ct_mean_encode = rfTrain.groupby('Citizen')['Approved'].mean()\n",
    "rfTrain.loc[:,'Citizen'] = rfTrain['Citizen'].map(ct_mean_encode)\n",
    "rfTest.loc[:,'Citizen'] = rfTest['Citizen'].map(ct_mean_encode)\n",
    "\n",
    "del rfTrain['Approved']\n",
    "\n",
    "test_Key = rfTest['Key']\n",
    "del rfTest['Key']\n",
    "\n",
    "rf = RandomForestClassifier(n_estimators = 32, max_depth = 13, min_samples_split = 0.4,  min_samples_leaf = 0.3, max_features = 10)\n",
    "rf.fit(rfTrain, Y)\n",
    "\n",
    "Approved = rf.predict(rfTest)\n",
    "rfTest['Approved'] = Approved\n",
    "rfTest['Key'] = test_Key\n",
    "#ensemble['rf'] = rfTest['Approved']\n",
    "\n",
    "rfTest.replace({'Approved':{1 :'+', 0 :'-'}}, inplace=True) \n",
    "#rfTest.to_csv('submission10.csv')\n",
    "\n",
    "\n"
   ]
  },
  {
   "cell_type": "code",
   "execution_count": 57,
   "metadata": {},
   "outputs": [],
   "source": [
    "# Ensemble of all three models.\n",
    "# Maximum vote mechanism"
   ]
  },
  {
   "cell_type": "code",
   "execution_count": 58,
   "metadata": {},
   "outputs": [],
   "source": [
    "#ensemble['approvedSum'] = ensemble.lr + ensemble.xgb + ensemble.rf\n",
    "#ensemble['Approved'] = [0 if x <2 else 1 for x in ensemble['approvedSum']] \n",
    "#ensemble.replace({'Approved':{1 :'+', 0 :'-'}}, inplace=True) \n",
    "#ensemble.to_csv('submission9.csv')"
   ]
  }
 ],
 "metadata": {
  "kernelspec": {
   "display_name": "Python 3",
   "language": "python",
   "name": "python3"
  },
  "language_info": {
   "codemirror_mode": {
    "name": "ipython",
    "version": 3
   },
   "file_extension": ".py",
   "mimetype": "text/x-python",
   "name": "python",
   "nbconvert_exporter": "python",
   "pygments_lexer": "ipython3",
   "version": "3.7.1"
  }
 },
 "nbformat": 4,
 "nbformat_minor": 2
}
