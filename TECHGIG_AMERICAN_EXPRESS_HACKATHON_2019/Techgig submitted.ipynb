{
 "cells": [
  {
   "cell_type": "code",
   "execution_count": 1,
   "metadata": {},
   "outputs": [],
   "source": [
    "# Importing the libraries\n",
    "import numpy as np\n",
    "import matplotlib.pyplot as plt\n",
    "import pandas as pd\n",
    "from pandasql import sqldf\n",
    "pysqldf = lambda q: sqldf(q, globals())"
   ]
  },
  {
   "cell_type": "code",
   "execution_count": 2,
   "metadata": {},
   "outputs": [],
   "source": [
    "import os\n",
    "os.getcwd()\n",
    "os.chdir(\"C:\\\\Users\\\\Home\\\\Desktop\\\\Saptha\\\\Machine-Learning\\\\American_Express_Techgig\")"
   ]
  },
  {
   "cell_type": "code",
   "execution_count": 3,
   "metadata": {},
   "outputs": [],
   "source": [
    "# Invoke garbage collector in python\n",
    "import gc "
   ]
  },
  {
   "cell_type": "code",
   "execution_count": 4,
   "metadata": {},
   "outputs": [],
   "source": [
    "# Importing input Datasets\n",
    "\n",
    "train = pd.read_csv('train.csv')\n",
    "test = pd.read_csv('test.csv')"
   ]
  },
  {
   "cell_type": "code",
   "execution_count": 5,
   "metadata": {},
   "outputs": [
    {
     "name": "stdout",
     "output_type": "stream",
     "text": [
      "<class 'pandas.core.frame.DataFrame'>\n",
      "RangeIndex: 590 entries, 0 to 589\n",
      "Data columns (total 17 columns):\n",
      "Key               590 non-null int64\n",
      "Male              590 non-null object\n",
      "Age               590 non-null object\n",
      "Debt              590 non-null float64\n",
      "Married           590 non-null object\n",
      "BankCustomer      590 non-null object\n",
      "EducationLevel    590 non-null object\n",
      "Ethnicity         590 non-null object\n",
      "YearsEmployed     590 non-null float64\n",
      "PriorDefault      590 non-null object\n",
      "Employed          590 non-null object\n",
      "CreditScore       590 non-null int64\n",
      "DriversLicense    590 non-null object\n",
      "Citizen           590 non-null object\n",
      "ZipCode           590 non-null object\n",
      "Income            590 non-null int64\n",
      "Approved          590 non-null object\n",
      "dtypes: float64(2), int64(3), object(12)\n",
      "memory usage: 78.4+ KB\n"
     ]
    }
   ],
   "source": [
    "train.info()"
   ]
  },
  {
   "cell_type": "code",
   "execution_count": 6,
   "metadata": {},
   "outputs": [
    {
     "name": "stdout",
     "output_type": "stream",
     "text": [
      "b    400\n",
      "a    179\n",
      "?     11\n",
      "Name: Male, dtype: int64\n",
      "?        12\n",
      "22.67     8\n",
      "20.42     6\n",
      "18.83     6\n",
      "23.58     6\n",
      "22.5      6\n",
      "20.67     6\n",
      "24.5      5\n",
      "25        5\n",
      "23.08     5\n",
      "19.17     5\n",
      "27.67     5\n",
      "24.75     4\n",
      "23.5      4\n",
      "24.58     4\n",
      "28.58     4\n",
      "32.33     4\n",
      "20        4\n",
      "23        4\n",
      "26.17     4\n",
      "25.17     4\n",
      "33.17     4\n",
      "21.92     3\n",
      "20.83     3\n",
      "27.58     3\n",
      "19.67     3\n",
      "18.58     3\n",
      "20.75     3\n",
      "29.58     3\n",
      "18.17     3\n",
      "         ..\n",
      "24.17     1\n",
      "41        1\n",
      "44.83     1\n",
      "48.08     1\n",
      "26.58     1\n",
      "33        1\n",
      "51.92     1\n",
      "47.83     1\n",
      "26.5      1\n",
      "56.83     1\n",
      "25.92     1\n",
      "32.17     1\n",
      "63.33     1\n",
      "15.83     1\n",
      "17.5      1\n",
      "51.42     1\n",
      "26.25     1\n",
      "30.75     1\n",
      "38.17     1\n",
      "50.75     1\n",
      "34.58     1\n",
      "16.17     1\n",
      "15.75     1\n",
      "52.5      1\n",
      "30.42     1\n",
      "38.67     1\n",
      "59.5      1\n",
      "52.83     1\n",
      "17.83     1\n",
      "29.75     1\n",
      "Name: Age, Length: 322, dtype: int64\n",
      "1.500     20\n",
      "2.500     17\n",
      "0.000     17\n",
      "3.000     17\n",
      "1.250     15\n",
      "5.000     14\n",
      "0.750     14\n",
      "1.750     12\n",
      "4.000     11\n",
      "0.500     10\n",
      "10.000    10\n",
      "11.000     9\n",
      "2.000      9\n",
      "6.500      9\n",
      "0.375      8\n",
      "7.000      8\n",
      "3.500      8\n",
      "11.500     8\n",
      "5.500      8\n",
      "0.585      8\n",
      "0.165      8\n",
      "12.500     7\n",
      "9.000      7\n",
      "2.750      7\n",
      "0.540      7\n",
      "1.000      6\n",
      "0.835      6\n",
      "0.335      6\n",
      "9.500      5\n",
      "4.250      5\n",
      "          ..\n",
      "21.500     1\n",
      "11.125     1\n",
      "4.710      1\n",
      "5.415      1\n",
      "22.000     1\n",
      "5.125      1\n",
      "17.750     1\n",
      "20.000     1\n",
      "8.000      1\n",
      "1.290      1\n",
      "1.790      1\n",
      "3.625      1\n",
      "5.250      1\n",
      "26.335     1\n",
      "22.290     1\n",
      "10.040     1\n",
      "6.750      1\n",
      "1.080      1\n",
      "12.625     1\n",
      "2.665      1\n",
      "3.790      1\n",
      "12.125     1\n",
      "11.460     1\n",
      "7.835      1\n",
      "2.835      1\n",
      "18.125     1\n",
      "4.125      1\n",
      "14.585     1\n",
      "4.750      1\n",
      "21.000     1\n",
      "Name: Debt, Length: 184, dtype: int64\n",
      "u    434\n",
      "y    148\n",
      "?      6\n",
      "l      2\n",
      "Name: Married, dtype: int64\n",
      "g     434\n",
      "p     148\n",
      "?       6\n",
      "gg      2\n",
      "Name: BankCustomer, dtype: int64\n",
      "c     119\n",
      "q      65\n",
      "i      53\n",
      "w      51\n",
      "aa     50\n",
      "ff     49\n",
      "k      45\n",
      "x      33\n",
      "m      30\n",
      "cc     29\n",
      "d      24\n",
      "e      21\n",
      "j      10\n",
      "?       9\n",
      "r       2\n",
      "Name: EducationLevel, dtype: int64\n",
      "v     341\n",
      "h     104\n",
      "bb     55\n",
      "ff     53\n",
      "?       9\n",
      "z       8\n",
      "j       8\n",
      "dd      6\n",
      "n       4\n",
      "o       2\n",
      "Name: Ethnicity, dtype: int64\n",
      "0.000     67\n",
      "0.250     31\n",
      "1.000     30\n",
      "0.125     29\n",
      "0.040     26\n",
      "0.500     24\n",
      "0.085     23\n",
      "0.165     21\n",
      "1.500     21\n",
      "2.500     15\n",
      "1.750     13\n",
      "2.000     11\n",
      "0.290     11\n",
      "3.500     10\n",
      "0.750     10\n",
      "2.250     10\n",
      "5.000      9\n",
      "3.000      9\n",
      "4.000      8\n",
      "1.250      7\n",
      "0.415      7\n",
      "0.375      7\n",
      "5.500      6\n",
      "0.540      6\n",
      "1.085      6\n",
      "6.500      5\n",
      "0.210      5\n",
      "0.585      5\n",
      "4.500      5\n",
      "8.500      5\n",
      "          ..\n",
      "5.665      1\n",
      "1.960      1\n",
      "13.500     1\n",
      "2.335      1\n",
      "3.165      1\n",
      "1.835      1\n",
      "0.795      1\n",
      "3.040      1\n",
      "10.750     1\n",
      "4.580      1\n",
      "5.125      1\n",
      "9.000      1\n",
      "9.460      1\n",
      "0.960      1\n",
      "2.710      1\n",
      "4.625      1\n",
      "1.875      1\n",
      "13.000     1\n",
      "7.375      1\n",
      "16.000     1\n",
      "2.625      1\n",
      "5.375      1\n",
      "2.125      1\n",
      "17.500     1\n",
      "11.500     1\n",
      "3.125      1\n",
      "4.165      1\n",
      "1.210      1\n",
      "15.500     1\n",
      "0.790      1\n",
      "Name: YearsEmployed, Length: 112, dtype: int64\n",
      "f    299\n",
      "t    291\n",
      "Name: PriorDefault, dtype: int64\n",
      "f    350\n",
      "t    240\n",
      "Name: Employed, dtype: int64\n",
      "0     350\n",
      "1      59\n",
      "2      40\n",
      "3      23\n",
      "6      18\n",
      "5      15\n",
      "4      14\n",
      "11     13\n",
      "7      13\n",
      "8       9\n",
      "9       8\n",
      "14      8\n",
      "10      6\n",
      "12      5\n",
      "16      3\n",
      "15      2\n",
      "20      2\n",
      "19      1\n",
      "13      1\n",
      "Name: CreditScore, dtype: int64\n",
      "f    327\n",
      "t    263\n",
      "Name: DriversLicense, dtype: int64\n",
      "g    530\n",
      "s     52\n",
      "p      8\n",
      "Name: Citizen, dtype: int64\n",
      "0       106\n",
      "160      33\n",
      "200      30\n",
      "120      30\n",
      "100      26\n",
      "80       24\n",
      "280      18\n",
      "180      16\n",
      "140      14\n",
      "?        13\n",
      "320      12\n",
      "300      11\n",
      "240      10\n",
      "60        9\n",
      "220       9\n",
      "400       7\n",
      "340       7\n",
      "260       6\n",
      "360       5\n",
      "380       5\n",
      "420       4\n",
      "108       4\n",
      "440       4\n",
      "132       4\n",
      "144       4\n",
      "40        4\n",
      "232       4\n",
      "480       3\n",
      "460       3\n",
      "272       3\n",
      "       ... \n",
      "145       1\n",
      "840       1\n",
      "487       1\n",
      "375       1\n",
      "454       1\n",
      "510       1\n",
      "432       1\n",
      "168       1\n",
      "760       1\n",
      "274       1\n",
      "396       1\n",
      "600       1\n",
      "268       1\n",
      "393       1\n",
      "195       1\n",
      "49        1\n",
      "303       1\n",
      "24        1\n",
      "411       1\n",
      "28        1\n",
      "2000      1\n",
      "86        1\n",
      "500       1\n",
      "75        1\n",
      "178       1\n",
      "230       1\n",
      "170       1\n",
      "349       1\n",
      "356       1\n",
      "167       1\n",
      "Name: ZipCode, Length: 156, dtype: int64\n",
      "0       257\n",
      "1        26\n",
      "1000     10\n",
      "500       8\n",
      "6         8\n",
      "5         7\n",
      "2         7\n",
      "4         5\n",
      "100       5\n",
      "3000      4\n",
      "7         4\n",
      "200       4\n",
      "10        4\n",
      "20        4\n",
      "300       4\n",
      "50        3\n",
      "600       3\n",
      "18        3\n",
      "150       3\n",
      "3         3\n",
      "2000      3\n",
      "350       2\n",
      "540       2\n",
      "67        2\n",
      "68        2\n",
      "99        2\n",
      "1210      2\n",
      "3065      2\n",
      "351       2\n",
      "1200      2\n",
      "       ... \n",
      "247       1\n",
      "1065      1\n",
      "234       1\n",
      "2279      1\n",
      "228       1\n",
      "7544      1\n",
      "396       1\n",
      "582       1\n",
      "484       1\n",
      "1391      1\n",
      "1602      1\n",
      "567       1\n",
      "560       1\n",
      "1583      1\n",
      "6700      1\n",
      "1270      1\n",
      "4607      1\n",
      "501       1\n",
      "3552      1\n",
      "4500      1\n",
      "475       1\n",
      "2510      1\n",
      "458       1\n",
      "456       1\n",
      "2503      1\n",
      "6590      1\n",
      "1465      1\n",
      "5552      1\n",
      "1430      1\n",
      "251       1\n",
      "Name: Income, Length: 210, dtype: int64\n",
      "-    358\n",
      "+    232\n",
      "Name: Approved, dtype: int64\n"
     ]
    }
   ],
   "source": [
    "# Finding Columns with missing values.\n",
    "\n",
    "print (train.Male.value_counts())\n",
    "print (train.Age.value_counts())\n",
    "print (train.Debt.value_counts()) # No NULL values\n",
    "print (train.Married.value_counts())\n",
    "print (train.BankCustomer.value_counts())\n",
    "print (train.EducationLevel.value_counts())\n",
    "print (train.Ethnicity.value_counts())\n",
    "print (train.YearsEmployed.value_counts()) # No NULL values\n",
    "print (train.PriorDefault.value_counts()) # No NULL values\n",
    "print (train.Employed.value_counts()) # No NULL values\n",
    "print (train.CreditScore.value_counts()) # No NULL values\n",
    "print (train.DriversLicense.value_counts()) # No NULL values\n",
    "print (train.Citizen.value_counts()) # No NULL values\n",
    "print (train.ZipCode.value_counts())\n",
    "print (train.Income.value_counts()) # No NULL values\n",
    "print (train.Approved.value_counts()) # No NULL values"
   ]
  },
  {
   "cell_type": "code",
   "execution_count": 7,
   "metadata": {},
   "outputs": [],
   "source": [
    "train.replace({'Age':{'?' :0}}, inplace=True)\n",
    "train.Age = np.float32(train.Age)"
   ]
  },
  {
   "cell_type": "code",
   "execution_count": 8,
   "metadata": {},
   "outputs": [
    {
     "data": {
      "text/html": [
       "<div>\n",
       "<style scoped>\n",
       "    .dataframe tbody tr th:only-of-type {\n",
       "        vertical-align: middle;\n",
       "    }\n",
       "\n",
       "    .dataframe tbody tr th {\n",
       "        vertical-align: top;\n",
       "    }\n",
       "\n",
       "    .dataframe thead th {\n",
       "        text-align: right;\n",
       "    }\n",
       "</style>\n",
       "<table border=\"1\" class=\"dataframe\">\n",
       "  <thead>\n",
       "    <tr style=\"text-align: right;\">\n",
       "      <th></th>\n",
       "      <th>Key</th>\n",
       "      <th>Age</th>\n",
       "      <th>Debt</th>\n",
       "      <th>YearsEmployed</th>\n",
       "      <th>CreditScore</th>\n",
       "      <th>Income</th>\n",
       "    </tr>\n",
       "  </thead>\n",
       "  <tbody>\n",
       "    <tr>\n",
       "      <th>count</th>\n",
       "      <td>590.000000</td>\n",
       "      <td>590.000000</td>\n",
       "      <td>590.000000</td>\n",
       "      <td>590.000000</td>\n",
       "      <td>590.000000</td>\n",
       "      <td>590.000000</td>\n",
       "    </tr>\n",
       "    <tr>\n",
       "      <th>mean</th>\n",
       "      <td>295.500000</td>\n",
       "      <td>30.622503</td>\n",
       "      <td>4.609390</td>\n",
       "      <td>2.088534</td>\n",
       "      <td>2.045763</td>\n",
       "      <td>918.706780</td>\n",
       "    </tr>\n",
       "    <tr>\n",
       "      <th>std</th>\n",
       "      <td>170.462606</td>\n",
       "      <td>12.684757</td>\n",
       "      <td>4.849569</td>\n",
       "      <td>3.198681</td>\n",
       "      <td>3.702375</td>\n",
       "      <td>5025.415369</td>\n",
       "    </tr>\n",
       "    <tr>\n",
       "      <th>min</th>\n",
       "      <td>1.000000</td>\n",
       "      <td>0.000000</td>\n",
       "      <td>0.000000</td>\n",
       "      <td>0.000000</td>\n",
       "      <td>0.000000</td>\n",
       "      <td>0.000000</td>\n",
       "    </tr>\n",
       "    <tr>\n",
       "      <th>25%</th>\n",
       "      <td>148.250000</td>\n",
       "      <td>22.170000</td>\n",
       "      <td>1.000000</td>\n",
       "      <td>0.165000</td>\n",
       "      <td>0.000000</td>\n",
       "      <td>0.000000</td>\n",
       "    </tr>\n",
       "    <tr>\n",
       "      <th>50%</th>\n",
       "      <td>295.500000</td>\n",
       "      <td>27.710000</td>\n",
       "      <td>2.710000</td>\n",
       "      <td>1.000000</td>\n",
       "      <td>0.000000</td>\n",
       "      <td>4.000000</td>\n",
       "    </tr>\n",
       "    <tr>\n",
       "      <th>75%</th>\n",
       "      <td>442.750000</td>\n",
       "      <td>37.290001</td>\n",
       "      <td>7.000000</td>\n",
       "      <td>2.500000</td>\n",
       "      <td>2.000000</td>\n",
       "      <td>363.000000</td>\n",
       "    </tr>\n",
       "    <tr>\n",
       "      <th>max</th>\n",
       "      <td>590.000000</td>\n",
       "      <td>80.250000</td>\n",
       "      <td>26.335000</td>\n",
       "      <td>20.000000</td>\n",
       "      <td>20.000000</td>\n",
       "      <td>100000.000000</td>\n",
       "    </tr>\n",
       "  </tbody>\n",
       "</table>\n",
       "</div>"
      ],
      "text/plain": [
       "              Key         Age        Debt  YearsEmployed  CreditScore  \\\n",
       "count  590.000000  590.000000  590.000000     590.000000   590.000000   \n",
       "mean   295.500000   30.622503    4.609390       2.088534     2.045763   \n",
       "std    170.462606   12.684757    4.849569       3.198681     3.702375   \n",
       "min      1.000000    0.000000    0.000000       0.000000     0.000000   \n",
       "25%    148.250000   22.170000    1.000000       0.165000     0.000000   \n",
       "50%    295.500000   27.710000    2.710000       1.000000     0.000000   \n",
       "75%    442.750000   37.290001    7.000000       2.500000     2.000000   \n",
       "max    590.000000   80.250000   26.335000      20.000000    20.000000   \n",
       "\n",
       "              Income  \n",
       "count     590.000000  \n",
       "mean      918.706780  \n",
       "std      5025.415369  \n",
       "min         0.000000  \n",
       "25%         0.000000  \n",
       "50%         4.000000  \n",
       "75%       363.000000  \n",
       "max    100000.000000  "
      ]
     },
     "execution_count": 8,
     "metadata": {},
     "output_type": "execute_result"
    }
   ],
   "source": [
    "train.describe()"
   ]
  },
  {
   "cell_type": "code",
   "execution_count": 9,
   "metadata": {},
   "outputs": [
    {
     "name": "stdout",
     "output_type": "stream",
     "text": [
      "30.62250328063965\n",
      "27.71\n"
     ]
    }
   ],
   "source": [
    "# Imputing by mean vs median\n",
    "print (np.mean(train.Age))\n",
    "print (np.median(train.Age))"
   ]
  },
  {
   "cell_type": "code",
   "execution_count": 10,
   "metadata": {},
   "outputs": [
    {
     "name": "stdout",
     "output_type": "stream",
     "text": [
      "AxesSubplot(0.125,0.125;0.775x0.755)\n"
     ]
    },
    {
     "data": {
      "image/png": "[encoded data removed]",
      "text/plain": [
       "<Figure size 432x288 with 1 Axes>"
      ]
     },
     "metadata": {
      "needs_background": "light"
     },
     "output_type": "display_data"
    }
   ],
   "source": [
    "# Distribution of categorical variables before imputation\n",
    "# we need to ensure that the distribution of the feature before and after imputation remained the same.\n",
    "\n",
    "import seaborn as sns\n",
    "print (sns.countplot(x=\"Male\", data=train))"
   ]
  },
  {
   "cell_type": "code",
   "execution_count": 11,
   "metadata": {},
   "outputs": [
    {
     "name": "stdout",
     "output_type": "stream",
     "text": [
      "AxesSubplot(0.125,0.125;0.775x0.755)\n"
     ]
    },
    {
     "data": {
      "image/png": "[encoded data removed]",
      "text/plain": [
       "<Figure size 432x288 with 1 Axes>"
      ]
     },
     "metadata": {
      "needs_background": "light"
     },
     "output_type": "display_data"
    }
   ],
   "source": [
    "print (sns.countplot(x=\"Married\", data=train))"
   ]
  },
  {
   "cell_type": "code",
   "execution_count": 12,
   "metadata": {},
   "outputs": [
    {
     "name": "stdout",
     "output_type": "stream",
     "text": [
      "AxesSubplot(0.125,0.125;0.775x0.755)\n"
     ]
    },
    {
     "data": {
      "image/png": "[encoded data removed]",
      "text/plain": [
       "<Figure size 432x288 with 1 Axes>"
      ]
     },
     "metadata": {
      "needs_background": "light"
     },
     "output_type": "display_data"
    }
   ],
   "source": [
    "print (sns.countplot(x=\"BankCustomer\", data=train))"
   ]
  },
  {
   "cell_type": "code",
   "execution_count": 13,
   "metadata": {},
   "outputs": [
    {
     "name": "stdout",
     "output_type": "stream",
     "text": [
      "AxesSubplot(0.125,0.125;0.775x0.755)\n"
     ]
    },
    {
     "data": {
      "image/png": "[encoded data removed]",
      "text/plain": [
       "<Figure size 432x288 with 1 Axes>"
      ]
     },
     "metadata": {
      "needs_background": "light"
     },
     "output_type": "display_data"
    }
   ],
   "source": [
    "print (sns.countplot(x=\"EducationLevel\", data=train))"
   ]
  },
  {
   "cell_type": "code",
   "execution_count": 14,
   "metadata": {},
   "outputs": [
    {
     "name": "stdout",
     "output_type": "stream",
     "text": [
      "AxesSubplot(0.125,0.125;0.775x0.755)\n"
     ]
    },
    {
     "data": {
      "image/png": "[encoded data removed]",
      "text/plain": [
       "<Figure size 432x288 with 1 Axes>"
      ]
     },
     "metadata": {
      "needs_background": "light"
     },
     "output_type": "display_data"
    }
   ],
   "source": [
    "print (sns.countplot(x=\"Ethnicity\", data=train))"
   ]
  },
  {
   "cell_type": "code",
   "execution_count": 15,
   "metadata": {},
   "outputs": [
    {
     "name": "stdout",
     "output_type": "stream",
     "text": [
      "AxesSubplot(0.125,0.125;0.775x0.755)\n"
     ]
    },
    {
     "data": {
      "image/png": "[encoded data removed]",
      "text/plain": [
       "<Figure size 432x288 with 1 Axes>"
      ]
     },
     "metadata": {
      "needs_background": "light"
     },
     "output_type": "display_data"
    }
   ],
   "source": [
    "print (sns.countplot(x=\"ZipCode\", data=train))"
   ]
  },
  {
   "cell_type": "code",
   "execution_count": 16,
   "metadata": {},
   "outputs": [],
   "source": [
    "# Handling missing values & categorical data encoding.\n",
    "\n",
    "# Replacing by mean\n",
    "train.replace({'Age':{0 :round(np.mean(train.Age))}}, inplace=True) \n",
    "\n",
    "# Replacing by mode\n",
    "train.replace({'Male':{'?' :'b'}}, inplace=True) \n",
    "train.replace({'Married':{'?' :'u'}}, inplace=True) \n",
    "train.replace({'BankCustomer':{'?' :'g'}}, inplace=True) \n",
    "train.replace({'EducationLevel':{'?' :'c'}}, inplace=True) \n",
    "train.replace({'Ethnicity':{'?' :'v'}}, inplace=True) \n",
    "train.replace({'ZipCode':{'?' :'0'}}, inplace=True) \n",
    "\n",
    "# Encoding true, false as 1,0 respectively --> Nominal categorical variables with just two categories.\n",
    "train.replace({'PriorDefault':{'t' :1,'f' :0}}, inplace=True) \n",
    "train.replace({'Employed':{'t' :1, 'f' :0}}, inplace=True) \n",
    "train.replace({'DriversLicense':{'t' :1, 'f' :0}}, inplace=True) \n",
    "train.replace({'Approved':{'+' :1, '-' :0}}, inplace=True) \n",
    "\n"
   ]
  },
  {
   "cell_type": "code",
   "execution_count": 17,
   "metadata": {},
   "outputs": [
    {
     "name": "stdout",
     "output_type": "stream",
     "text": [
      "AxesSubplot(0.125,0.125;0.775x0.755)\n"
     ]
    },
    {
     "data": {
      "image/png": "[encoded data removed]",
      "text/plain": [
       "<Figure size 432x288 with 1 Axes>"
      ]
     },
     "metadata": {
      "needs_background": "light"
     },
     "output_type": "display_data"
    }
   ],
   "source": [
    "# Distribution of categorical variables after imputation\n",
    "print (sns.countplot(x=\"Male\", data=train))"
   ]
  },
  {
   "cell_type": "code",
   "execution_count": 18,
   "metadata": {},
   "outputs": [
    {
     "name": "stdout",
     "output_type": "stream",
     "text": [
      "AxesSubplot(0.125,0.125;0.775x0.755)\n"
     ]
    },
    {
     "data": {
      "image/png": "[encoded data removed]",
      "text/plain": [
       "<Figure size 432x288 with 1 Axes>"
      ]
     },
     "metadata": {
      "needs_background": "light"
     },
     "output_type": "display_data"
    }
   ],
   "source": [
    "print (sns.countplot(x=\"Married\", data=train))"
   ]
  },
  {
   "cell_type": "code",
   "execution_count": 19,
   "metadata": {},
   "outputs": [
    {
     "name": "stdout",
     "output_type": "stream",
     "text": [
      "AxesSubplot(0.125,0.125;0.775x0.755)\n"
     ]
    },
    {
     "data": {
      "image/png": "[encoded data removed]",
      "text/plain": [
       "<Figure size 432x288 with 1 Axes>"
      ]
     },
     "metadata": {
      "needs_background": "light"
     },
     "output_type": "display_data"
    }
   ],
   "source": [
    "print (sns.countplot(x=\"BankCustomer\", data=train))"
   ]
  },
  {
   "cell_type": "code",
   "execution_count": 20,
   "metadata": {},
   "outputs": [
    {
     "name": "stdout",
     "output_type": "stream",
     "text": [
      "AxesSubplot(0.125,0.125;0.775x0.755)\n"
     ]
    },
    {
     "data": {
      "image/png": "[encoded data removed]",
      "text/plain": [
       "<Figure size 432x288 with 1 Axes>"
      ]
     },
     "metadata": {
      "needs_background": "light"
     },
     "output_type": "display_data"
    }
   ],
   "source": [
    "print (sns.countplot(x=\"EducationLevel\", data=train))"
   ]
  },
  {
   "cell_type": "code",
   "execution_count": 21,
   "metadata": {},
   "outputs": [
    {
     "name": "stdout",
     "output_type": "stream",
     "text": [
      "AxesSubplot(0.125,0.125;0.775x0.755)\n"
     ]
    },
    {
     "data": {
      "image/png": "[encoded data removed]",
      "text/plain": [
       "<Figure size 432x288 with 1 Axes>"
      ]
     },
     "metadata": {
      "needs_background": "light"
     },
     "output_type": "display_data"
    }
   ],
   "source": [
    "print (sns.countplot(x=\"Ethnicity\", data=train))"
   ]
  },
  {
   "cell_type": "code",
   "execution_count": 22,
   "metadata": {},
   "outputs": [
    {
     "name": "stdout",
     "output_type": "stream",
     "text": [
      "AxesSubplot(0.125,0.125;0.775x0.755)\n"
     ]
    },
    {
     "data": {
      "image/png": "[encoded data removed]",
      "text/plain": [
       "<Figure size 432x288 with 1 Axes>"
      ]
     },
     "metadata": {
      "needs_background": "light"
     },
     "output_type": "display_data"
    }
   ],
   "source": [
    "print (sns.countplot(x=\"ZipCode\", data=train))"
   ]
  },
  {
   "cell_type": "code",
   "execution_count": 23,
   "metadata": {},
   "outputs": [],
   "source": [
    "# Doing everything for test data\n",
    "\n",
    "test.Age = np.float32(test.Age)\n",
    "\n",
    "# Handling missing values & categorical data encoding.\n",
    "\n",
    "# Replacing by mode\n",
    "test.replace({'Male':{'?' :'b'}}, inplace=True) \n",
    "test.replace({'Married':{'?' :'u'}}, inplace=True) \n",
    "test.replace({'BankCustomer':{'?' :'g'}}, inplace=True) \n",
    "test.replace({'EducationLevel':{'?' :'c'}}, inplace=True) \n",
    "test.replace({'Ethnicity':{'?' :'v'}}, inplace=True) \n",
    "\n",
    "# Encoding true, false as 1,0 respectively --> Binary categorical variables.\n",
    "test.replace({'PriorDefault':{'t' :1,'f' :0}}, inplace=True) \n",
    "test.replace({'Employed':{'t' :1, 'f' :0}}, inplace=True) \n",
    "test.replace({'DriversLicense':{'t' :1, 'f' :0}}, inplace=True) \n"
   ]
  },
  {
   "cell_type": "markdown",
   "metadata": {},
   "source": [
    "# Model Building"
   ]
  },
  {
   "cell_type": "code",
   "execution_count": 24,
   "metadata": {},
   "outputs": [],
   "source": [
    "# For ensemble classifier.\n",
    "# Maximum vote technique.\n",
    "# Base classifiers used - Logistic Regression, Random Forest, Extreme Gradient Boosting.\n",
    "\n",
    "ensemble = pd.DataFrame()"
   ]
  },
  {
   "cell_type": "code",
   "execution_count": 25,
   "metadata": {},
   "outputs": [],
   "source": [
    "modelTrain = train.copy(deep = True) # Deep copy so that changes in modelTrain are not reflected in train\n",
    "modelTest = test.copy(deep = True)"
   ]
  },
  {
   "cell_type": "code",
   "execution_count": 26,
   "metadata": {},
   "outputs": [],
   "source": [
    "# Deleting columns which are not meaningful for model building.\n",
    "del modelTrain['Key']\n",
    "del modelTrain['ZipCode']\n",
    "del modelTest['ZipCode']\n",
    "\n",
    "# Removing categorical outliers\n",
    "modelTrain = modelTrain[modelTrain.Married != 'l'] \n",
    "modelTrain = modelTrain[modelTrain.Citizen != 'p']"
   ]
  },
  {
   "cell_type": "code",
   "execution_count": 27,
   "metadata": {},
   "outputs": [],
   "source": [
    "# Dummy encoding nominal categorical variables for linear models.\n",
    "\n",
    "modelTrain_Male = modelTrain['Male']\n",
    "modelTrain = pd.get_dummies(modelTrain, columns=['Male'], prefix = ['m'])\n",
    "modelTrain['Male'] = modelTrain_Male\n",
    "\n",
    "modelTrain_Married = modelTrain['Married']\n",
    "modelTrain = pd.get_dummies(modelTrain, columns=['Married'], prefix = ['md'])\n",
    "modelTrain['Married'] = modelTrain_Married\n",
    "\n",
    "modelTrain_BankCustomer = modelTrain['BankCustomer']\n",
    "modelTrain = pd.get_dummies(modelTrain, columns=['BankCustomer'], prefix = ['bc'])\n",
    "modelTrain['BankCustomer'] = modelTrain_BankCustomer\n",
    "\n",
    "modelTrain_EducationLevel = modelTrain['EducationLevel']\n",
    "modelTrain = pd.get_dummies(modelTrain, columns=['EducationLevel'], prefix = ['el'])\n",
    "modelTrain['EducationLevel'] = modelTrain_EducationLevel\n",
    "\n",
    "modelTrain_Citizen = modelTrain['Citizen']\n",
    "modelTrain = pd.get_dummies(modelTrain, columns=['Citizen'], prefix = ['ct'])\n",
    "modelTrain['Citizen'] = modelTrain_Citizen\n",
    "\n",
    "# Creating feature bins\n",
    "# These feature bins didn't significantly increase AUC. So they were commented out while trying chiSq test and Age was used as \n",
    "# continuous feature itself.\n",
    "# modelTrain['Age'] = round(modelTrain['Age'])\n",
    "# modelTrain['agebins'] = pd.cut(modelTrain['Age'], [0,20,40,60,80], labels = [\"[0,20]\",\"[20,40]\",\"[40,60]\",\"[60,80]\"])\n",
    "# modelTrain_Age = modelTrain['Age']\n",
    "# modelTrain = pd.get_dummies(modelTrain, columns=['agebins'], prefix = ['ag'])\n",
    "# modelTrain['Age'] = modelTrain_Age\n",
    "\n",
    "modelTrain_Male = modelTest['Male']\n",
    "modelTest = pd.get_dummies(modelTest, columns=['Male'], prefix = ['m'])\n",
    "modelTest['Male'] = modelTrain_Male\n",
    "\n",
    "modelTrain_Married = modelTest['Married']\n",
    "modelTest = pd.get_dummies(modelTest, columns=['Married'], prefix = ['md'])\n",
    "modelTest['Married'] = modelTrain_Married\n",
    "\n",
    "modelTrain_BankCustomer = modelTest['BankCustomer']\n",
    "modelTest = pd.get_dummies(modelTest, columns=['BankCustomer'], prefix = ['bc'])\n",
    "modelTest['BankCustomer'] = modelTrain_BankCustomer\n",
    "\n",
    "modelTrain_EducationLevel = modelTest['EducationLevel']\n",
    "modelTest = pd.get_dummies(modelTest, columns=['EducationLevel'], prefix = ['el'])\n",
    "modelTest['EducationLevel'] = modelTrain_EducationLevel\n",
    "\n",
    "modelTrain_Citizen = modelTest['Citizen']\n",
    "modelTest = pd.get_dummies(modelTest, columns=['Citizen'], prefix = ['ct'])\n",
    "modelTest['Citizen'] = modelTrain_Citizen\n",
    "\n",
    "# Creating feature bins\n",
    "# These feature bins didn't significantly increase AUC. So they were commented out while trying chiSq test and Age was used as \n",
    "# continuous feature itself.\n",
    "# modelTest['Age'] = round(modelTest['Age'])\n",
    "# modelTest['agebins'] = pd.cut(modelTest['Age'], [0,20,40,60,80], labels = [\"[0,20]\",\"[20,40]\",\"[40,60]\",\"[60,80]\"])\n",
    "# modelTrain_Age = modelTest['Age']\n",
    "# modelTest = pd.get_dummies(modelTest, columns=['agebins'], prefix = ['ag'])\n",
    "# modelTest['Age'] = modelTrain_Age\n",
    "\n",
    "# modelTest['el_j'] = 0\n",
    "\n"
   ]
  },
  {
   "cell_type": "code",
   "execution_count": 28,
   "metadata": {},
   "outputs": [],
   "source": [
    "# Mean encoding nominal categorical data for Tree based models, as Tree based models would suffer from one hot encoded features.\n",
    "\n",
    "et_mean_encode = modelTrain.groupby('Ethnicity')['Approved'].mean()\n",
    "modelTrain.loc[:,'EthnicityMeanEncoded'] = modelTrain['Ethnicity'].map(et_mean_encode)\n",
    "modelTest.loc[:,'EthnicityMeanEncoded'] = modelTest['Ethnicity'].map(et_mean_encode)\n",
    "\n",
    "m_mean_encode = modelTrain.groupby('Male')['Approved'].mean()\n",
    "modelTrain.loc[:,'MaleMeanEncoded'] = modelTrain['Male'].map(m_mean_encode)\n",
    "modelTest.loc[:,'MaleMeanEncoded'] = modelTest['Male'].map(m_mean_encode)\n",
    "\n",
    "md_mean_encode = modelTrain.groupby('Married')['Approved'].mean()\n",
    "modelTrain.loc[:,'MarriedMeanEncoded'] = modelTrain['Married'].map(md_mean_encode)\n",
    "modelTest.loc[:,'MarriedMeanEncoded'] = modelTest['Married'].map(md_mean_encode)\n",
    "\n",
    "bc_mean_encode = modelTrain.groupby('BankCustomer')['Approved'].mean()\n",
    "modelTrain.loc[:,'BankCustomerMeanEncoded'] = modelTrain['BankCustomer'].map(bc_mean_encode)\n",
    "modelTest.loc[:,'BankCustomerMeanEncoded'] = modelTest['BankCustomer'].map(bc_mean_encode)\n",
    "\n",
    "el_mean_encode = modelTrain.groupby('EducationLevel')['Approved'].mean()\n",
    "modelTrain.loc[:,'EducationLevelMeanEncoded'] = modelTrain['EducationLevel'].map(el_mean_encode)\n",
    "modelTest.loc[:,'EducationLevelMeanEncoded'] = modelTest['EducationLevel'].map(el_mean_encode)\n",
    "\n",
    "ct_mean_encode = modelTrain.groupby('Citizen')['Approved'].mean()\n",
    "modelTrain.loc[:,'CitizenMeanEncoded'] = modelTrain['Citizen'].map(ct_mean_encode)\n",
    "modelTest.loc[:,'CitizenMeanEncoded'] = modelTest['Citizen'].map(ct_mean_encode)"
   ]
  },
  {
   "cell_type": "code",
   "execution_count": 29,
   "metadata": {},
   "outputs": [],
   "source": [
    "# splitting train & test data.\n",
    "from sklearn.model_selection import train_test_split\n",
    "\n",
    "Y = modelTrain['Approved']\n",
    "X = modelTrain\n",
    "\n",
    "X_train, X_test, y_train, y_test = train_test_split(X, Y, test_size=0.2, random_state=0)"
   ]
  },
  {
   "cell_type": "code",
   "execution_count": 30,
   "metadata": {},
   "outputs": [
    {
     "name": "stderr",
     "output_type": "stream",
     "text": [
      "C:\\Users\\Home\\Anaconda3\\lib\\site-packages\\pandas\\core\\indexing.py:362: SettingWithCopyWarning: \n",
      "A value is trying to be set on a copy of a slice from a DataFrame.\n",
      "Try using .loc[row_indexer,col_indexer] = value instead\n",
      "\n",
      "See the caveats in the documentation: http://pandas.pydata.org/pandas-docs/stable/indexing.html#indexing-view-versus-copy\n",
      "  self.obj[key] = _infer_fill_value(value)\n",
      "C:\\Users\\Home\\Anaconda3\\lib\\site-packages\\pandas\\core\\indexing.py:543: SettingWithCopyWarning: \n",
      "A value is trying to be set on a copy of a slice from a DataFrame.\n",
      "Try using .loc[row_indexer,col_indexer] = value instead\n",
      "\n",
      "See the caveats in the documentation: http://pandas.pydata.org/pandas-docs/stable/indexing.html#indexing-view-versus-copy\n",
      "  self.obj[item] = s\n"
     ]
    }
   ],
   "source": [
    "# Mean encoding nominal categorical variables for non-linear models.\n",
    "\n",
    "'''\n",
    "As Mean Encoding is now done based on X_train, instead of entire train data.\n",
    "X_train & X_test is made out of actual train for model building & cross validation.\n",
    "'''\n",
    "\n",
    "et_mean_encode = X_train.groupby('Ethnicity')['Approved'].mean()\n",
    "X_train.loc[:,'EthnicityMeanTrain'] = X_train['Ethnicity'].map(et_mean_encode)\n",
    "X_test.loc[:,'EthnicityMeanTrain'] = X_test['Ethnicity'].map(et_mean_encode)\n",
    "\n",
    "m_mean_encode = X_train.groupby('Male')['Approved'].mean()\n",
    "X_train.loc[:,'MaleMeanTrain'] = X_train['Male'].map(m_mean_encode)\n",
    "X_test.loc[:,'MaleMeanTrain'] = X_test['Male'].map(m_mean_encode)\n",
    "\n",
    "md_mean_encode = X_train.groupby('Married')['Approved'].mean()\n",
    "X_train.loc[:,'MarriedMeanTrain'] = X_train['Married'].map(md_mean_encode)\n",
    "X_test.loc[:,'MarriedMeanTrain'] = X_test['Married'].map(md_mean_encode)\n",
    "\n",
    "bc_mean_encode = X_train.groupby('BankCustomer')['Approved'].mean()\n",
    "X_train.loc[:,'BankCustomerMeanTrain'] = X_train['BankCustomer'].map(bc_mean_encode)\n",
    "X_test.loc[:,'BankCustomerMeanTrain'] = X_test['BankCustomer'].map(bc_mean_encode)\n",
    "\n",
    "el_mean_encode = X_train.groupby('EducationLevel')['Approved'].mean()\n",
    "X_train.loc[:,'EducationLevelMeanTrain'] = X_train['EducationLevel'].map(el_mean_encode)\n",
    "X_test.loc[:,'EducationLevelMeanTrain'] = X_test['EducationLevel'].map(el_mean_encode)\n",
    "\n",
    "ct_mean_encode = X_train.groupby('Citizen')['Approved'].mean()\n",
    "X_train.loc[:,'CitizenMeanTrain'] = X_train['Citizen'].map(ct_mean_encode)\n",
    "X_test.loc[:,'CitizenMeanTrain'] = X_test['Citizen'].map(ct_mean_encode)"
   ]
  },
  {
   "cell_type": "code",
   "execution_count": 31,
   "metadata": {},
   "outputs": [
    {
     "data": {
      "text/plain": [
       "Index(['Age', 'Debt', 'Ethnicity', 'YearsEmployed', 'PriorDefault', 'Employed',\n",
       "       'CreditScore', 'DriversLicense', 'Income', 'Approved', 'm_a', 'm_b',\n",
       "       'Male', 'md_u', 'md_y', 'Married', 'bc_g', 'bc_p', 'BankCustomer',\n",
       "       'el_aa', 'el_c', 'el_cc', 'el_d', 'el_e', 'el_ff', 'el_i', 'el_j',\n",
       "       'el_k', 'el_m', 'el_q', 'el_r', 'el_w', 'el_x', 'EducationLevel',\n",
       "       'ct_g', 'ct_s', 'Citizen', 'EthnicityMeanEncoded', 'MaleMeanEncoded',\n",
       "       'MarriedMeanEncoded', 'BankCustomerMeanEncoded',\n",
       "       'EducationLevelMeanEncoded', 'CitizenMeanEncoded', 'EthnicityMeanTrain',\n",
       "       'MaleMeanTrain', 'MarriedMeanTrain', 'BankCustomerMeanTrain',\n",
       "       'EducationLevelMeanTrain', 'CitizenMeanTrain'],\n",
       "      dtype='object')"
      ]
     },
     "execution_count": 31,
     "metadata": {},
     "output_type": "execute_result"
    }
   ],
   "source": [
    "X_train.columns"
   ]
  },
  {
   "cell_type": "markdown",
   "metadata": {},
   "source": [
    "# Logistic Regression"
   ]
  },
  {
   "cell_type": "code",
   "execution_count": 32,
   "metadata": {},
   "outputs": [
    {
     "name": "stdout",
     "output_type": "stream",
     "text": [
      "           Age   Debt  EthnicityMeanTrain  YearsEmployed  PriorDefault  \\\n",
      "296  34.669998  1.080            0.367647          1.165             0   \n",
      "388  37.330002  6.500            0.581395          4.250             1   \n",
      "78   23.000000  1.835            0.600000          0.000             0   \n",
      "212  39.419998  1.710            0.367647          0.165             0   \n",
      "557  21.000000  3.000            0.367647          1.085             1   \n",
      "\n",
      "     Employed  CreditScore  DriversLicense  Income  m_a  ...   el_i  el_j  \\\n",
      "296         0            0               0       0    0  ...      0     0   \n",
      "388         1           12               1       0    0  ...      0     0   \n",
      "78          1            1               0      53    1  ...      0     1   \n",
      "212         0            0               0       0    0  ...      0     0   \n",
      "557         1            8               1       1    0  ...      0     0   \n",
      "\n",
      "     el_k  el_m  el_q  el_r  el_w  el_x  ct_g  ct_s  \n",
      "296     0     1     0     0     0     0     0     1  \n",
      "388     0     1     0     0     0     0     1     0  \n",
      "78      0     0     0     0     0     0     1     0  \n",
      "212     0     1     0     0     0     0     0     1  \n",
      "557     0     0     0     0     0     0     1     0  \n",
      "\n",
      "[5 rows x 31 columns]\n",
      "           Age   Debt  EthnicityMeanTrain  YearsEmployed  PriorDefault  \\\n",
      "501  24.170000  0.875            0.367647          4.625             1   \n",
      "341  40.919998  0.500            0.367647          0.500             0   \n",
      "438  24.830000  2.750            0.367647          2.250             1   \n",
      "411  27.000000  1.500            0.367647          0.375             1   \n",
      "48   26.170000  2.000            0.600000          0.000             0   \n",
      "\n",
      "     Employed  CreditScore  DriversLicense  Income  m_a  ...   el_i  el_j  \\\n",
      "501         1            2               1    2000    0  ...      0     0   \n",
      "341         0            0               1       0    0  ...      0     0   \n",
      "438         1            6               0     600    0  ...      0     0   \n",
      "411         0            0               1    1065    0  ...      0     0   \n",
      "48          0            0               1       1    1  ...      0     1   \n",
      "\n",
      "     el_k  el_m  el_q  el_r  el_w  el_x  ct_g  ct_s  \n",
      "501     0     0     1     0     0     0     1     0  \n",
      "341     0     1     0     0     0     0     1     0  \n",
      "438     0     0     0     0     0     0     1     0  \n",
      "411     0     0     0     0     1     0     1     0  \n",
      "48      0     0     0     0     0     0     1     0  \n",
      "\n",
      "[5 rows x 31 columns]\n",
      "Train\n",
      "0.8593114241001565\n",
      "[0.         0.10915493 1.        ]\n",
      "[0.         0.82777778 1.        ]\n",
      "Test\n",
      "Accuracy of logistic regression classifier on test set: 0.89\n",
      "[[63  8]\n",
      " [ 5 41]]\n",
      "              precision    recall  f1-score   support\n",
      "\n",
      "           0       0.93      0.89      0.91        71\n",
      "           1       0.84      0.89      0.86        46\n",
      "\n",
      "    accuracy                           0.89       117\n",
      "   macro avg       0.88      0.89      0.88       117\n",
      "weighted avg       0.89      0.89      0.89       117\n",
      "\n",
      "Index(['Age', 'Debt', 'Ethnicity', 'YearsEmployed', 'PriorDefault', 'Employed',\n",
      "       'CreditScore', 'DriversLicense', 'Income', 'Approved', 'm_a', 'm_b',\n",
      "       'Male', 'md_u', 'md_y', 'Married', 'bc_g', 'bc_p', 'BankCustomer',\n",
      "       'el_aa', 'el_c', 'el_cc', 'el_d', 'el_e', 'el_ff', 'el_i', 'el_j',\n",
      "       'el_k', 'el_m', 'el_q', 'el_r', 'el_w', 'el_x', 'EducationLevel',\n",
      "       'ct_g', 'ct_s', 'Citizen', 'EthnicityMeanEncoded', 'MaleMeanEncoded',\n",
      "       'MarriedMeanEncoded', 'BankCustomerMeanEncoded',\n",
      "       'EducationLevelMeanEncoded', 'CitizenMeanEncoded', 'EthnicityMeanTrain',\n",
      "       'MaleMeanTrain', 'MarriedMeanTrain', 'BankCustomerMeanTrain',\n",
      "       'EducationLevelMeanTrain', 'CitizenMeanTrain'],\n",
      "      dtype='object')\n",
      "Model Coefficients\n",
      "[[-1.08337556e-02 -1.84386314e-03  7.56965170e-02  6.81093446e-02\n",
      "   2.98740387e+00  7.51427389e-01  1.12580606e-01 -2.23283329e-01\n",
      "   4.85528266e-04 -4.33061899e-01 -4.86459710e-01 -3.20223756e-01\n",
      "  -5.99297853e-01 -3.20223756e-01 -5.99297853e-01 -3.68160507e-01\n",
      "  -4.83746613e-02  2.97710556e-01 -2.02491643e-01  1.74869495e-01\n",
      "  -8.05424043e-01 -8.10111832e-01  1.52130169e-01 -7.16476020e-01\n",
      "  -1.77623179e-01  4.24762642e-01 -1.89894877e-02  2.52243701e-01\n",
      "   9.26413202e-01 -5.38025748e-01 -3.81495861e-01]]\n",
      "0.8893141457440294\n",
      "[0.         0.11267606 1.        ]\n",
      "[0.         0.89130435 1.        ]\n"
     ]
    },
    {
     "name": "stderr",
     "output_type": "stream",
     "text": [
      "C:\\Users\\Home\\Anaconda3\\lib\\site-packages\\sklearn\\linear_model\\logistic.py:432: FutureWarning: Default solver will be changed to 'lbfgs' in 0.22. Specify a solver to silence this warning.\n",
      "  FutureWarning)\n"
     ]
    }
   ],
   "source": [
    "# Logistic Regression model fitting.\n",
    "# Building a basic logistic regression model without any feature selection.\n",
    "\n",
    "from sklearn.linear_model import LogisticRegression\n",
    "from sklearn import metrics\n",
    "\n",
    "logRegCols = ['Age', 'Debt', 'EthnicityMeanTrain', 'YearsEmployed', 'PriorDefault', 'Employed','CreditScore', 'DriversLicense', \n",
    "              'Income', 'm_a', 'm_b', 'md_u', 'md_y', 'bc_g', 'bc_p', 'el_aa', 'el_c', 'el_cc', 'el_d', 'el_e', 'el_ff', 'el_i', \n",
    "              'el_j','el_k', 'el_m', 'el_q', 'el_r', 'el_w', 'el_x', 'ct_g', 'ct_s']\n",
    "\n",
    "print (X_train[logRegCols].head())\n",
    "print (X_test[logRegCols].head())\n",
    "\n",
    "logreg = LogisticRegression()\n",
    "logreg.fit(X_train[logRegCols], y_train)\n",
    "y_pred_test = logreg.predict(X_test[logRegCols])\n",
    "y_pred_train = logreg.predict(X_train[logRegCols])\n",
    "\n",
    "print ('Train')\n",
    "from sklearn.metrics import roc_curve, auc\n",
    "false_positive_rate, true_positive_rate, thresholds = roc_curve(y_train, y_pred_train)\n",
    "roc_auc = auc(false_positive_rate, true_positive_rate)\n",
    "print (roc_auc)\n",
    "print (false_positive_rate)\n",
    "print (true_positive_rate)\n",
    "\n",
    "print ('Test')\n",
    "print('Accuracy of logistic regression classifier on test set: {:.2f}'.format(logreg.score(X_test[logRegCols], y_test)))\n",
    "from sklearn.metrics import confusion_matrix\n",
    "confusion_matrix = confusion_matrix(y_test, y_pred_test)\n",
    "print(confusion_matrix)\n",
    "from sklearn.metrics import classification_report\n",
    "print(classification_report(y_test, y_pred_test))\n",
    "print (X_train.columns)\n",
    "print ('Model Coefficients')\n",
    "print (logreg.coef_)\n",
    "\n",
    "from sklearn.metrics import roc_curve, auc\n",
    "false_positive_rate, true_positive_rate, thresholds = roc_curve(y_test, y_pred_test)\n",
    "roc_auc = auc(false_positive_rate, true_positive_rate)\n",
    "print (roc_auc)\n",
    "print (false_positive_rate)\n",
    "print (true_positive_rate)"
   ]
  },
  {
   "cell_type": "markdown",
   "metadata": {},
   "source": [
    "# Feature Selection + Logistic Regression"
   ]
  },
  {
   "cell_type": "code",
   "execution_count": 33,
   "metadata": {},
   "outputs": [],
   "source": [
    "import pandas as pd\n",
    "import numpy as np\n",
    "import scipy.stats as stats\n",
    "from scipy.stats import chi2_contingency\n",
    "\n",
    "class ChiSquare:\n",
    "    def __init__(self, dataframe):\n",
    "        self.df = dataframe\n",
    "        self.p = None #P-Value\n",
    "        self.chi2 = None #Chi Test Statistic\n",
    "        self.dof = None\n",
    "        \n",
    "        self.dfTabular = None\n",
    "        self.dfExpected = None\n",
    "        \n",
    "    def _print_chisquare_result(self, colX, alpha):\n",
    "        result = \"\"\n",
    "        if self.p<alpha:\n",
    "            result=\"{0} is IMPORTANT for Prediction\".format(colX)\n",
    "        else:\n",
    "            result=\"{0} is NOT an important predictor. (Discard {0} from model)\".format(colX)\n",
    "\n",
    "        print(result)\n",
    "        \n",
    "    def TestIndependence(self,colX,colY, alpha=0.01):\n",
    "        X = self.df[colX].astype(str)\n",
    "        Y = self.df[colY].astype(str)\n",
    "        \n",
    "        self.dfObserved = pd.crosstab(Y,X) \n",
    "        chi2, p, dof, expected = stats.chi2_contingency(self.dfObserved.values)\n",
    "        self.p = p\n",
    "        self.chi2 = chi2\n",
    "        self.dof = dof \n",
    "        \n",
    "        self.dfExpected = pd.DataFrame(expected, columns=self.dfObserved.columns, index = self.dfObserved.index)\n",
    "        \n",
    "        self._print_chisquare_result(colX, alpha)"
   ]
  },
  {
   "cell_type": "code",
   "execution_count": 34,
   "metadata": {},
   "outputs": [
    {
     "name": "stdout",
     "output_type": "stream",
     "text": [
      "     EthnicityMeanTrain  PriorDefault  Employed  CreditScore  DriversLicense  \\\n",
      "296            0.367647             0         0            0               0   \n",
      "388            0.581395             1         1           12               1   \n",
      "78             0.600000             0         1            1               0   \n",
      "212            0.367647             0         0            0               0   \n",
      "557            0.367647             1         1            8               1   \n",
      "\n",
      "     m_a  m_b  md_u  md_y  bc_g    ...     el_j  el_k  el_m  el_q  el_r  el_w  \\\n",
      "296    0    1     1     0     1    ...        0     0     1     0     0     0   \n",
      "388    0    1     1     0     1    ...        0     0     1     0     0     0   \n",
      "78     1    0     1     0     1    ...        1     0     0     0     0     0   \n",
      "212    0    1     0     1     0    ...        0     0     1     0     0     0   \n",
      "557    0    1     0     1     0    ...        0     0     0     0     0     0   \n",
      "\n",
      "     el_x  ct_g  ct_s  Approved  \n",
      "296     0     0     1         0  \n",
      "388     0     1     0         1  \n",
      "78      0     1     0         0  \n",
      "212     0     0     1         0  \n",
      "557     0     1     0         1  \n",
      "\n",
      "[5 rows x 28 columns]\n",
      "EthnicityMeanTrain is IMPORTANT for Prediction\n",
      "PriorDefault is IMPORTANT for Prediction\n",
      "Employed is IMPORTANT for Prediction\n",
      "CreditScore is IMPORTANT for Prediction\n",
      "DriversLicense is NOT an important predictor. (Discard DriversLicense from model)\n",
      "m_a is NOT an important predictor. (Discard m_a from model)\n",
      "m_b is NOT an important predictor. (Discard m_b from model)\n",
      "md_u is IMPORTANT for Prediction\n",
      "md_y is IMPORTANT for Prediction\n",
      "bc_g is IMPORTANT for Prediction\n",
      "bc_p is IMPORTANT for Prediction\n",
      "el_aa is NOT an important predictor. (Discard el_aa from model)\n",
      "el_c is NOT an important predictor. (Discard el_c from model)\n",
      "el_cc is NOT an important predictor. (Discard el_cc from model)\n",
      "el_d is NOT an important predictor. (Discard el_d from model)\n",
      "el_e is NOT an important predictor. (Discard el_e from model)\n",
      "el_ff is IMPORTANT for Prediction\n",
      "el_i is IMPORTANT for Prediction\n",
      "el_j is NOT an important predictor. (Discard el_j from model)\n",
      "el_k is NOT an important predictor. (Discard el_k from model)\n",
      "el_m is NOT an important predictor. (Discard el_m from model)\n",
      "el_q is IMPORTANT for Prediction\n",
      "el_r is NOT an important predictor. (Discard el_r from model)\n",
      "el_w is NOT an important predictor. (Discard el_w from model)\n",
      "el_x is IMPORTANT for Prediction\n",
      "ct_g is NOT an important predictor. (Discard ct_g from model)\n",
      "ct_s is NOT an important predictor. (Discard ct_s from model)\n",
      "Approved is IMPORTANT for Prediction\n"
     ]
    }
   ],
   "source": [
    "# Building model after selecting features using chi square test\n",
    "\n",
    "catCols = ['EthnicityMeanTrain', 'PriorDefault', 'Employed','CreditScore', 'DriversLicense', 'm_a', 'm_b', 'md_u', 'md_y', 'bc_g',\n",
    "           'bc_p', 'el_aa', 'el_c', 'el_cc', 'el_d', 'el_e', 'el_ff', 'el_i', 'el_j','el_k', 'el_m', 'el_q', 'el_r', 'el_w',\n",
    "           'el_x', 'ct_g', 'ct_s','Approved']\n",
    "\n",
    "# Initialize ChiSquare Class\n",
    "print (X_train[catCols].head())\n",
    "cT = ChiSquare(X_train[catCols])\n",
    "\n",
    "for var in catCols:\n",
    "    cT.TestIndependence(colX=var,colY=\"Approved\")  "
   ]
  },
  {
   "cell_type": "code",
   "execution_count": 35,
   "metadata": {},
   "outputs": [
    {
     "name": "stdout",
     "output_type": "stream",
     "text": [
      "Train\n",
      "0.8784820031298906\n",
      "[0.         0.09859155 1.        ]\n",
      "[0.         0.85555556 1.        ]\n",
      "Accuracy of logistic regression classifier on test set: 0.90\n",
      "[[63  8]\n",
      " [ 4 42]]\n",
      "              precision    recall  f1-score   support\n",
      "\n",
      "           0       0.94      0.89      0.91        71\n",
      "           1       0.84      0.91      0.87        46\n",
      "\n",
      "    accuracy                           0.90       117\n",
      "   macro avg       0.89      0.90      0.89       117\n",
      "weighted avg       0.90      0.90      0.90       117\n",
      "\n",
      "Index(['Age', 'Debt', 'Ethnicity', 'YearsEmployed', 'PriorDefault', 'Employed',\n",
      "       'CreditScore', 'DriversLicense', 'Income', 'Approved', 'm_a', 'm_b',\n",
      "       'Male', 'md_u', 'md_y', 'Married', 'bc_g', 'bc_p', 'BankCustomer',\n",
      "       'el_aa', 'el_c', 'el_cc', 'el_d', 'el_e', 'el_ff', 'el_i', 'el_j',\n",
      "       'el_k', 'el_m', 'el_q', 'el_r', 'el_w', 'el_x', 'EducationLevel',\n",
      "       'ct_g', 'ct_s', 'Citizen', 'EthnicityMeanEncoded', 'MaleMeanEncoded',\n",
      "       'MarriedMeanEncoded', 'BankCustomerMeanEncoded',\n",
      "       'EducationLevelMeanEncoded', 'CitizenMeanEncoded', 'EthnicityMeanTrain',\n",
      "       'MaleMeanTrain', 'MarriedMeanTrain', 'BankCustomerMeanTrain',\n",
      "       'EducationLevelMeanTrain', 'CitizenMeanTrain'],\n",
      "      dtype='object')\n",
      "Model Coefficients\n",
      "[[-1.22470464e-02 -1.43220897e-03 -7.46309492e-02  6.80607462e-02\n",
      "   2.89936007e+00  7.39078844e-01  1.15508860e-01  4.94909037e-04\n",
      "  -5.78240042e-01 -8.47910818e-01 -5.78240042e-01 -8.47910818e-01\n",
      "  -7.49254283e-01 -8.05143676e-01  4.92435811e-01  9.90599437e-01]]\n",
      "Test\n",
      "0.9001837109614208\n",
      "[0.         0.11267606 1.        ]\n",
      "[0.         0.91304348 1.        ]\n"
     ]
    },
    {
     "name": "stderr",
     "output_type": "stream",
     "text": [
      "C:\\Users\\Home\\Anaconda3\\lib\\site-packages\\sklearn\\linear_model\\logistic.py:432: FutureWarning: Default solver will be changed to 'lbfgs' in 0.22. Specify a solver to silence this warning.\n",
      "  FutureWarning)\n"
     ]
    }
   ],
   "source": [
    "# choosing best features.\n",
    "\n",
    "logRegBestCols = ['Age', 'Debt', 'EthnicityMeanTrain', 'YearsEmployed', 'PriorDefault', 'Employed','CreditScore', 'Income', \n",
    "             'md_u', 'md_y', 'bc_g', 'bc_p', 'el_ff', 'el_i', 'el_q', 'el_x']\n",
    "\n",
    "# Logistic Regression model fitting.\n",
    "from sklearn.linear_model import LogisticRegression\n",
    "from sklearn import metrics\n",
    "from sklearn.preprocessing import StandardScaler\n",
    "\n",
    "logreg = LogisticRegression()\n",
    "logreg.fit(X_train[logRegBestCols], y_train)\n",
    "y_pred_test = logreg.predict(X_test[logRegBestCols])\n",
    "y_pred_train = logreg.predict(X_train[logRegBestCols])\n",
    "\n",
    "print ('Train')\n",
    "from sklearn.metrics import roc_curve, auc\n",
    "false_positive_rate, true_positive_rate, thresholds = roc_curve(y_train, y_pred_train)\n",
    "roc_auc = auc(false_positive_rate, true_positive_rate)\n",
    "print (roc_auc)\n",
    "print (false_positive_rate)\n",
    "print (true_positive_rate)\n",
    "\n",
    "print('Accuracy of logistic regression classifier on test set: {:.2f}'.format(logreg.score(X_test[logRegBestCols], y_test)))\n",
    "from sklearn.metrics import confusion_matrix\n",
    "confusion_matrix = confusion_matrix(y_test, y_pred_test)\n",
    "print(confusion_matrix)\n",
    "from sklearn.metrics import classification_report\n",
    "print(classification_report(y_test, y_pred_test))\n",
    "print (X_train.columns)\n",
    "print ('Model Coefficients')\n",
    "print (logreg.coef_)\n",
    "\n",
    "print ('Test')\n",
    "from sklearn.metrics import roc_curve, auc\n",
    "false_positive_rate, true_positive_rate, thresholds = roc_curve(y_test, y_pred_test)\n",
    "roc_auc = auc(false_positive_rate, true_positive_rate)\n",
    "print (roc_auc)\n",
    "print (false_positive_rate)\n",
    "print (true_positive_rate)"
   ]
  },
  {
   "cell_type": "code",
   "execution_count": 36,
   "metadata": {},
   "outputs": [
    {
     "name": "stdout",
     "output_type": "stream",
     "text": [
      "         Age   Debt  EthnicityMeanEncoded  YearsEmployed  PriorDefault  \\\n",
      "0  40.830002  3.500              0.381818          0.500             0   \n",
      "1  32.250000  1.500              0.367347          0.250             0   \n",
      "2  28.170000  0.585              0.367347          0.040             0   \n",
      "3  29.750000  0.665              0.367347          0.250             0   \n",
      "4  26.500000  2.710              0.367347          0.085             0   \n",
      "\n",
      "   Employed  CreditScore  Income  md_u  md_y  bc_g  bc_p  el_ff  el_i  el_q  \\\n",
      "0         0            0       0     1     0     1     0      0     1     0   \n",
      "1         0            0     122     1     0     1     0      0     0     0   \n",
      "2         0            0    1004     1     0     1     0      0     0     0   \n",
      "3         0            0       0     1     0     1     0      0     0     0   \n",
      "4         0            0       0     0     1     0     1      0     0     0   \n",
      "\n",
      "   el_x  \n",
      "0     0  \n",
      "1     0  \n",
      "2     0  \n",
      "3     0  \n",
      "4     0  \n",
      "         Age   Debt  EthnicityMeanEncoded  YearsEmployed  PriorDefault  \\\n",
      "0  31.830000   0.04              0.367347          0.040             0   \n",
      "1  21.750000  11.75              0.367347          0.250             0   \n",
      "2  17.920000   0.54              0.367347          1.750             0   \n",
      "3  30.330000   0.50              0.576923          0.085             0   \n",
      "4  51.830002   2.04              0.115385          1.500             0   \n",
      "\n",
      "   Employed  CreditScore  Income  md_u  md_y  bc_g  bc_p  el_ff  el_i  el_q  \\\n",
      "0         0            0       0     0     1     0     1      0     0     0   \n",
      "1         0            0       0     1     0     1     0      0     0     0   \n",
      "2         1            1       5     1     0     1     0      0     0     0   \n",
      "3         0            0       0     1     0     1     0      0     0     0   \n",
      "4         0            0       1     0     1     0     1      1     0     0   \n",
      "\n",
      "   el_x  \n",
      "0     0  \n",
      "1     0  \n",
      "2     0  \n",
      "3     0  \n",
      "4     0  \n"
     ]
    },
    {
     "name": "stderr",
     "output_type": "stream",
     "text": [
      "C:\\Users\\Home\\Anaconda3\\lib\\site-packages\\sklearn\\linear_model\\logistic.py:432: FutureWarning: Default solver will be changed to 'lbfgs' in 0.22. Specify a solver to silence this warning.\n",
      "  FutureWarning)\n"
     ]
    }
   ],
   "source": [
    "#Actual model building for submission\n",
    "from sklearn.model_selection import train_test_split\n",
    "from sklearn.linear_model import LogisticRegression\n",
    "from sklearn import metrics\n",
    "\n",
    "Y = modelTrain['Approved']\n",
    "X = modelTrain\n",
    "\n",
    "logRegBestCols = ['Age', 'Debt', 'EthnicityMeanEncoded', 'YearsEmployed', 'PriorDefault', 'Employed','CreditScore', 'Income', \n",
    "             'md_u', 'md_y', 'bc_g', 'bc_p', 'el_ff', 'el_i', 'el_q', 'el_x']\n",
    "\n",
    "print (modelTrain[logRegBestCols].head())\n",
    "print (modelTest[logRegBestCols].head())\n",
    "\n",
    "logreg = LogisticRegression()\n",
    "logreg.fit(X[logRegBestCols], Y)\n",
    "\n",
    "Approved = logreg.predict(modelTest[logRegBestCols])\n",
    "modelTest['Approved'] = Approved\n",
    "\n",
    "ensemble['Key'] = modelTest['Key']\n",
    "ensemble['lr'] = modelTest['Approved']\n",
    "\n",
    "modelTest.replace({'Approved':{1 :'+', 0 :'-'}}, inplace=True) \n",
    "#logTest.to_csv('submission7.csv')\n",
    "\n",
    "del modelTest['Approved']"
   ]
  },
  {
   "cell_type": "markdown",
   "metadata": {},
   "source": [
    "# XGBoost"
   ]
  },
  {
   "cell_type": "code",
   "execution_count": 37,
   "metadata": {},
   "outputs": [
    {
     "name": "stdout",
     "output_type": "stream",
     "text": [
      "           Age   Debt  EthnicityMeanTrain  YearsEmployed  PriorDefault  \\\n",
      "296  34.669998  1.080            0.367647          1.165             0   \n",
      "388  37.330002  6.500            0.581395          4.250             1   \n",
      "78   23.000000  1.835            0.600000          0.000             0   \n",
      "212  39.419998  1.710            0.367647          0.165             0   \n",
      "557  21.000000  3.000            0.367647          1.085             1   \n",
      "\n",
      "     Employed  CreditScore  DriversLicense  Income  MaleMeanTrain  \\\n",
      "296         0            0               0       0       0.374613   \n",
      "388         1           12               1       0       0.374613   \n",
      "78          1            1               0      53       0.418440   \n",
      "212         0            0               0       0       0.374613   \n",
      "557         1            8               1       1       0.374613   \n",
      "\n",
      "     MarriedMeanTrain  BankCustomerMeanTrain  EducationLevelMeanTrain  \\\n",
      "296          0.440580               0.440580                 0.363636   \n",
      "388          0.440580               0.440580                 0.363636   \n",
      "78           0.440580               0.440580                 0.500000   \n",
      "212          0.235294               0.235294                 0.363636   \n",
      "557          0.235294               0.235294                 0.190476   \n",
      "\n",
      "     CitizenMeanTrain  \n",
      "296          0.230769  \n",
      "388          0.402353  \n",
      "78           0.402353  \n",
      "212          0.230769  \n",
      "557          0.402353  \n",
      "           Age   Debt  EthnicityMeanTrain  YearsEmployed  PriorDefault  \\\n",
      "501  24.170000  0.875            0.367647          4.625             1   \n",
      "341  40.919998  0.500            0.367647          0.500             0   \n",
      "438  24.830000  2.750            0.367647          2.250             1   \n",
      "411  27.000000  1.500            0.367647          0.375             1   \n",
      "48   26.170000  2.000            0.600000          0.000             0   \n",
      "\n",
      "     Employed  CreditScore  DriversLicense  Income  MaleMeanTrain  \\\n",
      "501         1            2               1    2000       0.374613   \n",
      "341         0            0               1       0       0.374613   \n",
      "438         1            6               0     600       0.374613   \n",
      "411         0            0               1    1065       0.374613   \n",
      "48          0            0               1       1       0.418440   \n",
      "\n",
      "     MarriedMeanTrain  BankCustomerMeanTrain  EducationLevelMeanTrain  \\\n",
      "501          0.440580               0.440580                 0.641509   \n",
      "341          0.235294               0.235294                 0.363636   \n",
      "438          0.440580               0.440580                 0.395833   \n",
      "411          0.235294               0.235294                 0.422222   \n",
      "48           0.440580               0.440580                 0.500000   \n",
      "\n",
      "     CitizenMeanTrain  \n",
      "501          0.402353  \n",
      "341          0.402353  \n",
      "438          0.402353  \n",
      "411          0.402353  \n",
      "48           0.402353  \n",
      "Train\n",
      "0.9556338028169015\n",
      "[0.         0.03873239 1.        ]\n",
      "[0.   0.95 1.  ]\n",
      "Test\n",
      "0.9001837109614208\n",
      "[0.         0.11267606 1.        ]\n",
      "[0.         0.91304348 1.        ]\n"
     ]
    }
   ],
   "source": [
    "import xgboost as xgb\n",
    "\n",
    "xgbCols = ['Age', 'Debt', 'EthnicityMeanTrain', 'YearsEmployed', 'PriorDefault', 'Employed',\n",
    "           'CreditScore', 'DriversLicense', 'Income', 'MaleMeanTrain', 'MarriedMeanTrain',\n",
    "           'BankCustomerMeanTrain','EducationLevelMeanTrain','CitizenMeanTrain']\n",
    "\n",
    "print (X_train[xgbCols].head())\n",
    "print (X_test[xgbCols].head())\n",
    "\n",
    "xg = xgb.XGBClassifier(objective = 'reg:logistic')\n",
    "xg.fit(X_train[xgbCols], y_train)\n",
    "\n",
    "y_pred_train = xg.predict(X_train[xgbCols])\n",
    "y_pred_test = xg.predict(X_test[xgbCols])\n",
    "\n",
    "print (\"Train\")\n",
    "from sklearn.metrics import roc_curve, auc\n",
    "false_positive_rate, true_positive_rate, thresholds = roc_curve(y_train, y_pred_train)\n",
    "roc_auc = auc(false_positive_rate, true_positive_rate)\n",
    "print (roc_auc)\n",
    "print (false_positive_rate)\n",
    "print (true_positive_rate)\n",
    "\n",
    "print(\"Test\")\n",
    "from sklearn.metrics import roc_curve, auc\n",
    "false_positive_rate, true_positive_rate, thresholds = roc_curve(y_test, y_pred_test)\n",
    "roc_auc = auc(false_positive_rate, true_positive_rate)\n",
    "print (roc_auc)\n",
    "print (false_positive_rate)\n",
    "print (true_positive_rate)"
   ]
  },
  {
   "cell_type": "code",
   "execution_count": 38,
   "metadata": {},
   "outputs": [],
   "source": [
    "# Actual model building for submission.\n",
    "import xgboost as xgb\n",
    "\n",
    "xgbCols = ['Age', 'Debt', 'EthnicityMeanEncoded', 'YearsEmployed', 'PriorDefault', 'Employed',\n",
    "           'CreditScore', 'DriversLicense', 'Income', 'MaleMeanEncoded', 'MarriedMeanEncoded',\n",
    "           'BankCustomerMeanEncoded','EducationLevelMeanEncoded','CitizenMeanEncoded']\n",
    "\n",
    "xg = xgb.XGBClassifier(objective = 'reg:logistic')\n",
    "xg.fit(modelTrain[xgbCols], Y)\n",
    "\n",
    "Approved = xg.predict(modelTest[xgbCols])\n",
    "modelTest['Approved'] = Approved\n",
    "ensemble['xgb'] = modelTest['Approved']\n",
    "\n",
    "del modelTest['Approved']"
   ]
  },
  {
   "cell_type": "markdown",
   "metadata": {},
   "source": [
    "# Random Forest "
   ]
  },
  {
   "cell_type": "code",
   "execution_count": 39,
   "metadata": {},
   "outputs": [
    {
     "name": "stdout",
     "output_type": "stream",
     "text": [
      "           Age   Debt  EthnicityMeanTrain  YearsEmployed  PriorDefault  \\\n",
      "296  34.669998  1.080            0.367647          1.165             0   \n",
      "388  37.330002  6.500            0.581395          4.250             1   \n",
      "78   23.000000  1.835            0.600000          0.000             0   \n",
      "212  39.419998  1.710            0.367647          0.165             0   \n",
      "557  21.000000  3.000            0.367647          1.085             1   \n",
      "\n",
      "     Employed  CreditScore  DriversLicense  Income  MaleMeanTrain  \\\n",
      "296         0            0               0       0       0.374613   \n",
      "388         1           12               1       0       0.374613   \n",
      "78          1            1               0      53       0.418440   \n",
      "212         0            0               0       0       0.374613   \n",
      "557         1            8               1       1       0.374613   \n",
      "\n",
      "     MarriedMeanTrain  BankCustomerMeanTrain  EducationLevelMeanTrain  \\\n",
      "296          0.440580               0.440580                 0.363636   \n",
      "388          0.440580               0.440580                 0.363636   \n",
      "78           0.440580               0.440580                 0.500000   \n",
      "212          0.235294               0.235294                 0.363636   \n",
      "557          0.235294               0.235294                 0.190476   \n",
      "\n",
      "     CitizenMeanTrain  \n",
      "296          0.230769  \n",
      "388          0.402353  \n",
      "78           0.402353  \n",
      "212          0.230769  \n",
      "557          0.402353  \n",
      "           Age   Debt  EthnicityMeanTrain  YearsEmployed  PriorDefault  \\\n",
      "501  24.170000  0.875            0.367647          4.625             1   \n",
      "341  40.919998  0.500            0.367647          0.500             0   \n",
      "438  24.830000  2.750            0.367647          2.250             1   \n",
      "411  27.000000  1.500            0.367647          0.375             1   \n",
      "48   26.170000  2.000            0.600000          0.000             0   \n",
      "\n",
      "     Employed  CreditScore  DriversLicense  Income  MaleMeanTrain  \\\n",
      "501         1            2               1    2000       0.374613   \n",
      "341         0            0               1       0       0.374613   \n",
      "438         1            6               0     600       0.374613   \n",
      "411         0            0               1    1065       0.374613   \n",
      "48          0            0               1       1       0.418440   \n",
      "\n",
      "     MarriedMeanTrain  BankCustomerMeanTrain  EducationLevelMeanTrain  \\\n",
      "501          0.440580               0.440580                 0.641509   \n",
      "341          0.235294               0.235294                 0.363636   \n",
      "438          0.440580               0.440580                 0.395833   \n",
      "411          0.235294               0.235294                 0.422222   \n",
      "48           0.440580               0.440580                 0.500000   \n",
      "\n",
      "     CitizenMeanTrain  \n",
      "501          0.402353  \n",
      "341          0.402353  \n",
      "438          0.402353  \n",
      "411          0.402353  \n",
      "48           0.402353  \n",
      "Train\n",
      "0.9899061032863851\n",
      "[0.         0.00352113 1.        ]\n",
      "[0.         0.98333333 1.        ]\n",
      "[[63  8]\n",
      " [ 6 40]]\n",
      "Test\n",
      "0.8784445805266381\n",
      "[0.         0.11267606 1.        ]\n",
      "[0.         0.86956522 1.        ]\n"
     ]
    },
    {
     "name": "stderr",
     "output_type": "stream",
     "text": [
      "C:\\Users\\Home\\Anaconda3\\lib\\site-packages\\sklearn\\ensemble\\forest.py:245: FutureWarning: The default value of n_estimators will change from 10 in version 0.20 to 100 in 0.22.\n",
      "  \"10 in version 0.20 to 100 in 0.22.\", FutureWarning)\n"
     ]
    }
   ],
   "source": [
    "from sklearn.ensemble import RandomForestClassifier\n",
    "\n",
    "rfCols = ['Age', 'Debt', 'EthnicityMeanTrain', 'YearsEmployed', 'PriorDefault', 'Employed',\n",
    "           'CreditScore', 'DriversLicense', 'Income', 'MaleMeanTrain', 'MarriedMeanTrain',\n",
    "           'BankCustomerMeanTrain','EducationLevelMeanTrain','CitizenMeanTrain']\n",
    "\n",
    "print (X_train[rfCols].head())\n",
    "print (X_test[rfCols].head())\n",
    "\n",
    "rf = RandomForestClassifier()\n",
    "rf.fit(X_train[rfCols], y_train)\n",
    "y_pred_test = rf.predict(X_test[rfCols])\n",
    "y_pred_train = rf.predict(X_train[rfCols])\n",
    "\n",
    "print ('Train')\n",
    "from sklearn.metrics import roc_curve, auc\n",
    "false_positive_rate, true_positive_rate, thresholds = roc_curve(y_train, y_pred_train)\n",
    "roc_auc = auc(false_positive_rate, true_positive_rate)\n",
    "print (roc_auc)\n",
    "print (false_positive_rate)\n",
    "print (true_positive_rate)\n",
    "\n",
    "from sklearn.metrics import confusion_matrix\n",
    "confusion_matrix = confusion_matrix(y_test, y_pred_test)\n",
    "print(confusion_matrix)\n",
    "\n",
    "print ('Test')\n",
    "from sklearn.metrics import roc_curve, auc\n",
    "false_positive_rate, true_positive_rate, thresholds = roc_curve(y_test, y_pred_test)\n",
    "roc_auc = auc(false_positive_rate, true_positive_rate)\n",
    "print (roc_auc)\n",
    "print (false_positive_rate)\n",
    "print (true_positive_rate)"
   ]
  },
  {
   "cell_type": "markdown",
   "metadata": {},
   "source": [
    "# Random Forest + Grid Search"
   ]
  },
  {
   "cell_type": "code",
   "execution_count": 40,
   "metadata": {},
   "outputs": [
    {
     "name": "stderr",
     "output_type": "stream",
     "text": [
      "C:\\Users\\Home\\Anaconda3\\lib\\site-packages\\sklearn\\model_selection\\_split.py:1978: FutureWarning: The default value of cv will change from 3 to 5 in version 0.22. Specify it explicitly to silence this warning.\n",
      "  warnings.warn(CV_WARNING, FutureWarning)\n",
      "C:\\Users\\Home\\Anaconda3\\lib\\site-packages\\sklearn\\model_selection\\_search.py:814: DeprecationWarning: The default of the `iid` parameter will change from True to False in version 0.22 and will be removed in 0.24. This will change numeric results when test-set sizes are unequal.\n",
      "  DeprecationWarning)\n"
     ]
    },
    {
     "name": "stdout",
     "output_type": "stream",
     "text": [
      "RandomForestClassifier(bootstrap=True, class_weight=None, criterion='gini',\n",
      "                       max_depth=25, max_features=8, max_leaf_nodes=None,\n",
      "                       min_impurity_decrease=0.0, min_impurity_split=None,\n",
      "                       min_samples_leaf=0.1, min_samples_split=0.1,\n",
      "                       min_weight_fraction_leaf=0.0, n_estimators=4,\n",
      "                       n_jobs=None, oob_score=False, random_state=None,\n",
      "                       verbose=0, warm_start=False)\n",
      "Train\n",
      "0.8793035993740219\n",
      "[0.         0.13028169 1.        ]\n",
      "[0.         0.88888889 1.        ]\n",
      "[[62  9]\n",
      " [ 5 41]]\n",
      "Test\n",
      "0.8822718922229026\n",
      "[0.         0.12676056 1.        ]\n",
      "[0.         0.89130435 1.        ]\n"
     ]
    }
   ],
   "source": [
    "# Using Grid search for automatic random forest hyper parameter tuning.\n",
    "\n",
    "from sklearn.model_selection import GridSearchCV\n",
    "from sklearn.ensemble import RandomForestClassifier\n",
    "\n",
    "rf = RandomForestClassifier()\n",
    "\n",
    "n_estimators = [1, 2, 4, 5, 8, 16, 32, 64]\n",
    "max_depth = [i for i in range(1,33,1)]\n",
    "min_samples_leaf = [round(i/100,1) for i in range(10,60,10)]\n",
    "min_samples_split = [round(i/100,1) for i in range(10,110,10)]\n",
    "max_features = list(range(1,X_train[rfCols].shape[1]))\n",
    "\n",
    "grid_values = {'n_estimators': n_estimators, 'max_depth':max_depth, \n",
    "               'min_samples_leaf' : min_samples_leaf, 'max_features' : max_features,\n",
    "               'min_samples_split' : min_samples_split}\n",
    "\n",
    "grid_clf_acc = GridSearchCV(rf, param_grid = grid_values,scoring = 'roc_auc')\n",
    "grid_clf_acc.fit(X_train[rfCols], y_train)\n",
    "\n",
    "print(grid_clf_acc.best_estimator_)\n",
    "\n",
    "y_pred_test = grid_clf_acc.predict(X_test[rfCols])\n",
    "y_pred_train = grid_clf_acc.predict(X_train[rfCols])\n",
    "\n",
    "print ('Train')\n",
    "from sklearn.metrics import roc_curve, auc\n",
    "false_positive_rate, true_positive_rate, thresholds = roc_curve(y_train, y_pred_train)\n",
    "roc_auc = auc(false_positive_rate, true_positive_rate)\n",
    "print (roc_auc)\n",
    "print (false_positive_rate)\n",
    "print (true_positive_rate)\n",
    "\n",
    "from sklearn.metrics import confusion_matrix\n",
    "confusion_matrix = confusion_matrix(y_test, y_pred_test)\n",
    "print(confusion_matrix)\n",
    "\n",
    "print ('Test')\n",
    "from sklearn.metrics import roc_curve, auc\n",
    "false_positive_rate, true_positive_rate, thresholds = roc_curve(y_test, y_pred_test)\n",
    "roc_auc = auc(false_positive_rate, true_positive_rate)\n",
    "print (roc_auc)\n",
    "print (false_positive_rate)\n",
    "print (true_positive_rate)"
   ]
  },
  {
   "cell_type": "code",
   "execution_count": 44,
   "metadata": {},
   "outputs": [],
   "source": [
    "# Actual model building for submission.\n",
    "from sklearn.ensemble import RandomForestClassifier\n",
    "\n",
    "rfCols = ['Age', 'Debt', 'EthnicityMeanEncoded', 'YearsEmployed', 'PriorDefault', 'Employed',\n",
    "          'CreditScore', 'DriversLicense', 'Income', 'MaleMeanEncoded', 'MarriedMeanEncoded', \n",
    "          'BankCustomerMeanEncoded','EducationLevelMeanEncoded','CitizenMeanEncoded']\n",
    "\n",
    "# Using hyper parameters tuned from grid search\n",
    "rf = RandomForestClassifier(bootstrap=True, class_weight=None, criterion='gini',\n",
    "                       max_depth=25, max_features=8, max_leaf_nodes=None,\n",
    "                       min_impurity_decrease=0.0, min_impurity_split=None,\n",
    "                       min_samples_leaf=0.1, min_samples_split=0.1,\n",
    "                       min_weight_fraction_leaf=0.0, n_estimators=4,\n",
    "                       n_jobs=None, oob_score=False, random_state=None,\n",
    "                       verbose=0, warm_start=False)\n",
    "rf.fit(modelTrain[rfCols], Y)\n",
    "\n",
    "Approved = rf.predict(modelTest[rfCols])\n",
    "modelTest['Approved'] = Approved\n",
    "ensemble['rf'] = modelTest['Approved']\n",
    "\n",
    "modelTest.replace({'Approved':{1 :'+', 0 :'-'}}, inplace=True) \n",
    "#rfTest.to_csv('submission10.csv')\n",
    "\n",
    "del modelTest['Approved']\n"
   ]
  },
  {
   "cell_type": "markdown",
   "metadata": {},
   "source": [
    "# Stacking classifier - Maximum vote classifier"
   ]
  },
  {
   "cell_type": "code",
   "execution_count": 42,
   "metadata": {},
   "outputs": [],
   "source": [
    "# Ensemble of all three models.\n",
    "# Maximum vote mechanism"
   ]
  },
  {
   "cell_type": "code",
   "execution_count": 45,
   "metadata": {},
   "outputs": [],
   "source": [
    "ensemble['approvedSum'] = ensemble.lr + ensemble.xgb + ensemble.rf\n",
    "ensemble['Approved'] = [0 if x <2 else 1 for x in ensemble['approvedSum']] \n",
    "ensemble.replace({'Approved':{1 :'+', 0 :'-'}}, inplace=True) "
   ]
  },
  {
   "cell_type": "code",
   "execution_count": null,
   "metadata": {},
   "outputs": [],
   "source": []
  }
 ],
 "metadata": {
  "kernelspec": {
   "display_name": "Python 3",
   "language": "python",
   "name": "python3"
  },
  "language_info": {
   "codemirror_mode": {
    "name": "ipython",
    "version": 3
   },
   "file_extension": ".py",
   "mimetype": "text/x-python",
   "name": "python",
   "nbconvert_exporter": "python",
   "pygments_lexer": "ipython3",
   "version": "3.7.1"
  }
 },
 "nbformat": 4,
 "nbformat_minor": 2
}
