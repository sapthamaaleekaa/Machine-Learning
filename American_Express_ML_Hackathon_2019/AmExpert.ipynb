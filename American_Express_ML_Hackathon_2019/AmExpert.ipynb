{
 "cells": [
  {
   "cell_type": "code",
   "execution_count": 1,
   "metadata": {},
   "outputs": [],
   "source": [
    "# Importing the libraries\n",
    "import numpy as np\n",
    "import matplotlib.pyplot as plt\n",
    "import pandas as pd\n",
    "from pandasql import sqldf\n",
    "pysqldf = lambda q: sqldf(q, globals())"
   ]
  },
  {
   "cell_type": "code",
   "execution_count": 2,
   "metadata": {},
   "outputs": [],
   "source": [
    "import os\n",
    "os.getcwd()\n",
    "os.chdir(\"C:\\\\Users\\\\Home\\\\Desktop\\\\Saptha\\\\Machine-Learning\\\\AmExpert\")\n"
   ]
  },
  {
   "cell_type": "code",
   "execution_count": 3,
   "metadata": {},
   "outputs": [],
   "source": [
    "# Invoke garbage collector in python\n",
    "import gc "
   ]
  },
  {
   "cell_type": "code",
   "execution_count": 4,
   "metadata": {},
   "outputs": [],
   "source": [
    "# Importing input Datasets\n",
    "\n",
    "train = pd.read_csv('train.csv')\n",
    "campaign = pd.read_csv('campaign_data.csv')\n",
    "couponItem = pd.read_csv('coupon_item_mapping.csv')\n",
    "customerDem = pd.read_csv('customer_demographics.csv')\n",
    "customerTrans = pd.read_csv('customer_transaction_data.csv')\n",
    "item = pd.read_csv('item_data.csv')\n"
   ]
  },
  {
   "cell_type": "code",
   "execution_count": 5,
   "metadata": {},
   "outputs": [
    {
     "name": "stdout",
     "output_type": "stream",
     "text": [
      "(78369, 11)\n",
      "(78369, 5)\n",
      "(760, 7)\n"
     ]
    },
    {
     "data": {
      "text/plain": [
       "197"
      ]
     },
     "execution_count": 5,
     "metadata": {},
     "output_type": "execute_result"
    }
   ],
   "source": [
    "# Combining train and customer demographics based on customer_id.\n",
    "trainAnalysis = pysqldf(\"SELECT t.id, t.campaign_id, t.coupon_id, t.customer_id, t.redemption_status, c.age_range, c.marital_status, c.rented, c.family_size, c.no_of_children, c.income_bracket from train t LEFT JOIN customerDem c ON t.customer_id = c.customer_id;\")\n",
    "print (trainAnalysis.shape)\n",
    "# (78369, 11)\n",
    "print (train.shape)\n",
    "print (customerDem.shape)\n",
    "del train\n",
    "gc.collect()"
   ]
  },
  {
   "cell_type": "code",
   "execution_count": 6,
   "metadata": {},
   "outputs": [
    {
     "data": {
      "text/plain": [
       "7"
      ]
     },
     "execution_count": 6,
     "metadata": {},
     "output_type": "execute_result"
    }
   ],
   "source": [
    "trainAnalysis.id.nunique()\n",
    "# So every row has unique id, so deleting id column has dosen't have any significance during model building.\n",
    "del trainAnalysis['id']\n",
    "gc.collect()"
   ]
  },
  {
   "cell_type": "code",
   "execution_count": 7,
   "metadata": {},
   "outputs": [
    {
     "name": "stdout",
     "output_type": "stream",
     "text": [
      "(78369, 13)\n"
     ]
    }
   ],
   "source": [
    "# Combining campaign data and the table formed by joining train,customer demographics based on campaign_id.\n",
    "trainAnalysis = pysqldf(\"SELECT t.*, c.campaign_type, c.start_date, c.end_date from trainAnalysis t LEFT JOIN campaign c ON t.campaign_id = c.campaign_id;\")\n",
    "print (trainAnalysis.shape)"
   ]
  },
  {
   "cell_type": "code",
   "execution_count": 8,
   "metadata": {},
   "outputs": [],
   "source": [
    "# Get the no. of items that be redeemed by the coupon.\n",
    "couponItemCount = couponItem.groupby('coupon_id').count()\n",
    "trainAnalysis = pysqldf(\"select t.*, c.item_id as itemCount from trainAnalysis t LEFT JOIN couponItemCount c on t.coupon_id = c.coupon_id\")"
   ]
  },
  {
   "cell_type": "code",
   "execution_count": 9,
   "metadata": {},
   "outputs": [],
   "source": [
    "# Combining couponItem & item tables based on item id.\n",
    "couponItem_item = pysqldf(\"select c.coupon_id,i.* from couponItem c LEFT JOIN item i ON c.item_id = i.item_id;\")"
   ]
  },
  {
   "cell_type": "code",
   "execution_count": 10,
   "metadata": {},
   "outputs": [
    {
     "name": "stdout",
     "output_type": "stream",
     "text": [
      "Index(['coupon_id', 'item_id', 'brand', 'brand_Established', 'brand_Local',\n",
      "       'category_Bakery', 'category_DairyJuices', 'category_FlowersPlants',\n",
      "       'category_Garden', 'category_Grocery', 'category_Meat',\n",
      "       'category_Miscellaneous', 'category_Natural_Products',\n",
      "       'category_Packaged_Meat', 'category_Pharmaceutical',\n",
      "       'category_Prepared_Food', 'category_Restauarant', 'category_Salads',\n",
      "       'category_Seafood', 'category_Skin_Hair_Care', 'category_Travel',\n",
      "       'category_Vegetables_cut'],\n",
      "      dtype='object')\n"
     ]
    }
   ],
   "source": [
    "# Dummy encoding category and brand type\n",
    "# We get the category & brand count of items for a specific coupon.\n",
    "\n",
    "couponItem_item = pd.get_dummies(couponItem_item, columns=['brand_type'], prefix = ['brand'])\n",
    "couponItem_item = pd.get_dummies(couponItem_item, columns=['category'], prefix = ['category'])\n",
    "couponItem_item.rename(columns = {\"category_Dairy, Juices & Snacks\": \"category_DairyJuices\", \"category_Flowers & Plants\":\"category_FlowersPlants\", \"category_Natural Products\": \"category_Natural_Products\", \"category_Packaged Meat\": \"category_Packaged_Meat\", \"category_Prepared Food\" : \"category_Prepared_Food\", \"category_Skin & Hair Care\" : \"category_Skin_Hair_Care\", \"category_Vegetables (cut)\" : \"category_Vegetables_cut\"}, inplace = True)  \n",
    "print (couponItem_item.columns)\n",
    "couponitem_item_Group = pysqldf(\"select coupon_id,SUM(brand_Established),SUM(brand_Local),SUM(category_Bakery),SUM(category_DairyJuices),SUM(category_FlowersPlants),SUM(category_Garden),SUM(category_Grocery),SUM(category_Meat),SUM(category_Miscellaneous),SUM(category_Natural_Products),SUM(category_Packaged_Meat),SUM(category_Pharmaceutical),SUM(category_Prepared_Food),SUM(category_Restauarant),SUM(category_Salads),SUM(category_Seafood),SUM(category_Skin_Hair_Care),SUM(category_Travel),SUM(category_Vegetables_cut) from couponItem_item group by coupon_id;\")\n",
    "trainAnalysis = pysqldf(\"SELECT * from trainAnalysis t LEFT JOIN couponitem_item_Group c ON t.coupon_id = c.coupon_id;\")"
   ]
  },
  {
   "cell_type": "code",
   "execution_count": 11,
   "metadata": {},
   "outputs": [],
   "source": [
    "# Generating new features from campaign dates in trainAnalysis.\n",
    "\n",
    "trainAnalysis['NoOfDaysOfCampaign'] = pd.to_datetime(trainAnalysis['end_date'], format='%d/%m/%y') - pd.to_datetime(trainAnalysis['start_date'], format='%d/%m/%y')\n",
    "trainAnalysis['NoOfDaysOfCampaign'] = trainAnalysis['NoOfDaysOfCampaign'].dt.days.astype('int16')\n",
    "\n",
    "# The day of the week with Monday=0, Sunday=6.\n",
    "trainAnalysis['dayOfWeekOfCamStart'] = pd.to_datetime(trainAnalysis['start_date'], format  = '%d/%m/%y').dt.dayofweek\n",
    "trainAnalysis['dayOfWeekOfCamEnd'] = pd.to_datetime(trainAnalysis['end_date'], format  = '%d/%m/%y').dt.dayofweek"
   ]
  },
  {
   "cell_type": "code",
   "execution_count": 12,
   "metadata": {},
   "outputs": [],
   "source": [
    "trainAnalysis['campaignStartMonth'] = pd.to_datetime(trainAnalysis['start_date'], format  = '%d/%m/%y').dt.month\n",
    "trainAnalysis['campaignEndMonth'] = pd.to_datetime(trainAnalysis['end_date'], format  = '%d/%m/%y').dt.month\n",
    "\n",
    "# Finding the quarters of the year that the campaign was active\n",
    "\n",
    "q1 = [1,2,3,4]\n",
    "q2 = [5,6,7,8]\n",
    "q3 = [9,10,11,12]\n",
    "\n",
    "trainAnalysis['Q1'] = 0\n",
    "trainAnalysis['Q2'] = 0\n",
    "trainAnalysis['Q3'] = 0\n",
    "\n",
    "for index, rec in trainAnalysis.iterrows():\n",
    "    camStMth = rec['campaignStartMonth']\n",
    "    camEndMth = rec['campaignEndMonth'] + 1\n",
    "    for mth in range(camStMth, camEndMth):\n",
    "        if mth in q1:\n",
    "            trainAnalysis.loc[index,'Q1'] = 1\n",
    "        if mth in q2:\n",
    "            trainAnalysis.loc[index,'Q2'] = 1\n",
    "        if mth in q3:\n",
    "            trainAnalysis.loc[index,'Q3'] = 1\n",
    "            \n",
    "trainAnalysis['campaignStartDayOfMonth'] = pd.to_datetime(trainAnalysis['start_date'], format  = '%d/%m/%y').dt.day\n",
    "trainAnalysis['campaignEndDayOfMonth'] = pd.to_datetime(trainAnalysis['end_date'], format  = '%d/%m/%y').dt.day\n",
    "del trainAnalysis['campaignStartMonth']\n",
    "del trainAnalysis['campaignEndMonth']"
   ]
  },
  {
   "cell_type": "code",
   "execution_count": 13,
   "metadata": {},
   "outputs": [],
   "source": [
    "# Calculating the no. of saturdays & sundays between campaign start & end dates(start & end day inclusive)\n",
    "\n",
    "from datetime import  date\n",
    "for index, rec in trainAnalysis.iterrows():\n",
    "    sat = 0\n",
    "    sun = 0\n",
    "    date1 = pd.to_datetime(rec['start_date'], format  = '%d/%m/%y')\n",
    "    date2 = pd.to_datetime(rec['end_date'], format  = '%d/%m/%y')\n",
    "    date1_ord = date1.toordinal()\n",
    "    date2_ord = date2.toordinal()\n",
    "    for d_ord in range(date1_ord, date2_ord):\n",
    "        d = date.fromordinal(d_ord)\n",
    "        if (d.weekday() == 5):\n",
    "            sat = sat + 1\n",
    "        if (d.weekday() == 6):\n",
    "            sun = sun + 1 \n",
    "    # Since range dosen't consider the last value\n",
    "    d = date.fromordinal(date2_ord)\n",
    "    if (d.weekday() == 5):\n",
    "        sat = sat + 1\n",
    "    if (d.weekday() == 6):\n",
    "        sun = sun + 1   \n",
    "    trainAnalysis.loc[index,'NoOfSunInCam'] = sun\n",
    "    trainAnalysis.loc[index,'NoOfSatInCam'] = sat"
   ]
  },
  {
   "cell_type": "code",
   "execution_count": 14,
   "metadata": {},
   "outputs": [],
   "source": [
    "# Feature Engineering in Customer Transaction data.\n",
    "\n",
    "CT = customerTrans.copy(deep = True)\n",
    "CTItem = pysqldf(\"select * from CT c LEFT JOIN item i ON c.item_id = i.item_id\")\n",
    "\n",
    "CTItem['coupon_discount'] = abs(CTItem['coupon_discount'])\n",
    "CTItem['couponDisc_availed'] = 0\n",
    "CTItem.loc[(CTItem.coupon_discount > 0),'couponDisc_availed'] = 1 \n",
    "CTItem = pysqldf(\"select * from CTItem order by customer_id;\")\n",
    "CTItem['couponDisc_availed_Ct'] = 0\n",
    "CTItem['couponDisc_availed_Ct']  = pysqldf(\"SELECT SUM(couponDisc_availed) over (PARTITION BY customer_id order by date) from CTItem;\")\n",
    "\n",
    "CTItemGroup = pysqldf(\"select customer_id, date, max(couponDisc_availed_Ct) as couponDisc_availed_Ct from CTItem group by customer_id,date;\")\n",
    "trainAnalysis = pysqldf(\"select * from trainAnalysis ORDER BY customer_id,campaign_id;\")\n",
    "\n",
    "trainAnalysis['start_date'] = pd.to_datetime(trainAnalysis['start_date'], format  = '%d/%m/%y')\n",
    "trainAnalysis['end_date'] = pd.to_datetime(trainAnalysis['end_date'], format  = '%d/%m/%y')\n",
    "CTItemGroup['date'] = pd.to_datetime(CTItemGroup['date'], format  = '%Y-%m-%d')\n",
    "\n",
    "track = pysqldf('select max(couponDisc_availed_Ct) as couponDisc_availed_Ct, trainAnalysis.customer_id, trainAnalysis.start_date, trainAnalysis.campaign_id from trainAnalysis LEFT JOIN CTItemGroup where trainAnalysis.customer_id = CTItemGroup.customer_id AND trainAnalysis.start_date > CTItemGroup.date GROUP BY trainAnalysis.customer_id,trainAnalysis.start_date ORDER BY trainAnalysis.customer_id, trainAnalysis.campaign_id;')\n",
    "trainAnalysis['noItCouAvailUntilNow'] = pysqldf(\"select couponDisc_availed_Ct from track INNER JOIN trainAnalysis where track.customer_id = trainAnalysis.customer_id AND track.start_date = trainAnalysis.start_date \")\n",
    "\n",
    "trainAnalysis['HasRedeemedBefore'] = 0\n",
    "trainAnalysis.loc[(trainAnalysis.noItCouAvailUntilNow > 0),'HasRedeemedBefore'] = 1 "
   ]
  },
  {
   "cell_type": "code",
   "execution_count": 102,
   "metadata": {},
   "outputs": [],
   "source": [
    "CTItem['couponDisc_availed_Sum'] = pysqldf(\"SELECT SUM(coupon_discount) over (PARTITION BY customer_id order by date) from CTItem;\")\n",
    "CTItemSum = pysqldf(\"select customer_id, date, max(couponDisc_availed_Sum) as couponDisc_availed_Sum from CTItem group by customer_id,date;\")\n",
    "CTItemSum['date'] = pd.to_datetime(CTItemSum['date'], format  = '%Y-%m-%d')\n",
    "ItemSum = pysqldf('select max(couponDisc_availed_Sum) as couponDisc_availed_Sum, trainAnalysis.customer_id, trainAnalysis.start_date, trainAnalysis.campaign_id from trainAnalysis LEFT JOIN CTItemSum where trainAnalysis.customer_id = CTItemSum.customer_id AND trainAnalysis.start_date > CTItemSum.date GROUP BY trainAnalysis.customer_id,trainAnalysis.start_date ORDER BY trainAnalysis.customer_id, trainAnalysis.campaign_id;')\n",
    "trainAnalysis['sumItCouAvailUntilNow'] = pysqldf(\"select couponDisc_availed_Sum from ItemSum INNER JOIN trainAnalysis where ItemSum.customer_id = trainAnalysis.customer_id AND ItemSum.start_date = trainAnalysis.start_date;\")"
   ]
  },
  {
   "cell_type": "code",
   "execution_count": 117,
   "metadata": {},
   "outputs": [
    {
     "name": "stdout",
     "output_type": "stream",
     "text": [
      "Index(['date', 'customer_id', 'item_id', 'quantity', 'selling_price',\n",
      "       'other_discount', 'coupon_discount', 'brand', 'couponDisc_availed',\n",
      "       'couponDisc_availed_Ct', 'couponDisc_availed_Sum', 'brand_Established',\n",
      "       'brand_Local', 'category_Alcohol', 'category_Bakery',\n",
      "       'category_DairyJuices', 'category_FlowersPlants', 'category_Fuel',\n",
      "       'category_Garden', 'category_Grocery', 'category_Meat',\n",
      "       'category_Miscellaneous', 'category_Natural_Products',\n",
      "       'category_Packaged_Meat', 'category_Pharmaceutical',\n",
      "       'category_Prepared_Food', 'category_Restauarant', 'category_Salads',\n",
      "       'category_Seafood', 'category_Skin_Hair_Care', 'category_Travel',\n",
      "       'category_Vegetables_cut'],\n",
      "      dtype='object')\n"
     ]
    }
   ],
   "source": [
    "CTItem = pd.get_dummies(CTItem, columns=['brand_type'], prefix = ['brand'])\n",
    "CTItem = pd.get_dummies(CTItem, columns=['category'], prefix = ['category'])\n",
    "CTItem.rename(columns = {\"category_Dairy, Juices & Snacks\": \"category_DairyJuices\", \"category_Flowers & Plants\":\"category_FlowersPlants\", \"category_Natural Products\": \"category_Natural_Products\", \"category_Packaged Meat\": \"category_Packaged_Meat\", \"category_Prepared Food\" : \"category_Prepared_Food\", \"category_Skin & Hair Care\" : \"category_Skin_Hair_Care\", \"category_Vegetables (cut)\" : \"category_Vegetables_cut\"}, inplace = True)  \n",
    "print (CTItem.columns)"
   ]
  },
  {
   "cell_type": "code",
   "execution_count": 118,
   "metadata": {},
   "outputs": [],
   "source": [
    "CTItem['couDiscAvaiBrEstSum'] = pysqldf(\"SELECT SUM(brand_Established) over (PARTITION BY customer_id order by date) from CTItem;\")\n",
    "CTItem['couDiscAvaiBrLcSum'] = pysqldf(\"SELECT SUM(brand_Local) over (PARTITION BY customer_id order by date) from CTItem;\")\n",
    "CTItem['couDiscAvaiCtAlSum'] = pysqldf(\"SELECT SUM(category_Alcohol) over (PARTITION BY customer_id order by date) from CTItem;\")\n",
    "CTItem['couDiscAvaiCtBkSum'] = pysqldf(\"SELECT SUM(category_Bakery) over (PARTITION BY customer_id order by date) from CTItem;\")\n",
    "CTItem['couDiscAvaiCtDjSum'] = pysqldf(\"SELECT SUM(category_DairyJuices) over (PARTITION BY customer_id order by date) from CTItem;\")\n",
    "CTItem['couDiscAvaiCtFpSum'] = pysqldf(\"SELECT SUM(category_FlowersPlants) over (PARTITION BY customer_id order by date) from CTItem;\")\n",
    "CTItem['couDiscAvaiCtFuSum'] = pysqldf(\"SELECT SUM(category_Fuel) over (PARTITION BY customer_id order by date) from CTItem;\")\n",
    "CTItem['couDiscAvaiCtGarSum'] = pysqldf(\"SELECT SUM(category_Garden) over (PARTITION BY customer_id order by date) from CTItem;\")\n",
    "CTItem['couDiscAvaiCtGroSum'] = pysqldf(\"SELECT SUM(category_Grocery) over (PARTITION BY customer_id order by date) from CTItem;\")\n",
    "CTItem['couDiscAvaiCtMtSum'] = pysqldf(\"SELECT SUM(category_Meat) over (PARTITION BY customer_id order by date) from CTItem;\")\n",
    "CTItem['couDiscAvaiCtMsSum'] = pysqldf(\"SELECT SUM(category_Miscellaneous) over (PARTITION BY customer_id order by date) from CTItem;\")\n",
    "CTItem['couDiscAvaiCtNpSum'] = pysqldf(\"SELECT SUM(category_Natural_Products) over (PARTITION BY customer_id order by date) from CTItem;\")\n",
    "CTItem['couDiscAvaiCtPmSum'] = pysqldf(\"SELECT SUM(category_Packaged_Meat) over (PARTITION BY customer_id order by date) from CTItem;\")\n",
    "CTItem['couDiscAvaiCtPharSum'] = pysqldf(\"SELECT SUM(category_Pharmaceutical) over (PARTITION BY customer_id order by date) from CTItem;\")\n",
    "CTItem['couDiscAvaiCtPfSum'] = pysqldf(\"SELECT SUM(category_Prepared_Food) over (PARTITION BY customer_id order by date) from CTItem;\")\n",
    "CTItem['couDiscAvaiCtResSum'] = pysqldf(\"SELECT SUM(category_Restauarant) over (PARTITION BY customer_id order by date) from CTItem;\")\n",
    "CTItem['couDiscAvaiCtSalSum'] = pysqldf(\"SELECT SUM(category_Salads) over (PARTITION BY customer_id order by date) from CTItem;\")\n",
    "CTItem['couDiscAvaiCtSfSum'] = pysqldf(\"SELECT SUM(category_Seafood) over (PARTITION BY customer_id order by date) from CTItem;\")\n",
    "CTItem['couDiscAvaiCtSkhSum'] = pysqldf(\"SELECT SUM(category_Skin_Hair_Care) over (PARTITION BY customer_id order by date) from CTItem;\")\n",
    "CTItem['couDiscAvaiCtTraSum'] = pysqldf(\"SELECT SUM(category_Travel) over (PARTITION BY customer_id order by date) from CTItem;\")\n",
    "CTItem['couDiscAvaiCtVcSum'] = pysqldf(\"SELECT SUM(category_Vegetables_cut) over (PARTITION BY customer_id order by date) from CTItem;\")"
   ]
  },
  {
   "cell_type": "code",
   "execution_count": 124,
   "metadata": {},
   "outputs": [],
   "source": [
    "CTItemType = pysqldf(\"select customer_id, date, max(couDiscAvaiBrEstSum) as couDiscAvaiBrEstSum,max(couDiscAvaiBrLcSum) as couDiscAvaiBrLcSum,max(couDiscAvaiCtAlSum) as couDiscAvaiCtAlSum,max(couDiscAvaiCtBkSum) as couDiscAvaiCtBkSum,max(couDiscAvaiCtDjSum) as couDiscAvaiCtDjSum,max(couDiscAvaiCtFpSum) as couDiscAvaiCtFpSum,max(couDiscAvaiCtFuSum) as couDiscAvaiCtFuSum,max(couDiscAvaiCtGarSum) as couDiscAvaiCtGarSum,max(couDiscAvaiCtGroSum) as couDiscAvaiCtGroSum,max(couDiscAvaiCtMtSum) as couDiscAvaiCtMtSum,max(couDiscAvaiCtMsSum) as couDiscAvaiCtMsSum,max(couDiscAvaiCtNpSum) as couDiscAvaiCtNpSum,max(couDiscAvaiCtPmSum) as couDiscAvaiCtPmSum,max(couDiscAvaiCtPharSum) as couDiscAvaiCtPharSum,max(couDiscAvaiCtPfSum) as couDiscAvaiCtPfSum,max(couDiscAvaiCtResSum) as couDiscAvaiCtResSum,max(couDiscAvaiCtSalSum) as couDiscAvaiCtSalSum,max(couDiscAvaiCtSfSum) as couDiscAvaiCtSfSum,max(couDiscAvaiCtSkhSum) as couDiscAvaiCtSkhSum,max(couDiscAvaiCtTraSum) as couDiscAvaiCtTraSum,max(couDiscAvaiCtVcSum) as couDiscAvaiCtVcSum from CTItem group by customer_id,date;\")\n",
    "CTItemType['date'] = pd.to_datetime(CTItemType['date'], format  = '%Y-%m-%d')"
   ]
  },
  {
   "cell_type": "code",
   "execution_count": 125,
   "metadata": {},
   "outputs": [],
   "source": [
    "ItemType = pysqldf('select max(couDiscAvaiBrEstSum) as couDiscAvaiBrEstSum,max(couDiscAvaiBrLcSum) as couDiscAvaiBrLcSum,max(couDiscAvaiCtAlSum) as couDiscAvaiCtAlSum,max(couDiscAvaiCtBkSum) as couDiscAvaiCtBkSum,max(couDiscAvaiCtDjSum) as couDiscAvaiCtDjSum,max(couDiscAvaiCtFpSum) as couDiscAvaiCtFpSum,max(couDiscAvaiCtFuSum) as couDiscAvaiCtFuSum,max(couDiscAvaiCtGarSum) as couDiscAvaiCtGarSum,max(couDiscAvaiCtGroSum) as couDiscAvaiCtGroSum,max(couDiscAvaiCtMtSum) as couDiscAvaiCtMtSum,max(couDiscAvaiCtMsSum) as couDiscAvaiCtMsSum,max(couDiscAvaiCtNpSum) as couDiscAvaiCtNpSum,max(couDiscAvaiCtPmSum) as couDiscAvaiCtPmSum,max(couDiscAvaiCtPharSum) as couDiscAvaiCtPharSum,max(couDiscAvaiCtPfSum) as couDiscAvaiCtPfSum,max(couDiscAvaiCtResSum) as couDiscAvaiCtResSum,max(couDiscAvaiCtSalSum) as couDiscAvaiCtSalSum,max(couDiscAvaiCtSfSum) as couDiscAvaiCtSfSum,max(couDiscAvaiCtSkhSum) as couDiscAvaiCtSkhSum,max(couDiscAvaiCtTraSum) as couDiscAvaiCtTraSum,max(couDiscAvaiCtVcSum) as couDiscAvaiCtVcSum, trainAnalysis.customer_id, trainAnalysis.start_date, trainAnalysis.campaign_id from trainAnalysis LEFT JOIN CTItemType where trainAnalysis.customer_id = CTItemType.customer_id AND trainAnalysis.start_date > CTItemType.date GROUP BY trainAnalysis.customer_id,trainAnalysis.start_date ORDER BY trainAnalysis.customer_id, trainAnalysis.campaign_id;')\n",
    "trainAnalysis['couDiscAvaiBrEstSum'] = pysqldf(\"select couDiscAvaiBrEstSum from ItemType INNER JOIN trainAnalysis where ItemType.customer_id = trainAnalysis.customer_id AND ItemType.start_date = trainAnalysis.start_date;\")\n",
    "trainAnalysis['couDiscAvaiBrLcSum'] = pysqldf(\"select couDiscAvaiBrLcSum from ItemType INNER JOIN trainAnalysis where ItemType.customer_id = trainAnalysis.customer_id AND ItemType.start_date = trainAnalysis.start_date;\")\n",
    "trainAnalysis['couDiscAvaiCtAlSum'] = pysqldf(\"select couDiscAvaiCtAlSum from ItemType INNER JOIN trainAnalysis where ItemType.customer_id = trainAnalysis.customer_id AND ItemType.start_date = trainAnalysis.start_date;\")\n",
    "trainAnalysis['couDiscAvaiCtBkSum'] = pysqldf(\"select couDiscAvaiCtBkSum from ItemType INNER JOIN trainAnalysis where ItemType.customer_id = trainAnalysis.customer_id AND ItemType.start_date = trainAnalysis.start_date;\")\n",
    "trainAnalysis['couDiscAvaiCtDjSum'] = pysqldf(\"select couDiscAvaiCtDjSum from ItemType INNER JOIN trainAnalysis where ItemType.customer_id = trainAnalysis.customer_id AND ItemType.start_date = trainAnalysis.start_date;\")\n",
    "trainAnalysis['couDiscAvaiCtFpSum'] = pysqldf(\"select couDiscAvaiCtFpSum from ItemType INNER JOIN trainAnalysis where ItemType.customer_id = trainAnalysis.customer_id AND ItemType.start_date = trainAnalysis.start_date;\")\n",
    "trainAnalysis['couDiscAvaiCtFuSum'] = pysqldf(\"select couDiscAvaiCtFuSum from ItemType INNER JOIN trainAnalysis where ItemType.customer_id = trainAnalysis.customer_id AND ItemType.start_date = trainAnalysis.start_date;\")\n",
    "trainAnalysis['couDiscAvaiCtGarSum'] = pysqldf(\"select couDiscAvaiCtGarSum from ItemType INNER JOIN trainAnalysis where ItemType.customer_id = trainAnalysis.customer_id AND ItemType.start_date = trainAnalysis.start_date;\")\n",
    "trainAnalysis['couDiscAvaiCtGroSum'] = pysqldf(\"select couDiscAvaiCtGroSum from ItemType INNER JOIN trainAnalysis where ItemType.customer_id = trainAnalysis.customer_id AND ItemType.start_date = trainAnalysis.start_date;\")\n",
    "trainAnalysis['couDiscAvaiCtMtSum'] = pysqldf(\"select couDiscAvaiCtMtSum from ItemType INNER JOIN trainAnalysis where ItemType.customer_id = trainAnalysis.customer_id AND ItemType.start_date = trainAnalysis.start_date;\")\n",
    "trainAnalysis['couDiscAvaiCtMsSum'] = pysqldf(\"select couDiscAvaiCtMsSum from ItemType INNER JOIN trainAnalysis where ItemType.customer_id = trainAnalysis.customer_id AND ItemType.start_date = trainAnalysis.start_date;\")\n",
    "trainAnalysis['couDiscAvaiCtNpSum'] = pysqldf(\"select couDiscAvaiCtNpSum from ItemType INNER JOIN trainAnalysis where ItemType.customer_id = trainAnalysis.customer_id AND ItemType.start_date = trainAnalysis.start_date;\")\n",
    "trainAnalysis['couDiscAvaiCtPmSum'] = pysqldf(\"select couDiscAvaiCtPmSum from ItemType INNER JOIN trainAnalysis where ItemType.customer_id = trainAnalysis.customer_id AND ItemType.start_date = trainAnalysis.start_date;\")\n",
    "trainAnalysis['couDiscAvaiCtPharSum'] = pysqldf(\"select couDiscAvaiCtPharSum from ItemType INNER JOIN trainAnalysis where ItemType.customer_id = trainAnalysis.customer_id AND ItemType.start_date = trainAnalysis.start_date;\")\n",
    "trainAnalysis['couDiscAvaiCtPfSum'] = pysqldf(\"select couDiscAvaiCtPfSum from ItemType INNER JOIN trainAnalysis where ItemType.customer_id = trainAnalysis.customer_id AND ItemType.start_date = trainAnalysis.start_date;\")\n",
    "trainAnalysis['couDiscAvaiCtResSum'] = pysqldf(\"select couDiscAvaiCtResSum from ItemType INNER JOIN trainAnalysis where ItemType.customer_id = trainAnalysis.customer_id AND ItemType.start_date = trainAnalysis.start_date;\")\n",
    "trainAnalysis['couDiscAvaiCtSalSum'] = pysqldf(\"select couDiscAvaiCtSalSum from ItemType INNER JOIN trainAnalysis where ItemType.customer_id = trainAnalysis.customer_id AND ItemType.start_date = trainAnalysis.start_date;\")\n",
    "trainAnalysis['couDiscAvaiCtSfSum'] = pysqldf(\"select couDiscAvaiCtSfSum from ItemType INNER JOIN trainAnalysis where ItemType.customer_id = trainAnalysis.customer_id AND ItemType.start_date = trainAnalysis.start_date;\")\n",
    "trainAnalysis['couDiscAvaiCtSkhSum'] = pysqldf(\"select couDiscAvaiCtSkhSum from ItemType INNER JOIN trainAnalysis where ItemType.customer_id = trainAnalysis.customer_id AND ItemType.start_date = trainAnalysis.start_date;\")\n",
    "trainAnalysis['couDiscAvaiCtTraSum'] = pysqldf(\"select couDiscAvaiCtTraSum from ItemType INNER JOIN trainAnalysis where ItemType.customer_id = trainAnalysis.customer_id AND ItemType.start_date = trainAnalysis.start_date;\")\n",
    "trainAnalysis['couDiscAvaiCtVcSum'] = pysqldf(\"select couDiscAvaiCtVcSum from ItemType INNER JOIN trainAnalysis where ItemType.customer_id = trainAnalysis.customer_id AND ItemType.start_date = trainAnalysis.start_date;\")"
   ]
  },
  {
   "cell_type": "code",
   "execution_count": 23,
   "metadata": {},
   "outputs": [
    {
     "name": "stdout",
     "output_type": "stream",
     "text": [
      "************* Done *************\n",
      "************* Done *************\n",
      "************* Done *************\n",
      "************* Done *************\n"
     ]
    },
    {
     "data": {
      "text/plain": [
       "869"
      ]
     },
     "execution_count": 23,
     "metadata": {},
     "output_type": "execute_result"
    }
   ],
   "source": [
    "######################## Performing all the transformation to test data as well ########################\n",
    "\n",
    "test = pd.read_csv('test.csv')\n",
    "\n",
    "testAnalysis = pysqldf(\"SELECT t.id, t.campaign_id, t.coupon_id, t.customer_id, c.age_range, c.marital_status, c.rented, c.family_size, c.no_of_children, c.income_bracket from test t LEFT JOIN customerDem c ON t.customer_id = c.customer_id;\")\n",
    "testAnalysis = pysqldf(\"SELECT t.*, c.campaign_type, c.start_date, c.end_date from testAnalysis t LEFT JOIN campaign c ON t.campaign_id = c.campaign_id;\")\n",
    "testAnalysis = pysqldf(\"select t.*, c.item_id as itemCount from testAnalysis t LEFT JOIN couponItemCount c on t.coupon_id = c.coupon_id\")\n",
    "testAnalysis = pysqldf(\"SELECT * from testAnalysis t LEFT JOIN couponitem_item_Group c ON t.coupon_id = c.coupon_id;\")\n",
    "testAnalysis['NoOfDaysOfCampaign'] = pd.to_datetime(testAnalysis['end_date'], format='%d/%m/%y') - pd.to_datetime(testAnalysis['start_date'], format='%d/%m/%y')\n",
    "testAnalysis['NoOfDaysOfCampaign'] = testAnalysis['NoOfDaysOfCampaign'].dt.days.astype('int16')\n",
    "testAnalysis['dayOfWeekOfCamStart'] = pd.to_datetime(testAnalysis['start_date'], format  = '%d/%m/%y').dt.dayofweek\n",
    "testAnalysis['dayOfWeekOfCamEnd'] = pd.to_datetime(testAnalysis['end_date'], format  = '%d/%m/%y').dt.dayofweek\n",
    "\n",
    "testAnalysis['campaignStartMonth'] = pd.to_datetime(testAnalysis['start_date'], format  = '%d/%m/%y').dt.month\n",
    "testAnalysis['campaignEndMonth'] = pd.to_datetime(testAnalysis['end_date'], format  = '%d/%m/%y').dt.month\n",
    "\n",
    "print (\"************* Done *************\")\n",
    "\n",
    "# Finding the quarters of the year that the campaign was active\n",
    "\n",
    "q1 = [1,2,3,4]\n",
    "q2 = [5,6,7,8]\n",
    "q3 = [9,10,11,12]\n",
    "\n",
    "testAnalysis['Q1'] = 0\n",
    "testAnalysis['Q2'] = 0\n",
    "testAnalysis['Q3'] = 0\n",
    "\n",
    "for index, rec in testAnalysis.iterrows():\n",
    "    camStMth = rec['campaignStartMonth']\n",
    "    camEndMth = rec['campaignEndMonth'] + 1\n",
    "    for mth in range(camStMth, camEndMth):\n",
    "        if mth in q1:\n",
    "            testAnalysis.loc[index,'Q1'] = 1\n",
    "        if mth in q2:\n",
    "            testAnalysis.loc[index,'Q2'] = 1\n",
    "        if mth in q3:\n",
    "            testAnalysis.loc[index,'Q3'] = 1\n",
    "            \n",
    "testAnalysis['campaignStartDayOfMonth'] = pd.to_datetime(testAnalysis['start_date'], format  = '%d/%m/%y').dt.day\n",
    "testAnalysis['campaignEndDayOfMonth'] = pd.to_datetime(testAnalysis['end_date'], format  = '%d/%m/%y').dt.day\n",
    "del testAnalysis['campaignStartMonth']\n",
    "del testAnalysis['campaignEndMonth']\n",
    "\n",
    "print (\"************* Done *************\")\n",
    "\n",
    "# Calculating the no. of saturdays & sundays between campaign start & end dates(start & end day inclusive)\n",
    "\n",
    "from datetime import  date\n",
    "for index, rec in testAnalysis.iterrows():\n",
    "    sat = 0\n",
    "    sun = 0\n",
    "    date1 = pd.to_datetime(rec['start_date'], format  = '%d/%m/%y')\n",
    "    date2 = pd.to_datetime(rec['end_date'], format  = '%d/%m/%y')\n",
    "    date1_ord = date1.toordinal()\n",
    "    date2_ord = date2.toordinal()\n",
    "    for d_ord in range(date1_ord, date2_ord):\n",
    "        d = date.fromordinal(d_ord)\n",
    "        if (d.weekday() == 5):\n",
    "            sat = sat + 1\n",
    "        if (d.weekday() == 6):\n",
    "            sun = sun + 1 \n",
    "    # Since range dosen't consider the last value\n",
    "    d = date.fromordinal(date2_ord)\n",
    "    if (d.weekday() == 5):\n",
    "        sat = sat + 1\n",
    "    if (d.weekday() == 6):\n",
    "        sun = sun + 1   \n",
    "    testAnalysis.loc[index,'NoOfSunInCam'] = sun\n",
    "    testAnalysis.loc[index,'NoOfSatInCam'] = sat\n",
    "    \n",
    "print (\"************* Done *************\")\n",
    "\n",
    "testAnalysis = pysqldf(\"select * from testAnalysis ORDER BY customer_id,campaign_id;\")\n",
    "\n",
    "testAnalysis['start_date'] = pd.to_datetime(testAnalysis['start_date'], format  = '%d/%m/%y')\n",
    "testAnalysis['end_date'] = pd.to_datetime(testAnalysis['end_date'], format  = '%d/%m/%y')\n",
    "\n",
    "trackTest = pysqldf('select max(couponDisc_availed_Ct) as couponDisc_availed_Ct, testAnalysis.customer_id, testAnalysis.start_date, testAnalysis.campaign_id from testAnalysis LEFT JOIN CTItemGroup where testAnalysis.customer_id = CTItemGroup.customer_id AND testAnalysis.start_date > CTItemGroup.date GROUP BY testAnalysis.customer_id,testAnalysis.start_date ORDER BY testAnalysis.customer_id, testAnalysis.campaign_id;')\n",
    "testAnalysis['noItCouAvailUntilNow'] = pysqldf(\"select couponDisc_availed_Ct from trackTest INNER JOIN testAnalysis where trackTest.customer_id = testAnalysis.customer_id AND trackTest.start_date = testAnalysis.start_date \")\n",
    "\n",
    "testAnalysis['HasRedeemedBefore'] = 0\n",
    "testAnalysis.loc[(testAnalysis.noItCouAvailUntilNow > 0),'HasRedeemedBefore'] = 1 \n",
    "\n",
    "print (\"************* Done *************\")\n",
    "\n",
    "ItemSumTest = pysqldf('select max(couponDisc_availed_Sum) as couponDisc_availed_Sum, testAnalysis.customer_id, testAnalysis.start_date, testAnalysis.campaign_id from testAnalysis LEFT JOIN CTItemSum where testAnalysis.customer_id = CTItemSum.customer_id AND testAnalysis.start_date > CTItemSum.date GROUP BY testAnalysis.customer_id,testAnalysis.start_date ORDER BY testAnalysis.customer_id, testAnalysis.campaign_id;')\n",
    "testAnalysis['sumItCouAvailUntilNow'] = pysqldf(\"select couponDisc_availed_Sum from ItemSumTest INNER JOIN testAnalysis where ItemSumTest.customer_id = testAnalysis.customer_id AND ItemSumTest.start_date = testAnalysis.start_date;\")\n",
    "\n",
    "print (\"************* Done *************\")\n",
    "\n",
    "ItemTypeTest = pysqldf('select max(couDiscAvaiBrEstSum) as couDiscAvaiBrEstSum,max(couDiscAvaiBrLcSum) as couDiscAvaiBrLcSum,max(couDiscAvaiCtAlSum) as couDiscAvaiCtAlSum,max(couDiscAvaiCtBkSum) as couDiscAvaiCtBkSum,max(couDiscAvaiCtDjSum) as couDiscAvaiCtDjSum,max(couDiscAvaiCtFpSum) as couDiscAvaiCtFpSum,max(couDiscAvaiCtFuSum) as couDiscAvaiCtFuSum,max(couDiscAvaiCtGarSum) as couDiscAvaiCtGarSum,max(couDiscAvaiCtGroSum) as couDiscAvaiCtGroSum,max(couDiscAvaiCtMtSum) as couDiscAvaiCtMtSum,max(couDiscAvaiCtMsSum) as couDiscAvaiCtMsSum,max(couDiscAvaiCtNpSum) as couDiscAvaiCtNpSum,max(couDiscAvaiCtPmSum) as couDiscAvaiCtPmSum,max(couDiscAvaiCtPharSum) as couDiscAvaiCtPharSum,max(couDiscAvaiCtPfSum) as couDiscAvaiCtPfSum,max(couDiscAvaiCtResSum) as couDiscAvaiCtResSum,max(couDiscAvaiCtSalSum) as couDiscAvaiCtSalSum,max(couDiscAvaiCtSfSum) as couDiscAvaiCtSfSum,max(couDiscAvaiCtSkhSum) as couDiscAvaiCtSkhSum,max(couDiscAvaiCtTraSum) as couDiscAvaiCtTraSum,max(couDiscAvaiCtVcSum) as couDiscAvaiCtVcSum, testAnalysis.customer_id, testAnalysis.start_date, testAnalysis.campaign_id from testAnalysis LEFT JOIN CTItemType where testAnalysis.customer_id = CTItemType.customer_id AND testAnalysis.start_date > CTItemType.date GROUP BY testAnalysis.customer_id,testAnalysis.start_date ORDER BY testAnalysis.customer_id, testAnalysis.campaign_id;')\n",
    "testAnalysis['couDiscAvaiBrEstSum'] = pysqldf(\"select couDiscAvaiBrEstSum from ItemTypeTest INNER JOIN testAnalysis where ItemTypeTest.customer_id = testAnalysis.customer_id AND ItemTypeTest.start_date = testAnalysis.start_date;\")\n",
    "testAnalysis['couDiscAvaiBrLcSum'] = pysqldf(\"select couDiscAvaiBrLcSum from ItemTypeTest INNER JOIN testAnalysis where ItemTypeTest.customer_id = testAnalysis.customer_id AND ItemTypeTest.start_date = testAnalysis.start_date;\")\n",
    "testAnalysis['couDiscAvaiCtAlSum'] = pysqldf(\"select couDiscAvaiCtAlSum from ItemTypeTest INNER JOIN testAnalysis where ItemTypeTest.customer_id = testAnalysis.customer_id AND ItemTypeTest.start_date = testAnalysis.start_date;\")\n",
    "testAnalysis['couDiscAvaiCtBkSum'] = pysqldf(\"select couDiscAvaiCtBkSum from ItemTypeTest INNER JOIN testAnalysis where ItemTypeTest.customer_id = testAnalysis.customer_id AND ItemTypeTest.start_date = testAnalysis.start_date;\")\n",
    "testAnalysis['couDiscAvaiCtDjSum'] = pysqldf(\"select couDiscAvaiCtDjSum from ItemTypeTest INNER JOIN testAnalysis where ItemTypeTest.customer_id = testAnalysis.customer_id AND ItemTypeTest.start_date = testAnalysis.start_date;\")\n",
    "testAnalysis['couDiscAvaiCtFpSum'] = pysqldf(\"select couDiscAvaiCtFpSum from ItemTypeTest INNER JOIN testAnalysis where ItemTypeTest.customer_id = testAnalysis.customer_id AND ItemTypeTest.start_date = testAnalysis.start_date;\")\n",
    "testAnalysis['couDiscAvaiCtFuSum'] = pysqldf(\"select couDiscAvaiCtFuSum from ItemTypeTest INNER JOIN testAnalysis where ItemTypeTest.customer_id = testAnalysis.customer_id AND ItemTypeTest.start_date = testAnalysis.start_date;\")\n",
    "testAnalysis['couDiscAvaiCtGarSum'] = pysqldf(\"select couDiscAvaiCtGarSum from ItemTypeTest INNER JOIN testAnalysis where ItemTypeTest.customer_id = testAnalysis.customer_id AND ItemTypeTest.start_date = testAnalysis.start_date;\")\n",
    "testAnalysis['couDiscAvaiCtGroSum'] = pysqldf(\"select couDiscAvaiCtGroSum from ItemTypeTest INNER JOIN testAnalysis where ItemTypeTest.customer_id = testAnalysis.customer_id AND ItemTypeTest.start_date = testAnalysis.start_date;\")\n",
    "testAnalysis['couDiscAvaiCtMtSum'] = pysqldf(\"select couDiscAvaiCtMtSum from ItemTypeTest INNER JOIN testAnalysis where ItemTypeTest.customer_id = testAnalysis.customer_id AND ItemTypeTest.start_date = testAnalysis.start_date;\")\n",
    "testAnalysis['couDiscAvaiCtMsSum'] = pysqldf(\"select couDiscAvaiCtMsSum from ItemTypeTest INNER JOIN testAnalysis where ItemTypeTest.customer_id = testAnalysis.customer_id AND ItemTypeTest.start_date = testAnalysis.start_date;\")\n",
    "testAnalysis['couDiscAvaiCtNpSum'] = pysqldf(\"select couDiscAvaiCtNpSum from ItemTypeTest INNER JOIN testAnalysis where ItemTypeTest.customer_id = testAnalysis.customer_id AND ItemTypeTest.start_date = testAnalysis.start_date;\")\n",
    "testAnalysis['couDiscAvaiCtPmSum'] = pysqldf(\"select couDiscAvaiCtPmSum from ItemTypeTest INNER JOIN testAnalysis where ItemTypeTest.customer_id = testAnalysis.customer_id AND ItemTypeTest.start_date = testAnalysis.start_date;\")\n",
    "testAnalysis['couDiscAvaiCtPharSum'] = pysqldf(\"select couDiscAvaiCtPharSum from ItemTypeTest INNER JOIN testAnalysis where ItemTypeTest.customer_id = testAnalysis.customer_id AND ItemTypeTest.start_date = testAnalysis.start_date;\")\n",
    "testAnalysis['couDiscAvaiCtPfSum'] = pysqldf(\"select couDiscAvaiCtPfSum from ItemTypeTest INNER JOIN testAnalysis where ItemTypeTest.customer_id = testAnalysis.customer_id AND ItemTypeTest.start_date = testAnalysis.start_date;\")\n",
    "testAnalysis['couDiscAvaiCtResSum'] = pysqldf(\"select couDiscAvaiCtResSum from ItemTypeTest INNER JOIN testAnalysis where ItemTypeTest.customer_id = testAnalysis.customer_id AND ItemTypeTest.start_date = testAnalysis.start_date;\")\n",
    "testAnalysis['couDiscAvaiCtSalSum'] = pysqldf(\"select couDiscAvaiCtSalSum from ItemTypeTest INNER JOIN testAnalysis where ItemTypeTest.customer_id = testAnalysis.customer_id AND ItemTypeTest.start_date = testAnalysis.start_date;\")\n",
    "testAnalysis['couDiscAvaiCtSfSum'] = pysqldf(\"select couDiscAvaiCtSfSum from ItemTypeTest INNER JOIN testAnalysis where ItemTypeTest.customer_id = testAnalysis.customer_id AND ItemTypeTest.start_date = testAnalysis.start_date;\")\n",
    "testAnalysis['couDiscAvaiCtSkhSum'] = pysqldf(\"select couDiscAvaiCtSkhSum from ItemTypeTest INNER JOIN testAnalysis where ItemTypeTest.customer_id = testAnalysis.customer_id AND ItemTypeTest.start_date = testAnalysis.start_date;\")\n",
    "testAnalysis['couDiscAvaiCtTraSum'] = pysqldf(\"select couDiscAvaiCtTraSum from ItemTypeTest INNER JOIN testAnalysis where ItemTypeTest.customer_id = testAnalysis.customer_id AND ItemTypeTest.start_date = testAnalysis.start_date;\")\n",
    "testAnalysis['couDiscAvaiCtVcSum'] = pysqldf(\"select couDiscAvaiCtVcSum from ItemTypeTest INNER JOIN testAnalysis where ItemTypeTest.customer_id = testAnalysis.customer_id AND ItemTypeTest.start_date = testAnalysis.start_date;\")\n",
    "\n",
    "print (\"************* Done *************\")\n",
    "\n",
    "gc.collect()"
   ]
  },
  {
   "cell_type": "code",
   "execution_count": null,
   "metadata": {},
   "outputs": [],
   "source": [
    "#################### Logistic Regression ####################"
   ]
  },
  {
   "cell_type": "code",
   "execution_count": null,
   "metadata": {},
   "outputs": [],
   "source": [
    "#################### Data Preparation for modelling using Logistic Regression ####################"
   ]
  },
  {
   "cell_type": "code",
   "execution_count": 220,
   "metadata": {},
   "outputs": [],
   "source": [
    "logTrain = trainAnalysis.copy(deep = True) # Deep copy so that changes in logTrain are not reflected in trainAnalysis\n",
    "logTest = testAnalysis.copy(deep = True)"
   ]
  },
  {
   "cell_type": "code",
   "execution_count": 221,
   "metadata": {},
   "outputs": [],
   "source": [
    "# Deleting columns which are not meaningful for model building.\n",
    "del logTrain['campaign_id']\n",
    "del logTrain['coupon_id']\n",
    "del logTrain['customer_id']\n",
    "del logTrain['start_date']\n",
    "del logTrain['end_date']\n",
    "\n",
    "# Deleting columns which have more than 70% NaNs.\n",
    "del logTrain['marital_status']\n",
    "del logTrain['no_of_children']\n",
    "\n",
    "gc.collect()\n",
    "logTrain.head()\n",
    "\n",
    "# Dummy encoding remaining categorical features\n",
    "logTrain = pd.get_dummies(logTrain, columns=['campaign_type'], prefix = ['ct'])\n",
    "\n",
    "logTrain.replace({'age_range':{np.nan :-999}}, inplace=True)\n",
    "logTrain = pd.get_dummies(logTrain, columns=['age_range'], prefix = ['ar'])\n",
    "\n",
    "logTrain.replace({'income_bracket':{np.nan :-999}}, inplace=True)\n",
    "logTrain = pd.get_dummies(logTrain, columns=['income_bracket'], prefix = ['ib'])\n",
    "\n",
    "logTrain.replace({'rented':{np.nan :-999}}, inplace=True)\n",
    "logTrain = pd.get_dummies(logTrain, columns=['rented'], prefix = ['rt'])\n",
    "\n",
    "logTrain.replace({'family_size':{np.nan :-999}}, inplace=True)\n",
    "logTrain = pd.get_dummies(logTrain, columns=['family_size'], prefix = ['fs'])"
   ]
  },
  {
   "cell_type": "code",
   "execution_count": 222,
   "metadata": {},
   "outputs": [],
   "source": [
    "####################### Making transformations for test data #######################\n",
    "\n",
    "# Deleting columns which are not meaningful for model building.\n",
    "del logTest['campaign_id']\n",
    "del logTest['coupon_id']\n",
    "del logTest['customer_id']\n",
    "del logTest['start_date']\n",
    "del logTest['end_date']\n",
    "\n",
    "# Deleting columns which have more than 70% NaNs.\n",
    "del logTest['marital_status']\n",
    "del logTest['no_of_children']\n",
    "\n",
    "gc.collect()\n",
    "logTest.head()\n",
    "\n",
    "# Dummy encoding remaining categorical features\n",
    "logTest = pd.get_dummies(logTest, columns=['campaign_type'], prefix = ['ct'])\n",
    "\n",
    "logTest.replace({'age_range':{np.nan :-999}}, inplace=True)\n",
    "logTest = pd.get_dummies(logTest, columns=['age_range'], prefix = ['ar'])\n",
    "\n",
    "logTest.replace({'income_bracket':{np.nan :-999}}, inplace=True)\n",
    "logTest = pd.get_dummies(logTest, columns=['income_bracket'], prefix = ['ib'])\n",
    "\n",
    "logTest.replace({'rented':{np.nan :-999}}, inplace=True)\n",
    "logTest = pd.get_dummies(logTest, columns=['rented'], prefix = ['rt'])\n",
    "\n",
    "logTest.replace({'family_size':{np.nan :-999}}, inplace=True)\n",
    "logTest = pd.get_dummies(logTest, columns=['family_size'], prefix = ['fs'])"
   ]
  },
  {
   "cell_type": "code",
   "execution_count": 211,
   "metadata": {
    "scrolled": false
   },
   "outputs": [
    {
     "name": "stderr",
     "output_type": "stream",
     "text": [
      "C:\\Users\\Home\\Anaconda3\\lib\\site-packages\\sklearn\\linear_model\\logistic.py:432: FutureWarning: Default solver will be changed to 'lbfgs' in 0.22. Specify a solver to silence this warning.\n",
      "  FutureWarning)\n",
      "C:\\Users\\Home\\Anaconda3\\lib\\site-packages\\sklearn\\svm\\base.py:929: ConvergenceWarning: Liblinear failed to converge, increase the number of iterations.\n",
      "  \"the number of iterations.\", ConvergenceWarning)\n"
     ]
    },
    {
     "name": "stdout",
     "output_type": "stream",
     "text": [
      "Accuracy of logistic regression classifier on test set: 0.99\n",
      "[[23277     4]\n",
      " [  224     6]]\n",
      "              precision    recall  f1-score   support\n",
      "\n",
      "           0       0.99      1.00      1.00     23281\n",
      "           1       0.60      0.03      0.05       230\n",
      "\n",
      "    accuracy                           0.99     23511\n",
      "   macro avg       0.80      0.51      0.52     23511\n",
      "weighted avg       0.99      0.99      0.99     23511\n",
      "\n",
      "Model Coefficients\n",
      "[[-4.17506626e-02  2.66658234e-03 -4.44172450e-02 -6.66101166e-02\n",
      "  -9.22753187e-02 -5.43107438e-02 -6.85472993e-03  5.80917818e-02\n",
      "   2.50904384e-02 -1.27941235e-01  8.91677849e-02  6.90729326e-02\n",
      "   3.39462184e-02 -1.03990922e-01 -5.61544467e-04 -3.48535979e-04\n",
      "   5.10882278e-02  8.61137782e-02 -9.53116133e-04 -4.75562247e-04\n",
      "  -1.00089463e-01  1.40991794e-01 -4.06865685e-01 -2.75507527e-01\n",
      "  -4.72947488e-02  1.14447938e-01 -1.67726340e-03 -6.27818429e-02\n",
      "   6.39668594e-02  2.75277915e-02  1.57427253e-02  2.31360342e-01\n",
      "  -1.38968841e-04 -7.61167598e-03 -8.83943795e-03  9.68151930e-03\n",
      "   7.56439462e-03  8.95442835e-03 -1.39780795e-02  1.53338690e-02\n",
      "   5.09936175e-02  8.52169495e-03 -2.36268941e-03 -8.38436341e-03\n",
      "   1.08898921e-02  9.99006122e-04  7.39418337e-03  7.86078635e-03\n",
      "  -8.42310104e-02 -2.05103006e-02  2.66145938e-02  1.46323071e-02\n",
      "  -8.83598015e-03 -4.75889830e-02  1.58553700e-01 -2.61019674e-01\n",
      "  -1.43031553e-01 -2.99409762e-02  6.58330965e-02 -3.80108124e-02\n",
      "   5.16900558e-02  8.15205297e-03 -1.71578379e-02 -1.43031553e-01\n",
      "   1.98107846e-02 -2.07457137e-02 -5.90315234e-03 -2.06255839e-02\n",
      "   1.40000688e-01  6.24435669e-02 -2.92553729e-02 -7.57952812e-02\n",
      "   2.93639201e-03  1.30647233e-02 -1.29248834e-02 -3.24405880e-02\n",
      "  -1.43031553e-01  1.83740452e-02  2.21915337e-02 -1.43031553e-01\n",
      "   1.03002585e-01 -4.73351742e-02 -1.18450423e-01  4.26793458e-02\n",
      "   6.06692454e-02]]\n",
      "0.5129575712981103\n",
      "[0.00000000e+00 1.71813926e-04 1.00000000e+00]\n",
      "[0.         0.02608696 1.        ]\n"
     ]
    },
    {
     "name": "stderr",
     "output_type": "stream",
     "text": [
      "C:\\Users\\Home\\Anaconda3\\lib\\site-packages\\sklearn\\linear_model\\logistic.py:432: FutureWarning: Default solver will be changed to 'lbfgs' in 0.22. Specify a solver to silence this warning.\n",
      "  FutureWarning)\n"
     ]
    },
    {
     "name": "stdout",
     "output_type": "stream",
     "text": [
      "Accuracy of logistic regression classifier after SMOTE on test set: 0.81\n",
      "[[18779  4502]\n",
      " [   73   157]]\n",
      "              precision    recall  f1-score   support\n",
      "\n",
      "           0       1.00      0.81      0.89     23281\n",
      "           1       0.03      0.68      0.06       230\n",
      "\n",
      "    accuracy                           0.81     23511\n",
      "   macro avg       0.51      0.74      0.48     23511\n",
      "weighted avg       0.99      0.81      0.88     23511\n",
      "\n",
      "0.7446160612404591\n",
      "[0.         0.19337657 1.        ]\n",
      "[0.        0.6826087 1.       ]\n"
     ]
    },
    {
     "name": "stderr",
     "output_type": "stream",
     "text": [
      "C:\\Users\\Home\\Anaconda3\\lib\\site-packages\\sklearn\\linear_model\\logistic.py:432: FutureWarning: Default solver will be changed to 'lbfgs' in 0.22. Specify a solver to silence this warning.\n",
      "  FutureWarning)\n"
     ]
    },
    {
     "name": "stdout",
     "output_type": "stream",
     "text": [
      "Accuracy of logistic regression classifier after NearMiss on test set: 0.80\n",
      "[[18768  4513]\n",
      " [   73   157]]\n",
      "              precision    recall  f1-score   support\n",
      "\n",
      "           0       1.00      0.81      0.89     23281\n",
      "           1       0.03      0.68      0.06       230\n",
      "\n",
      "    accuracy                           0.80     23511\n",
      "   macro avg       0.51      0.74      0.48     23511\n",
      "weighted avg       0.99      0.80      0.88     23511\n",
      "\n",
      "0.7443798170928709\n",
      "[0.         0.19384906 1.        ]\n",
      "[0.        0.6826087 1.       ]\n"
     ]
    }
   ],
   "source": [
    "# Logistic Regression model fitting.\n",
    "from sklearn.model_selection import train_test_split\n",
    "from sklearn.linear_model import LogisticRegression\n",
    "from sklearn import metrics\n",
    "from sklearn.model_selection import train_test_split\n",
    "from sklearn.preprocessing import StandardScaler\n",
    "\n",
    "\n",
    "Y = logTrain['redemption_status']\n",
    "del logTrain['redemption_status']\n",
    "X = logTrain\n",
    "\n",
    "X_train, X_test, y_train, y_test = train_test_split(X, Y, test_size=0.3, random_state=0)\n",
    "logreg = LogisticRegression()\n",
    "logreg.fit(X_train, y_train)\n",
    "y_pred = logreg.predict(X_test)\n",
    "print('Accuracy of logistic regression classifier on test set: {:.2f}'.format(logreg.score(X_test, y_test)))\n",
    "from sklearn.metrics import confusion_matrix\n",
    "confusion_matrix = confusion_matrix(y_test, y_pred)\n",
    "print(confusion_matrix)\n",
    "from sklearn.metrics import classification_report\n",
    "print(classification_report(y_test, y_pred))\n",
    "print ('Model Coefficients')\n",
    "print (logreg.coef_)\n",
    "\n",
    "from sklearn.metrics import roc_curve, auc\n",
    "false_positive_rate, true_positive_rate, thresholds = roc_curve(y_test, y_pred)\n",
    "roc_auc = auc(false_positive_rate, true_positive_rate)\n",
    "print (roc_auc)\n",
    "print (false_positive_rate)\n",
    "print (true_positive_rate)\n",
    "\n",
    "# Since the target class is highly skewed, we are applying over sampling and undersampling techniques.\n",
    "# Applying SMOTE\n",
    "X_train, X_test, y_train, y_test = train_test_split(X, Y, test_size=0.3, random_state=0)\n",
    "from imblearn.over_sampling import SMOTE\n",
    "smt = SMOTE()\n",
    "X_train, y_train = smt.fit_sample(X_train, y_train)\n",
    "\n",
    "logreg = LogisticRegression()\n",
    "logreg.fit(X_train, y_train)\n",
    "y_pred = logreg.predict(X_test)\n",
    "print('Accuracy of logistic regression classifier after SMOTE on test set: {:.2f}'.format(logreg.score(X_test, y_test)))\n",
    "from sklearn.metrics import confusion_matrix\n",
    "confusion_matrix = confusion_matrix(y_test, y_pred)\n",
    "print(confusion_matrix)\n",
    "from sklearn.metrics import classification_report\n",
    "print(classification_report(y_test, y_pred))\n",
    "print ('Model Coefficients')\n",
    "print (logreg.coef_)\n",
    "\n",
    "from sklearn.metrics import roc_curve, auc\n",
    "false_positive_rate, true_positive_rate, thresholds = roc_curve(y_test, y_pred)\n",
    "roc_auc = auc(false_positive_rate, true_positive_rate)\n",
    "print (roc_auc)\n",
    "print (false_positive_rate)\n",
    "print (true_positive_rate)\n",
    "\n",
    "# Applying NearMiss\n",
    "from imblearn.under_sampling import NearMiss\n",
    "nr = NearMiss()\n",
    "X_train, y_train = nr.fit_sample(X_train, y_train)\n",
    "\n",
    "logreg = LogisticRegression()\n",
    "logreg.fit(X_train, y_train)\n",
    "y_pred = logreg.predict(X_test)\n",
    "print('Accuracy of logistic regression classifier after NearMiss on test set: {:.2f}'.format(logreg.score(X_test, y_test)))\n",
    "from sklearn.metrics import confusion_matrix\n",
    "confusion_matrix = confusion_matrix(y_test, y_pred)\n",
    "print(confusion_matrix)\n",
    "from sklearn.metrics import classification_report\n",
    "print(classification_report(y_test, y_pred))\n",
    "print ('Model Coefficients')\n",
    "print (logreg.coef_)\n",
    "\n",
    "from sklearn.metrics import roc_curve, auc\n",
    "false_positive_rate, true_positive_rate, thresholds = roc_curve(y_test, y_pred)\n",
    "roc_auc = auc(false_positive_rate, true_positive_rate)\n",
    "print (roc_auc)\n",
    "print (false_positive_rate)\n",
    "print (true_positive_rate)\n"
   ]
  },
  {
   "cell_type": "code",
   "execution_count": 159,
   "metadata": {},
   "outputs": [
    {
     "name": "stderr",
     "output_type": "stream",
     "text": [
      "C:\\Users\\Home\\Anaconda3\\lib\\site-packages\\sklearn\\linear_model\\logistic.py:432: FutureWarning: Default solver will be changed to 'lbfgs' in 0.22. Specify a solver to silence this warning.\n",
      "  FutureWarning)\n"
     ]
    }
   ],
   "source": [
    "# Actual model building for submission\n",
    "\n",
    "from sklearn.linear_model import LogisticRegression\n",
    "from sklearn import metrics\n",
    "from sklearn.model_selection import train_test_split\n",
    "\n",
    "Y = logTrain['redemption_status']\n",
    "del logTrain['redemption_status']\n",
    "X = logTrain\n",
    "test_id = logTest['id']\n",
    "del logTest['id']\n",
    "X_test = logTest\n",
    "\n",
    "from imblearn.over_sampling import SMOTE\n",
    "smt = SMOTE()\n",
    "x_train, y_train = smt.fit_sample(X, Y)\n",
    "\n",
    "logreg = LogisticRegression()\n",
    "logreg.fit(x_train, y_train)\n",
    "redemption_status = logreg.predict(X_test)\n",
    "logTest['redemption_status'] = redemption_status\n",
    "logTest['id'] = test_id\n",
    "logTest.to_csv('submission16.csv')\n"
   ]
  },
  {
   "cell_type": "code",
   "execution_count": 175,
   "metadata": {},
   "outputs": [
    {
     "data": {
      "text/plain": [
       "14"
      ]
     },
     "execution_count": 175,
     "metadata": {},
     "output_type": "execute_result"
    }
   ],
   "source": [
    "del logTrain\n",
    "del logTest\n",
    "gc.collect()"
   ]
  },
  {
   "cell_type": "code",
   "execution_count": 160,
   "metadata": {},
   "outputs": [],
   "source": [
    "# Lets go for random forest model building.\n",
    "trainRf = trainAnalysis.copy(deep = True) \n",
    "testRf = testAnalysis.copy(deep = True)"
   ]
  },
  {
   "cell_type": "code",
   "execution_count": 161,
   "metadata": {},
   "outputs": [
    {
     "name": "stdout",
     "output_type": "stream",
     "text": [
      "  age_range  redemption_status\n",
      "3     46-55           0.014452\n",
      "1     26-35           0.013584\n",
      "2     36-45           0.013292\n",
      "4     56-70           0.013161\n",
      "5       70+           0.008727\n",
      "0     18-25           0.006107\n",
      "   rented  redemption_status\n",
      "0     0.0           0.013097\n",
      "1     1.0           0.011577\n",
      "  marital_status  redemption_status\n",
      "0        Married           0.014885\n",
      "1         Single           0.011849\n",
      "  family_size  redemption_status\n",
      "3           4           0.019433\n",
      "4          5+           0.015446\n",
      "1           2           0.012849\n",
      "0           1           0.012489\n",
      "2           3           0.009893\n",
      "  no_of_children  redemption_status\n",
      "1              2           0.016634\n",
      "2             3+           0.015873\n",
      "0              1           0.012232\n",
      "    income_bracket  redemption_status\n",
      "5              6.0           0.020185\n",
      "4              5.0           0.019752\n",
      "9             10.0           0.015595\n",
      "8              9.0           0.015354\n",
      "0              1.0           0.010417\n",
      "7              8.0           0.009709\n",
      "2              3.0           0.009016\n",
      "6              7.0           0.008748\n",
      "3              4.0           0.008683\n",
      "1              2.0           0.006937\n",
      "10            11.0           0.000000\n",
      "11            12.0           0.000000\n",
      "  campaign_type  redemption_status\n",
      "0             X           0.011026\n",
      "1             Y           0.004496\n"
     ]
    }
   ],
   "source": [
    "#Lets Analyze Categorical features, before encoding it.\n",
    "\n",
    "print (trainRf[['age_range', 'redemption_status']].groupby(['age_range'], as_index=False).mean().sort_values(by='redemption_status', ascending=False))\n",
    "print (trainRf[['rented', 'redemption_status']].groupby(['rented'], as_index=False).mean().sort_values(by='redemption_status', ascending=False))\n",
    "print (trainRf[['marital_status', 'redemption_status']].groupby(['marital_status'], as_index=False).mean().sort_values(by='redemption_status', ascending=False))\n",
    "print (trainRf[['family_size', 'redemption_status']].groupby(['family_size'], as_index=False).mean().sort_values(by='redemption_status', ascending=False))\n",
    "print (trainRf[['no_of_children', 'redemption_status']].groupby(['no_of_children'], as_index=False).mean().sort_values(by='redemption_status', ascending=False))\n",
    "print (trainRf[['income_bracket', 'redemption_status']].groupby(['income_bracket'], as_index=False).mean().sort_values(by='redemption_status', ascending=False))\n",
    "print (trainRf[['campaign_type', 'redemption_status']].groupby(['campaign_type'], as_index=False).mean().sort_values(by='redemption_status', ascending=False))"
   ]
  },
  {
   "cell_type": "code",
   "execution_count": 162,
   "metadata": {},
   "outputs": [],
   "source": [
    "# Marital status - Dosent affect target, many Nas, so ignore it\n",
    "# No of children - Dosent affect target, many Nas, so ignore it\n",
    "\n",
    "del trainRf['marital_status']\n",
    "del trainRf['no_of_children']\n",
    "\n",
    "# Mean Encoding remaining categorical features.\n",
    "\n",
    "ct_mean_encode = trainRf.groupby('campaign_type')['redemption_status'].mean()\n",
    "trainRf.loc[:,'campaign_type'] = trainRf['campaign_type'].map(ct_mean_encode)\n",
    "\n",
    "trainRf.replace({'income_bracket':{np.nan :-999}}, inplace=True)\n",
    "ib_mean_encode = trainRf.groupby('income_bracket')['redemption_status'].mean()\n",
    "trainRf.loc[:,'income_bracket'] = trainRf['income_bracket'].map(ib_mean_encode)\n",
    "\n",
    "trainRf.replace({'rented':{np.nan :-999}}, inplace=True)\n",
    "rt_mean_encode = trainRf.groupby('rented')['redemption_status'].mean()\n",
    "trainRf.loc[:,'rented'] = trainRf['rented'].map(rt_mean_encode)\n",
    "\n",
    "trainRf.replace({'age_range':{np.nan :-999}}, inplace=True)\n",
    "ag_mean_encode = trainRf.groupby('age_range')['redemption_status'].mean()\n",
    "trainRf.loc[:,'age_range'] = trainRf['age_range'].map(ag_mean_encode)\n",
    "\n",
    "trainRf.replace({'family_size':{np.nan :-999}}, inplace=True)\n",
    "fs_mean_encode = trainRf.groupby('family_size')['redemption_status'].mean()\n",
    "trainRf.loc[:,'family_size'] = trainRf['family_size'].map(fs_mean_encode)\n",
    "\n",
    "del trainRf['campaign_id']\n",
    "del trainRf['coupon_id']\n",
    "del trainRf['customer_id']\n",
    "del trainRf['start_date']\n",
    "del trainRf['end_date']\n"
   ]
  },
  {
   "cell_type": "code",
   "execution_count": 163,
   "metadata": {},
   "outputs": [],
   "source": [
    "# Doing everything for test data:\n",
    "\n",
    "del testRf['marital_status']\n",
    "del testRf['no_of_children']\n",
    "\n",
    "testRf.loc[:,'campaign_type'] = testRf['campaign_type'].map(ct_mean_encode)\n",
    "\n",
    "testRf.replace({'income_bracket':{np.nan :-999}}, inplace=True)\n",
    "testRf.loc[:,'income_bracket'] = testRf['income_bracket'].map(ib_mean_encode)\n",
    "\n",
    "testRf.replace({'rented':{np.nan :-999}}, inplace=True)\n",
    "testRf.loc[:,'rented'] = testRf['rented'].map(rt_mean_encode)\n",
    "\n",
    "testRf.replace({'age_range':{np.nan :-999}}, inplace=True)\n",
    "testRf.loc[:,'age_range'] = testRf['age_range'].map(ag_mean_encode)\n",
    "\n",
    "testRf.replace({'family_size':{np.nan :-999}}, inplace=True)\n",
    "testRf.loc[:,'family_size'] = testRf['family_size'].map(fs_mean_encode)\n",
    "\n",
    "del testRf['campaign_id']\n",
    "del testRf['coupon_id']\n",
    "del testRf['customer_id']\n",
    "del testRf['start_date']\n",
    "del testRf['end_date']\n"
   ]
  },
  {
   "cell_type": "code",
   "execution_count": 138,
   "metadata": {},
   "outputs": [
    {
     "name": "stderr",
     "output_type": "stream",
     "text": [
      "C:\\Users\\Home\\Anaconda3\\lib\\site-packages\\sklearn\\ensemble\\forest.py:245: FutureWarning: The default value of n_estimators will change from 10 in version 0.20 to 100 in 0.22.\n",
      "  \"10 in version 0.20 to 100 in 0.22.\", FutureWarning)\n"
     ]
    },
    {
     "name": "stdout",
     "output_type": "stream",
     "text": [
      "0.5855223423467169\n",
      "[0.         0.00721618 1.        ]\n",
      "[0.         0.17826087 1.        ]\n"
     ]
    }
   ],
   "source": [
    "# Random Forest model fitting.\n",
    "from sklearn.model_selection import train_test_split\n",
    "\n",
    "from sklearn.ensemble import RandomForestClassifier\n",
    "from sklearn import metrics\n",
    "from sklearn.model_selection import train_test_split\n",
    "\n",
    "Y = trainRf['redemption_status']\n",
    "del trainRf['redemption_status']\n",
    "X = trainRf\n",
    "\n",
    "x_train, x_test, y_train, y_test = train_test_split(X, Y, test_size=0.3, random_state=0)\n",
    "# Since SMOTE is good for our data over NearMiss, we go for it.\n",
    "from imblearn.over_sampling import SMOTE\n",
    "smt = SMOTE()\n",
    "x_train, y_train = smt.fit_sample(x_train, y_train)\n",
    "\n",
    "rf = RandomForestClassifier()\n",
    "rf.fit(x_train, y_train)\n",
    "y_pred = rf.predict(x_test)\n",
    "\n",
    "from sklearn.metrics import roc_curve, auc\n",
    "false_positive_rate, true_positive_rate, thresholds = roc_curve(y_test, y_pred)\n",
    "roc_auc = auc(false_positive_rate, true_positive_rate)\n",
    "print (roc_auc)\n",
    "print (false_positive_rate)\n",
    "print (true_positive_rate)"
   ]
  },
  {
   "cell_type": "code",
   "execution_count": 139,
   "metadata": {},
   "outputs": [
    {
     "name": "stdout",
     "output_type": "stream",
     "text": [
      "********** Train **********\n",
      "1\n",
      "0.9944903327875789\n",
      "Test\n",
      "0.6091871894043099\n",
      "********** Train **********\n",
      "2\n",
      "0.9958056623558197\n",
      "Test\n",
      "0.5707344858561656\n",
      "********** Train **********\n",
      "4\n",
      "0.9983075479681378\n",
      "Test\n",
      "0.5837564873763452\n",
      "********** Train **********\n",
      "8\n",
      "0.9990341985687744\n",
      "Test\n",
      "0.5940891340764908\n",
      "********** Train **********\n",
      "16\n",
      "0.9994573115767398\n",
      "Test\n",
      "0.5985872973482761\n",
      "********** Train **********\n",
      "32\n",
      "0.9996688680807226\n",
      "Test\n",
      "0.5963489540827284\n",
      "********** Train **********\n",
      "64\n",
      "0.9997884434960173\n",
      "Test\n",
      "0.5963704308234182\n",
      "********** Train **********\n",
      "100\n",
      "0.9998160378226236\n",
      "Test\n",
      "0.5984369601634473\n",
      "********** Train **********\n",
      "200\n",
      "0.9998160378226236\n",
      "Test\n",
      "0.5963274773420386\n"
     ]
    },
    {
     "data": {
      "image/png": "[encoded data removed]",
      "text/plain": [
       "<Figure size 432x288 with 1 Axes>"
      ]
     },
     "metadata": {
      "needs_background": "light"
     },
     "output_type": "display_data"
    }
   ],
   "source": [
    "# Tuning Random forest parameters\n",
    "\n",
    "n_estimators = [1, 2, 4, 8, 16, 32, 64, 100, 200]\n",
    "train_results = []\n",
    "test_results = []\n",
    "for estimator in n_estimators:\n",
    "    rf = RandomForestClassifier(n_estimators=estimator, n_jobs=-1)\n",
    "    rf.fit(x_train, y_train)\n",
    "    train_pred = rf.predict(x_train)\n",
    "    false_positive_rate, true_positive_rate, thresholds = roc_curve(y_train, train_pred)\n",
    "    roc_auc = auc(false_positive_rate, true_positive_rate)\n",
    "    print (\"********** Train **********\")\n",
    "    print (estimator)\n",
    "    print (roc_auc)\n",
    "    train_results.append(roc_auc)\n",
    "    y_pred = rf.predict(x_test)\n",
    "    false_positive_rate, true_positive_rate, thresholds = roc_curve(y_test, y_pred)\n",
    "    roc_auc = auc(false_positive_rate, true_positive_rate)\n",
    "    print (\"Test\")\n",
    "    print (roc_auc)\n",
    "    test_results.append(roc_auc)\n",
    "    \n",
    "from matplotlib.legend_handler import HandlerLine2D\n",
    "line1 = plt.plot(n_estimators, train_results, 'b', label='Train AUC')\n",
    "line2 = plt.plot(n_estimators, test_results, 'r', label='Test AUC')\n",
    "plt.ylabel('AUC score')\n",
    "plt.xlabel('n_estimators')\n",
    "plt.show()"
   ]
  },
  {
   "cell_type": "code",
   "execution_count": 140,
   "metadata": {},
   "outputs": [
    {
     "name": "stderr",
     "output_type": "stream",
     "text": [
      "C:\\Users\\Home\\Anaconda3\\lib\\site-packages\\sklearn\\ensemble\\forest.py:245: FutureWarning: The default value of n_estimators will change from 10 in version 0.20 to 100 in 0.22.\n",
      "  \"10 in version 0.20 to 100 in 0.22.\", FutureWarning)\n"
     ]
    },
    {
     "name": "stdout",
     "output_type": "stream",
     "text": [
      "********** Train **********\n",
      "1.0\n",
      "0.799968726429846\n",
      "Test\n",
      "0.7492811828268247\n"
     ]
    },
    {
     "name": "stderr",
     "output_type": "stream",
     "text": [
      "C:\\Users\\Home\\Anaconda3\\lib\\site-packages\\sklearn\\ensemble\\forest.py:245: FutureWarning: The default value of n_estimators will change from 10 in version 0.20 to 100 in 0.22.\n",
      "  \"10 in version 0.20 to 100 in 0.22.\", FutureWarning)\n"
     ]
    },
    {
     "name": "stdout",
     "output_type": "stream",
     "text": [
      "********** Train **********\n",
      "2.0\n",
      "0.8338821538291726\n",
      "Test\n",
      "0.7482956805605616\n"
     ]
    },
    {
     "name": "stderr",
     "output_type": "stream",
     "text": [
      "C:\\Users\\Home\\Anaconda3\\lib\\site-packages\\sklearn\\ensemble\\forest.py:245: FutureWarning: The default value of n_estimators will change from 10 in version 0.20 to 100 in 0.22.\n",
      "  \"10 in version 0.20 to 100 in 0.22.\", FutureWarning)\n"
     ]
    },
    {
     "name": "stdout",
     "output_type": "stream",
     "text": [
      "********** Train **********\n",
      "3.0\n",
      "0.8722934564653507\n",
      "Test\n",
      "0.7513431366873153\n"
     ]
    },
    {
     "name": "stderr",
     "output_type": "stream",
     "text": [
      "C:\\Users\\Home\\Anaconda3\\lib\\site-packages\\sklearn\\ensemble\\forest.py:245: FutureWarning: The default value of n_estimators will change from 10 in version 0.20 to 100 in 0.22.\n",
      "  \"10 in version 0.20 to 100 in 0.22.\", FutureWarning)\n"
     ]
    },
    {
     "name": "stdout",
     "output_type": "stream",
     "text": [
      "********** Train **********\n",
      "4.0\n",
      "0.8817399142736254\n",
      "Test\n",
      "0.7597238277901555\n"
     ]
    },
    {
     "name": "stderr",
     "output_type": "stream",
     "text": [
      "C:\\Users\\Home\\Anaconda3\\lib\\site-packages\\sklearn\\ensemble\\forest.py:245: FutureWarning: The default value of n_estimators will change from 10 in version 0.20 to 100 in 0.22.\n",
      "  \"10 in version 0.20 to 100 in 0.22.\", FutureWarning)\n"
     ]
    },
    {
     "name": "stdout",
     "output_type": "stream",
     "text": [
      "********** Train **********\n",
      "5.0\n",
      "0.9055630162438602\n",
      "Test\n",
      "0.7498828116975403\n"
     ]
    },
    {
     "name": "stderr",
     "output_type": "stream",
     "text": [
      "C:\\Users\\Home\\Anaconda3\\lib\\site-packages\\sklearn\\ensemble\\forest.py:245: FutureWarning: The default value of n_estimators will change from 10 in version 0.20 to 100 in 0.22.\n",
      "  \"10 in version 0.20 to 100 in 0.22.\", FutureWarning)\n"
     ]
    },
    {
     "name": "stdout",
     "output_type": "stream",
     "text": [
      "********** Train **********\n",
      "6.0\n",
      "0.9238212623484611\n",
      "Test\n",
      "0.7548176998223967\n"
     ]
    },
    {
     "name": "stderr",
     "output_type": "stream",
     "text": [
      "C:\\Users\\Home\\Anaconda3\\lib\\site-packages\\sklearn\\ensemble\\forest.py:245: FutureWarning: The default value of n_estimators will change from 10 in version 0.20 to 100 in 0.22.\n",
      "  \"10 in version 0.20 to 100 in 0.22.\", FutureWarning)\n"
     ]
    },
    {
     "name": "stdout",
     "output_type": "stream",
     "text": [
      "********** Train **********\n",
      "7.0\n",
      "0.9388417741312386\n",
      "Test\n",
      "0.7455278889484428\n"
     ]
    },
    {
     "name": "stderr",
     "output_type": "stream",
     "text": [
      "C:\\Users\\Home\\Anaconda3\\lib\\site-packages\\sklearn\\ensemble\\forest.py:245: FutureWarning: The default value of n_estimators will change from 10 in version 0.20 to 100 in 0.22.\n",
      "  \"10 in version 0.20 to 100 in 0.22.\", FutureWarning)\n"
     ]
    },
    {
     "name": "stdout",
     "output_type": "stream",
     "text": [
      "********** Train **********\n",
      "8.0\n",
      "0.9514799757169925\n",
      "Test\n",
      "0.7364576077151922\n"
     ]
    },
    {
     "name": "stderr",
     "output_type": "stream",
     "text": [
      "C:\\Users\\Home\\Anaconda3\\lib\\site-packages\\sklearn\\ensemble\\forest.py:245: FutureWarning: The default value of n_estimators will change from 10 in version 0.20 to 100 in 0.22.\n",
      "  \"10 in version 0.20 to 100 in 0.22.\", FutureWarning)\n"
     ]
    },
    {
     "name": "stdout",
     "output_type": "stream",
     "text": [
      "********** Train **********\n",
      "9.0\n",
      "0.9600066226383855\n",
      "Test\n",
      "0.7457021306794306\n"
     ]
    },
    {
     "name": "stderr",
     "output_type": "stream",
     "text": [
      "C:\\Users\\Home\\Anaconda3\\lib\\site-packages\\sklearn\\ensemble\\forest.py:245: FutureWarning: The default value of n_estimators will change from 10 in version 0.20 to 100 in 0.22.\n",
      "  \"10 in version 0.20 to 100 in 0.22.\", FutureWarning)\n"
     ]
    },
    {
     "name": "stdout",
     "output_type": "stream",
     "text": [
      "********** Train **********\n",
      "10.0\n",
      "0.972516050699976\n",
      "Test\n",
      "0.7215600330928561\n"
     ]
    },
    {
     "name": "stderr",
     "output_type": "stream",
     "text": [
      "C:\\Users\\Home\\Anaconda3\\lib\\site-packages\\sklearn\\ensemble\\forest.py:245: FutureWarning: The default value of n_estimators will change from 10 in version 0.20 to 100 in 0.22.\n",
      "  \"10 in version 0.20 to 100 in 0.22.\", FutureWarning)\n"
     ]
    },
    {
     "name": "stdout",
     "output_type": "stream",
     "text": [
      "********** Train **********\n",
      "11.0\n",
      "0.9784580290292316\n",
      "Test\n",
      "0.7174174499451875\n"
     ]
    },
    {
     "name": "stderr",
     "output_type": "stream",
     "text": [
      "C:\\Users\\Home\\Anaconda3\\lib\\site-packages\\sklearn\\ensemble\\forest.py:245: FutureWarning: The default value of n_estimators will change from 10 in version 0.20 to 100 in 0.22.\n",
      "  \"10 in version 0.20 to 100 in 0.22.\", FutureWarning)\n"
     ]
    },
    {
     "name": "stdout",
     "output_type": "stream",
     "text": [
      "********** Train **********\n",
      "12.0\n",
      "0.9800309056457992\n",
      "Test\n",
      "0.725683567305304\n"
     ]
    },
    {
     "name": "stderr",
     "output_type": "stream",
     "text": [
      "C:\\Users\\Home\\Anaconda3\\lib\\site-packages\\sklearn\\ensemble\\forest.py:245: FutureWarning: The default value of n_estimators will change from 10 in version 0.20 to 100 in 0.22.\n",
      "  \"10 in version 0.20 to 100 in 0.22.\", FutureWarning)\n"
     ]
    },
    {
     "name": "stdout",
     "output_type": "stream",
     "text": [
      "********** Train **********\n",
      "13.0\n",
      "0.9849794882172225\n",
      "Test\n",
      "0.7029636968380635\n"
     ]
    },
    {
     "name": "stderr",
     "output_type": "stream",
     "text": [
      "C:\\Users\\Home\\Anaconda3\\lib\\site-packages\\sklearn\\ensemble\\forest.py:245: FutureWarning: The default value of n_estimators will change from 10 in version 0.20 to 100 in 0.22.\n",
      "  \"10 in version 0.20 to 100 in 0.22.\", FutureWarning)\n"
     ]
    },
    {
     "name": "stdout",
     "output_type": "stream",
     "text": [
      "********** Train **********\n",
      "14.0\n",
      "0.9858349123420225\n",
      "Test\n",
      "0.7038657199470365\n"
     ]
    },
    {
     "name": "stderr",
     "output_type": "stream",
     "text": [
      "C:\\Users\\Home\\Anaconda3\\lib\\site-packages\\sklearn\\ensemble\\forest.py:245: FutureWarning: The default value of n_estimators will change from 10 in version 0.20 to 100 in 0.22.\n",
      "  \"10 in version 0.20 to 100 in 0.22.\", FutureWarning)\n"
     ]
    },
    {
     "name": "stdout",
     "output_type": "stream",
     "text": [
      "********** Train **********\n",
      "15.0\n",
      "0.9896061369782374\n",
      "Test\n",
      "0.6856702517260763\n"
     ]
    },
    {
     "name": "stderr",
     "output_type": "stream",
     "text": [
      "C:\\Users\\Home\\Anaconda3\\lib\\site-packages\\sklearn\\ensemble\\forest.py:245: FutureWarning: The default value of n_estimators will change from 10 in version 0.20 to 100 in 0.22.\n",
      "  \"10 in version 0.20 to 100 in 0.22.\", FutureWarning)\n"
     ]
    },
    {
     "name": "stdout",
     "output_type": "stream",
     "text": [
      "********** Train **********\n",
      "16.0\n",
      "0.9914549568608693\n",
      "Test\n",
      "0.6693742611534317\n"
     ]
    },
    {
     "name": "stderr",
     "output_type": "stream",
     "text": [
      "C:\\Users\\Home\\Anaconda3\\lib\\site-packages\\sklearn\\ensemble\\forest.py:245: FutureWarning: The default value of n_estimators will change from 10 in version 0.20 to 100 in 0.22.\n",
      "  \"10 in version 0.20 to 100 in 0.22.\", FutureWarning)\n"
     ]
    },
    {
     "name": "stdout",
     "output_type": "stream",
     "text": [
      "********** Train **********\n",
      "17.0\n",
      "0.9925863242517339\n",
      "Test\n",
      "0.65789858496292\n"
     ]
    },
    {
     "name": "stderr",
     "output_type": "stream",
     "text": [
      "C:\\Users\\Home\\Anaconda3\\lib\\site-packages\\sklearn\\ensemble\\forest.py:245: FutureWarning: The default value of n_estimators will change from 10 in version 0.20 to 100 in 0.22.\n",
      "  \"10 in version 0.20 to 100 in 0.22.\", FutureWarning)\n"
     ]
    },
    {
     "name": "stdout",
     "output_type": "stream",
     "text": [
      "********** Train **********\n",
      "18.0\n",
      "0.9934877389208778\n",
      "Test\n",
      "0.6350164250377711\n"
     ]
    },
    {
     "name": "stderr",
     "output_type": "stream",
     "text": [
      "C:\\Users\\Home\\Anaconda3\\lib\\site-packages\\sklearn\\ensemble\\forest.py:245: FutureWarning: The default value of n_estimators will change from 10 in version 0.20 to 100 in 0.22.\n",
      "  \"10 in version 0.20 to 100 in 0.22.\", FutureWarning)\n"
     ]
    },
    {
     "name": "stdout",
     "output_type": "stream",
     "text": [
      "********** Train **********\n",
      "19.0\n",
      "0.9949042476866756\n",
      "Test\n",
      "0.6491766938145119\n"
     ]
    },
    {
     "name": "stderr",
     "output_type": "stream",
     "text": [
      "C:\\Users\\Home\\Anaconda3\\lib\\site-packages\\sklearn\\ensemble\\forest.py:245: FutureWarning: The default value of n_estimators will change from 10 in version 0.20 to 100 in 0.22.\n",
      "  \"10 in version 0.20 to 100 in 0.22.\", FutureWarning)\n"
     ]
    },
    {
     "name": "stdout",
     "output_type": "stream",
     "text": [
      "********** Train **********\n",
      "20.0\n",
      "0.9954285398921981\n",
      "Test\n",
      "0.627738237749387\n"
     ]
    },
    {
     "name": "stderr",
     "output_type": "stream",
     "text": [
      "C:\\Users\\Home\\Anaconda3\\lib\\site-packages\\sklearn\\ensemble\\forest.py:245: FutureWarning: The default value of n_estimators will change from 10 in version 0.20 to 100 in 0.22.\n",
      "  \"10 in version 0.20 to 100 in 0.22.\", FutureWarning)\n"
     ]
    },
    {
     "name": "stdout",
     "output_type": "stream",
     "text": [
      "********** Train **********\n",
      "21.0\n",
      "0.996587501609669\n",
      "Test\n",
      "0.6184149978616638\n"
     ]
    },
    {
     "name": "stderr",
     "output_type": "stream",
     "text": [
      "C:\\Users\\Home\\Anaconda3\\lib\\site-packages\\sklearn\\ensemble\\forest.py:245: FutureWarning: The default value of n_estimators will change from 10 in version 0.20 to 100 in 0.22.\n",
      "  \"10 in version 0.20 to 100 in 0.22.\", FutureWarning)\n"
     ]
    },
    {
     "name": "stdout",
     "output_type": "stream",
     "text": [
      "********** Train **********\n",
      "22.0\n",
      "0.9964587280855056\n",
      "Test\n",
      "0.6226769169858608\n"
     ]
    },
    {
     "name": "stderr",
     "output_type": "stream",
     "text": [
      "C:\\Users\\Home\\Anaconda3\\lib\\site-packages\\sklearn\\ensemble\\forest.py:245: FutureWarning: The default value of n_estimators will change from 10 in version 0.20 to 100 in 0.22.\n",
      "  \"10 in version 0.20 to 100 in 0.22.\", FutureWarning)\n"
     ]
    },
    {
     "name": "stdout",
     "output_type": "stream",
     "text": [
      "********** Train **********\n",
      "23.0\n",
      "0.9964587280855055\n",
      "Test\n",
      "0.6224191960975829\n"
     ]
    },
    {
     "name": "stderr",
     "output_type": "stream",
     "text": [
      "C:\\Users\\Home\\Anaconda3\\lib\\site-packages\\sklearn\\ensemble\\forest.py:245: FutureWarning: The default value of n_estimators will change from 10 in version 0.20 to 100 in 0.22.\n",
      "  \"10 in version 0.20 to 100 in 0.22.\", FutureWarning)\n"
     ]
    },
    {
     "name": "stdout",
     "output_type": "stream",
     "text": [
      "********** Train **********\n",
      "24.0\n",
      "0.9977096708916646\n",
      "Test\n",
      "0.6128597120622714\n"
     ]
    },
    {
     "name": "stderr",
     "output_type": "stream",
     "text": [
      "C:\\Users\\Home\\Anaconda3\\lib\\site-packages\\sklearn\\ensemble\\forest.py:245: FutureWarning: The default value of n_estimators will change from 10 in version 0.20 to 100 in 0.22.\n",
      "  \"10 in version 0.20 to 100 in 0.22.\", FutureWarning)\n"
     ]
    },
    {
     "name": "stdout",
     "output_type": "stream",
     "text": [
      "********** Train **********\n",
      "25.0\n",
      "0.9980959914641548\n",
      "Test\n",
      "0.5977711812020625\n"
     ]
    },
    {
     "name": "stderr",
     "output_type": "stream",
     "text": [
      "C:\\Users\\Home\\Anaconda3\\lib\\site-packages\\sklearn\\ensemble\\forest.py:245: FutureWarning: The default value of n_estimators will change from 10 in version 0.20 to 100 in 0.22.\n",
      "  \"10 in version 0.20 to 100 in 0.22.\", FutureWarning)\n"
     ]
    },
    {
     "name": "stdout",
     "output_type": "stream",
     "text": [
      "********** Train **********\n",
      "26.0\n",
      "0.9978660387424344\n",
      "Test\n",
      "0.5997088500979526\n"
     ]
    },
    {
     "name": "stderr",
     "output_type": "stream",
     "text": [
      "C:\\Users\\Home\\Anaconda3\\lib\\site-packages\\sklearn\\ensemble\\forest.py:245: FutureWarning: The default value of n_estimators will change from 10 in version 0.20 to 100 in 0.22.\n",
      "  \"10 in version 0.20 to 100 in 0.22.\", FutureWarning)\n"
     ]
    },
    {
     "name": "stdout",
     "output_type": "stream",
     "text": [
      "********** Train **********\n",
      "27.0\n",
      "0.9975257087142885\n",
      "Test\n",
      "0.6150336251057497\n"
     ]
    },
    {
     "name": "stderr",
     "output_type": "stream",
     "text": [
      "C:\\Users\\Home\\Anaconda3\\lib\\site-packages\\sklearn\\ensemble\\forest.py:245: FutureWarning: The default value of n_estimators will change from 10 in version 0.20 to 100 in 0.22.\n",
      "  \"10 in version 0.20 to 100 in 0.22.\", FutureWarning)\n"
     ]
    },
    {
     "name": "stdout",
     "output_type": "stream",
     "text": [
      "********** Train **********\n",
      "28.0\n",
      "0.9981603782262368\n",
      "Test\n",
      "0.602505588621436\n"
     ]
    },
    {
     "name": "stderr",
     "output_type": "stream",
     "text": [
      "C:\\Users\\Home\\Anaconda3\\lib\\site-packages\\sklearn\\ensemble\\forest.py:245: FutureWarning: The default value of n_estimators will change from 10 in version 0.20 to 100 in 0.22.\n",
      "  \"10 in version 0.20 to 100 in 0.22.\", FutureWarning)\n"
     ]
    },
    {
     "name": "stdout",
     "output_type": "stream",
     "text": [
      "********** Train **********\n",
      "29.0\n",
      "0.9985283025809893\n",
      "Test\n",
      "0.5959194192689318\n"
     ]
    },
    {
     "name": "stderr",
     "output_type": "stream",
     "text": [
      "C:\\Users\\Home\\Anaconda3\\lib\\site-packages\\sklearn\\ensemble\\forest.py:245: FutureWarning: The default value of n_estimators will change from 10 in version 0.20 to 100 in 0.22.\n",
      "  \"10 in version 0.20 to 100 in 0.22.\", FutureWarning)\n"
     ]
    },
    {
     "name": "stdout",
     "output_type": "stream",
     "text": [
      "********** Train **********\n",
      "30.0\n",
      "0.998546698798727\n",
      "Test\n",
      "0.5938743666695925\n"
     ]
    },
    {
     "name": "stderr",
     "output_type": "stream",
     "text": [
      "C:\\Users\\Home\\Anaconda3\\lib\\site-packages\\sklearn\\ensemble\\forest.py:245: FutureWarning: The default value of n_estimators will change from 10 in version 0.20 to 100 in 0.22.\n",
      "  \"10 in version 0.20 to 100 in 0.22.\", FutureWarning)\n"
     ]
    },
    {
     "name": "stdout",
     "output_type": "stream",
     "text": [
      "********** Train **********\n",
      "31.0\n",
      "0.9988042458470539\n",
      "Test\n",
      "0.596391907564108\n"
     ]
    },
    {
     "name": "stderr",
     "output_type": "stream",
     "text": [
      "C:\\Users\\Home\\Anaconda3\\lib\\site-packages\\sklearn\\ensemble\\forest.py:245: FutureWarning: The default value of n_estimators will change from 10 in version 0.20 to 100 in 0.22.\n",
      "  \"10 in version 0.20 to 100 in 0.22.\", FutureWarning)\n"
     ]
    },
    {
     "name": "stdout",
     "output_type": "stream",
     "text": [
      "********** Train **********\n",
      "32.0\n",
      "0.9988870288268732\n",
      "Test\n",
      "0.5964133843047978\n"
     ]
    },
    {
     "data": {
      "image/png": "[encoded data removed]",
      "text/plain": [
       "<Figure size 432x288 with 1 Axes>"
      ]
     },
     "metadata": {
      "needs_background": "light"
     },
     "output_type": "display_data"
    }
   ],
   "source": [
    "max_depths = np.linspace(1, 32, 32, endpoint=True)\n",
    "train_results = []\n",
    "test_results = []\n",
    "for max_depth in max_depths:\n",
    "    rf = RandomForestClassifier(max_depth=max_depth, n_jobs=-1)\n",
    "    rf.fit(x_train, y_train)\n",
    "    train_pred = rf.predict(x_train)\n",
    "    false_positive_rate, true_positive_rate, thresholds = roc_curve(y_train, train_pred)\n",
    "    roc_auc = auc(false_positive_rate, true_positive_rate)\n",
    "    print (\"********** Train **********\")\n",
    "    print (max_depth)\n",
    "    print (roc_auc)\n",
    "    train_results.append(roc_auc)\n",
    "    y_pred = rf.predict(x_test)\n",
    "    false_positive_rate, true_positive_rate, thresholds = roc_curve(y_test, y_pred)\n",
    "    roc_auc = auc(false_positive_rate, true_positive_rate)\n",
    "    print (\"Test\")\n",
    "    print (roc_auc)\n",
    "    test_results.append(roc_auc)\n",
    "from matplotlib.legend_handler import HandlerLine2D\n",
    "line1, = plt.plot(max_depths, train_results, 'b', label='Train AUC')\n",
    "line2, = plt.plot(max_depths, test_results, 'r', label='Test AUC')\n",
    "plt.ylabel('AUC score')\n",
    "plt.xlabel('Tree depth')\n",
    "plt.show()\n"
   ]
  },
  {
   "cell_type": "code",
   "execution_count": 141,
   "metadata": {},
   "outputs": [
    {
     "name": "stderr",
     "output_type": "stream",
     "text": [
      "C:\\Users\\Home\\Anaconda3\\lib\\site-packages\\sklearn\\ensemble\\forest.py:245: FutureWarning: The default value of n_estimators will change from 10 in version 0.20 to 100 in 0.22.\n",
      "  \"10 in version 0.20 to 100 in 0.22.\", FutureWarning)\n"
     ]
    },
    {
     "name": "stdout",
     "output_type": "stream",
     "text": [
      "********** Train **********\n",
      "0.1\n",
      "0.8705826082157508\n",
      "Test\n",
      "0.7014220403650673\n"
     ]
    },
    {
     "name": "stderr",
     "output_type": "stream",
     "text": [
      "C:\\Users\\Home\\Anaconda3\\lib\\site-packages\\sklearn\\ensemble\\forest.py:245: FutureWarning: The default value of n_estimators will change from 10 in version 0.20 to 100 in 0.22.\n",
      "  \"10 in version 0.20 to 100 in 0.22.\", FutureWarning)\n"
     ]
    },
    {
     "name": "stdout",
     "output_type": "stream",
     "text": [
      "********** Train **********\n",
      "0.2\n",
      "0.8701962876432605\n",
      "Test\n",
      "0.7087837068107413\n"
     ]
    },
    {
     "name": "stderr",
     "output_type": "stream",
     "text": [
      "C:\\Users\\Home\\Anaconda3\\lib\\site-packages\\sklearn\\ensemble\\forest.py:245: FutureWarning: The default value of n_estimators will change from 10 in version 0.20 to 100 in 0.22.\n",
      "  \"10 in version 0.20 to 100 in 0.22.\", FutureWarning)\n"
     ]
    },
    {
     "name": "stdout",
     "output_type": "stream",
     "text": [
      "********** Train **********\n",
      "0.30000000000000004\n",
      "0.8473389871042514\n",
      "Test\n",
      "0.7428622519203008\n"
     ]
    },
    {
     "name": "stderr",
     "output_type": "stream",
     "text": [
      "C:\\Users\\Home\\Anaconda3\\lib\\site-packages\\sklearn\\ensemble\\forest.py:245: FutureWarning: The default value of n_estimators will change from 10 in version 0.20 to 100 in 0.22.\n",
      "  \"10 in version 0.20 to 100 in 0.22.\", FutureWarning)\n"
     ]
    },
    {
     "name": "stdout",
     "output_type": "stream",
     "text": [
      "********** Train **********\n",
      "0.4\n",
      "0.830460457329973\n",
      "Test\n",
      "0.7129642944517175\n"
     ]
    },
    {
     "name": "stderr",
     "output_type": "stream",
     "text": [
      "C:\\Users\\Home\\Anaconda3\\lib\\site-packages\\sklearn\\ensemble\\forest.py:245: FutureWarning: The default value of n_estimators will change from 10 in version 0.20 to 100 in 0.22.\n",
      "  \"10 in version 0.20 to 100 in 0.22.\", FutureWarning)\n"
     ]
    },
    {
     "name": "stdout",
     "output_type": "stream",
     "text": [
      "********** Train **********\n",
      "0.5\n",
      "0.7798156698982688\n",
      "Test\n",
      "0.6780548796088619\n"
     ]
    },
    {
     "name": "stderr",
     "output_type": "stream",
     "text": [
      "C:\\Users\\Home\\Anaconda3\\lib\\site-packages\\sklearn\\ensemble\\forest.py:245: FutureWarning: The default value of n_estimators will change from 10 in version 0.20 to 100 in 0.22.\n",
      "  \"10 in version 0.20 to 100 in 0.22.\", FutureWarning)\n"
     ]
    },
    {
     "name": "stdout",
     "output_type": "stream",
     "text": [
      "********** Train **********\n",
      "0.6\n",
      "0.8360988980665576\n",
      "Test\n",
      "0.7648279152807944\n"
     ]
    },
    {
     "name": "stderr",
     "output_type": "stream",
     "text": [
      "C:\\Users\\Home\\Anaconda3\\lib\\site-packages\\sklearn\\ensemble\\forest.py:245: FutureWarning: The default value of n_estimators will change from 10 in version 0.20 to 100 in 0.22.\n",
      "  \"10 in version 0.20 to 100 in 0.22.\", FutureWarning)\n"
     ]
    },
    {
     "name": "stdout",
     "output_type": "stream",
     "text": [
      "********** Train **********\n",
      "0.7000000000000001\n",
      "0.5\n",
      "Test\n",
      "0.5\n"
     ]
    },
    {
     "name": "stderr",
     "output_type": "stream",
     "text": [
      "C:\\Users\\Home\\Anaconda3\\lib\\site-packages\\sklearn\\ensemble\\forest.py:245: FutureWarning: The default value of n_estimators will change from 10 in version 0.20 to 100 in 0.22.\n",
      "  \"10 in version 0.20 to 100 in 0.22.\", FutureWarning)\n"
     ]
    },
    {
     "name": "stdout",
     "output_type": "stream",
     "text": [
      "********** Train **********\n",
      "0.8\n",
      "0.5\n",
      "Test\n",
      "0.5\n"
     ]
    },
    {
     "name": "stderr",
     "output_type": "stream",
     "text": [
      "C:\\Users\\Home\\Anaconda3\\lib\\site-packages\\sklearn\\ensemble\\forest.py:245: FutureWarning: The default value of n_estimators will change from 10 in version 0.20 to 100 in 0.22.\n",
      "  \"10 in version 0.20 to 100 in 0.22.\", FutureWarning)\n"
     ]
    },
    {
     "name": "stdout",
     "output_type": "stream",
     "text": [
      "********** Train **********\n",
      "0.9\n",
      "0.5\n",
      "Test\n",
      "0.5\n"
     ]
    },
    {
     "name": "stderr",
     "output_type": "stream",
     "text": [
      "C:\\Users\\Home\\Anaconda3\\lib\\site-packages\\sklearn\\ensemble\\forest.py:245: FutureWarning: The default value of n_estimators will change from 10 in version 0.20 to 100 in 0.22.\n",
      "  \"10 in version 0.20 to 100 in 0.22.\", FutureWarning)\n"
     ]
    },
    {
     "name": "stdout",
     "output_type": "stream",
     "text": [
      "********** Train **********\n",
      "1.0\n",
      "0.5\n",
      "Test\n",
      "0.5\n"
     ]
    },
    {
     "data": {
      "image/png": "[encoded data removed]",
      "text/plain": [
       "<Figure size 432x288 with 1 Axes>"
      ]
     },
     "metadata": {
      "needs_background": "light"
     },
     "output_type": "display_data"
    }
   ],
   "source": [
    "min_samples_splits = np.linspace(0.1, 1.0, 10, endpoint=True)\n",
    "train_results = []\n",
    "test_results = []\n",
    "for min_samples_split in min_samples_splits:\n",
    "    rf = RandomForestClassifier(min_samples_split=min_samples_split)\n",
    "    rf.fit(x_train, y_train)\n",
    "    train_pred = rf.predict(x_train)\n",
    "    false_positive_rate, true_positive_rate, thresholds = roc_curve(y_train, train_pred)\n",
    "    roc_auc = auc(false_positive_rate, true_positive_rate)\n",
    "    print (\"********** Train **********\")\n",
    "    print (min_samples_split)\n",
    "    print (roc_auc)\n",
    "    train_results.append(roc_auc)\n",
    "    y_pred = rf.predict(x_test)\n",
    "    false_positive_rate, true_positive_rate, thresholds = roc_curve(y_test, y_pred)\n",
    "    roc_auc = auc(false_positive_rate, true_positive_rate)\n",
    "    print (\"Test\")\n",
    "    print (roc_auc)\n",
    "    test_results.append(roc_auc)\n",
    "    \n",
    "from matplotlib.legend_handler import HandlerLine2D\n",
    "line1, = plt.plot(min_samples_splits, train_results, 'b', label='Train AUC')\n",
    "line2, = plt.plot(min_samples_splits, test_results, 'r', label='Test AUC')\n",
    "plt.ylabel('AUC score')\n",
    "plt.xlabel('min samples split')\n",
    "plt.show()"
   ]
  },
  {
   "cell_type": "code",
   "execution_count": 142,
   "metadata": {},
   "outputs": [
    {
     "name": "stderr",
     "output_type": "stream",
     "text": [
      "C:\\Users\\Home\\Anaconda3\\lib\\site-packages\\sklearn\\ensemble\\forest.py:245: FutureWarning: The default value of n_estimators will change from 10 in version 0.20 to 100 in 0.22.\n",
      "  \"10 in version 0.20 to 100 in 0.22.\", FutureWarning)\n"
     ]
    },
    {
     "name": "stdout",
     "output_type": "stream",
     "text": [
      "********** Train **********\n",
      "0.1\n",
      "0.8465203554149265\n",
      "Test\n",
      "0.7570511874770057\n"
     ]
    },
    {
     "name": "stderr",
     "output_type": "stream",
     "text": [
      "C:\\Users\\Home\\Anaconda3\\lib\\site-packages\\sklearn\\ensemble\\forest.py:245: FutureWarning: The default value of n_estimators will change from 10 in version 0.20 to 100 in 0.22.\n",
      "  \"10 in version 0.20 to 100 in 0.22.\", FutureWarning)\n"
     ]
    },
    {
     "name": "stdout",
     "output_type": "stream",
     "text": [
      "********** Train **********\n",
      "0.2\n",
      "0.8163781526518148\n",
      "Test\n",
      "0.7623462312055175\n"
     ]
    },
    {
     "name": "stderr",
     "output_type": "stream",
     "text": [
      "C:\\Users\\Home\\Anaconda3\\lib\\site-packages\\sklearn\\ensemble\\forest.py:245: FutureWarning: The default value of n_estimators will change from 10 in version 0.20 to 100 in 0.22.\n",
      "  \"10 in version 0.20 to 100 in 0.22.\", FutureWarning)\n"
     ]
    },
    {
     "name": "stdout",
     "output_type": "stream",
     "text": [
      "********** Train **********\n",
      "0.30000000000000004\n",
      "0.7819588292647032\n",
      "Test\n",
      "0.7436137510901781\n"
     ]
    },
    {
     "name": "stderr",
     "output_type": "stream",
     "text": [
      "C:\\Users\\Home\\Anaconda3\\lib\\site-packages\\sklearn\\ensemble\\forest.py:245: FutureWarning: The default value of n_estimators will change from 10 in version 0.20 to 100 in 0.22.\n",
      "  \"10 in version 0.20 to 100 in 0.22.\", FutureWarning)\n"
     ]
    },
    {
     "name": "stdout",
     "output_type": "stream",
     "text": [
      "********** Train **********\n",
      "0.4\n",
      "0.5\n",
      "Test\n",
      "0.5\n"
     ]
    },
    {
     "name": "stderr",
     "output_type": "stream",
     "text": [
      "C:\\Users\\Home\\Anaconda3\\lib\\site-packages\\sklearn\\ensemble\\forest.py:245: FutureWarning: The default value of n_estimators will change from 10 in version 0.20 to 100 in 0.22.\n",
      "  \"10 in version 0.20 to 100 in 0.22.\", FutureWarning)\n"
     ]
    },
    {
     "name": "stdout",
     "output_type": "stream",
     "text": [
      "********** Train **********\n",
      "0.5\n",
      "0.5\n",
      "Test\n",
      "0.5\n"
     ]
    },
    {
     "data": {
      "image/png": "[encoded data removed]",
      "text/plain": [
       "<Figure size 432x288 with 1 Axes>"
      ]
     },
     "metadata": {
      "needs_background": "light"
     },
     "output_type": "display_data"
    }
   ],
   "source": [
    "min_samples_leafs = np.linspace(0.1, 0.5, 5, endpoint=True)\n",
    "train_results = []\n",
    "test_results = []\n",
    "for min_samples_leaf in min_samples_leafs:\n",
    "    rf = RandomForestClassifier(min_samples_leaf=min_samples_leaf)\n",
    "    rf.fit(x_train, y_train)\n",
    "    train_pred = rf.predict(x_train)\n",
    "    false_positive_rate, true_positive_rate, thresholds = roc_curve(y_train, train_pred)\n",
    "    roc_auc = auc(false_positive_rate, true_positive_rate)\n",
    "    print (\"********** Train **********\")\n",
    "    print (min_samples_leaf)\n",
    "    print (roc_auc)\n",
    "    train_results.append(roc_auc)\n",
    "    y_pred = rf.predict(x_test)\n",
    "    false_positive_rate, true_positive_rate, thresholds = roc_curve(y_test, y_pred)\n",
    "    roc_auc = auc(false_positive_rate, true_positive_rate)\n",
    "    print (\"Test\")\n",
    "    print (roc_auc)\n",
    "    test_results.append(roc_auc)\n",
    "from matplotlib.legend_handler import HandlerLine2D\n",
    "line1, = plt.plot(min_samples_leafs, train_results, 'b', label='Train AUC')\n",
    "line2, = plt.plot(min_samples_leafs, test_results, 'r', label='Test AUC')\n",
    "plt.ylabel('AUC score')\n",
    "plt.xlabel('min samples leaf')\n",
    "plt.show()"
   ]
  },
  {
   "cell_type": "code",
   "execution_count": 143,
   "metadata": {},
   "outputs": [
    {
     "name": "stderr",
     "output_type": "stream",
     "text": [
      "C:\\Users\\Home\\Anaconda3\\lib\\site-packages\\sklearn\\ensemble\\forest.py:245: FutureWarning: The default value of n_estimators will change from 10 in version 0.20 to 100 in 0.22.\n",
      "  \"10 in version 0.20 to 100 in 0.22.\", FutureWarning)\n"
     ]
    },
    {
     "name": "stdout",
     "output_type": "stream",
     "text": [
      "********** Train **********\n",
      "1\n",
      "0.9992457550727569\n",
      "Test\n",
      "0.5942394712613196\n"
     ]
    },
    {
     "name": "stderr",
     "output_type": "stream",
     "text": [
      "C:\\Users\\Home\\Anaconda3\\lib\\site-packages\\sklearn\\ensemble\\forest.py:245: FutureWarning: The default value of n_estimators will change from 10 in version 0.20 to 100 in 0.22.\n",
      "  \"10 in version 0.20 to 100 in 0.22.\", FutureWarning)\n"
     ]
    },
    {
     "name": "stdout",
     "output_type": "stream",
     "text": [
      "********** Train **********\n",
      "2\n",
      "0.9992089626372819\n",
      "Test\n",
      "0.5900634590998818\n"
     ]
    },
    {
     "name": "stderr",
     "output_type": "stream",
     "text": [
      "C:\\Users\\Home\\Anaconda3\\lib\\site-packages\\sklearn\\ensemble\\forest.py:245: FutureWarning: The default value of n_estimators will change from 10 in version 0.20 to 100 in 0.22.\n",
      "  \"10 in version 0.20 to 100 in 0.22.\", FutureWarning)\n"
     ]
    },
    {
     "name": "stdout",
     "output_type": "stream",
     "text": [
      "********** Train **********\n",
      "3\n",
      "0.9992733493993636\n",
      "Test\n",
      "0.5878465925750238\n"
     ]
    },
    {
     "name": "stderr",
     "output_type": "stream",
     "text": [
      "C:\\Users\\Home\\Anaconda3\\lib\\site-packages\\sklearn\\ensemble\\forest.py:245: FutureWarning: The default value of n_estimators will change from 10 in version 0.20 to 100 in 0.22.\n",
      "  \"10 in version 0.20 to 100 in 0.22.\", FutureWarning)\n"
     ]
    },
    {
     "name": "stdout",
     "output_type": "stream",
     "text": [
      "********** Train **********\n",
      "4\n",
      "0.9991353777663312\n",
      "Test\n",
      "0.5813892836666585\n"
     ]
    },
    {
     "name": "stderr",
     "output_type": "stream",
     "text": [
      "C:\\Users\\Home\\Anaconda3\\lib\\site-packages\\sklearn\\ensemble\\forest.py:245: FutureWarning: The default value of n_estimators will change from 10 in version 0.20 to 100 in 0.22.\n",
      "  \"10 in version 0.20 to 100 in 0.22.\", FutureWarning)\n"
     ]
    },
    {
     "name": "stdout",
     "output_type": "stream",
     "text": [
      "********** Train **********\n",
      "5\n",
      "0.999190566419544\n",
      "Test\n",
      "0.5924091860688787\n"
     ]
    },
    {
     "name": "stderr",
     "output_type": "stream",
     "text": [
      "C:\\Users\\Home\\Anaconda3\\lib\\site-packages\\sklearn\\ensemble\\forest.py:245: FutureWarning: The default value of n_estimators will change from 10 in version 0.20 to 100 in 0.22.\n",
      "  \"10 in version 0.20 to 100 in 0.22.\", FutureWarning)\n"
     ]
    },
    {
     "name": "stdout",
     "output_type": "stream",
     "text": [
      "********** Train **********\n",
      "6\n",
      "0.9992365569638882\n",
      "Test\n",
      "0.5987591112737948\n"
     ]
    },
    {
     "name": "stderr",
     "output_type": "stream",
     "text": [
      "C:\\Users\\Home\\Anaconda3\\lib\\site-packages\\sklearn\\ensemble\\forest.py:245: FutureWarning: The default value of n_estimators will change from 10 in version 0.20 to 100 in 0.22.\n",
      "  \"10 in version 0.20 to 100 in 0.22.\", FutureWarning)\n"
     ]
    },
    {
     "name": "stdout",
     "output_type": "stream",
     "text": [
      "********** Train **********\n",
      "7\n",
      "0.9991629720929376\n",
      "Test\n",
      "0.587953976278473\n"
     ]
    },
    {
     "name": "stderr",
     "output_type": "stream",
     "text": [
      "C:\\Users\\Home\\Anaconda3\\lib\\site-packages\\sklearn\\ensemble\\forest.py:245: FutureWarning: The default value of n_estimators will change from 10 in version 0.20 to 100 in 0.22.\n",
      "  \"10 in version 0.20 to 100 in 0.22.\", FutureWarning)\n"
     ]
    },
    {
     "name": "stdout",
     "output_type": "stream",
     "text": [
      "********** Train **********\n",
      "8\n",
      "0.9992365569638881\n",
      "Test\n",
      "0.5900205056185021\n"
     ]
    },
    {
     "name": "stderr",
     "output_type": "stream",
     "text": [
      "C:\\Users\\Home\\Anaconda3\\lib\\site-packages\\sklearn\\ensemble\\forest.py:245: FutureWarning: The default value of n_estimators will change from 10 in version 0.20 to 100 in 0.22.\n",
      "  \"10 in version 0.20 to 100 in 0.22.\", FutureWarning)\n"
     ]
    },
    {
     "name": "stdout",
     "output_type": "stream",
     "text": [
      "********** Train **********\n",
      "9\n",
      "0.9992273588550193\n",
      "Test\n",
      "0.6009115475765833\n"
     ]
    },
    {
     "name": "stderr",
     "output_type": "stream",
     "text": [
      "C:\\Users\\Home\\Anaconda3\\lib\\site-packages\\sklearn\\ensemble\\forest.py:245: FutureWarning: The default value of n_estimators will change from 10 in version 0.20 to 100 in 0.22.\n",
      "  \"10 in version 0.20 to 100 in 0.22.\", FutureWarning)\n"
     ]
    },
    {
     "name": "stdout",
     "output_type": "stream",
     "text": [
      "********** Train **********\n",
      "10\n",
      "0.9990893872219873\n",
      "Test\n",
      "0.5836276269322063\n"
     ]
    },
    {
     "name": "stderr",
     "output_type": "stream",
     "text": [
      "C:\\Users\\Home\\Anaconda3\\lib\\site-packages\\sklearn\\ensemble\\forest.py:245: FutureWarning: The default value of n_estimators will change from 10 in version 0.20 to 100 in 0.22.\n",
      "  \"10 in version 0.20 to 100 in 0.22.\", FutureWarning)\n"
     ]
    },
    {
     "name": "stdout",
     "output_type": "stream",
     "text": [
      "********** Train **********\n",
      "11\n",
      "0.9991629720929377\n",
      "Test\n",
      "0.5923447558468092\n"
     ]
    },
    {
     "name": "stderr",
     "output_type": "stream",
     "text": [
      "C:\\Users\\Home\\Anaconda3\\lib\\site-packages\\sklearn\\ensemble\\forest.py:245: FutureWarning: The default value of n_estimators will change from 10 in version 0.20 to 100 in 0.22.\n",
      "  \"10 in version 0.20 to 100 in 0.22.\", FutureWarning)\n"
     ]
    },
    {
     "name": "stdout",
     "output_type": "stream",
     "text": [
      "********** Train **********\n",
      "12\n",
      "0.9992273588550195\n",
      "Test\n",
      "0.5877392088715747\n"
     ]
    },
    {
     "name": "stderr",
     "output_type": "stream",
     "text": [
      "C:\\Users\\Home\\Anaconda3\\lib\\site-packages\\sklearn\\ensemble\\forest.py:245: FutureWarning: The default value of n_estimators will change from 10 in version 0.20 to 100 in 0.22.\n",
      "  \"10 in version 0.20 to 100 in 0.22.\", FutureWarning)\n"
     ]
    },
    {
     "name": "stdout",
     "output_type": "stream",
     "text": [
      "********** Train **********\n",
      "13\n",
      "0.9991813683106753\n",
      "Test\n",
      "0.5855867725687863\n"
     ]
    },
    {
     "name": "stderr",
     "output_type": "stream",
     "text": [
      "C:\\Users\\Home\\Anaconda3\\lib\\site-packages\\sklearn\\ensemble\\forest.py:245: FutureWarning: The default value of n_estimators will change from 10 in version 0.20 to 100 in 0.22.\n",
      "  \"10 in version 0.20 to 100 in 0.22.\", FutureWarning)\n"
     ]
    },
    {
     "name": "stdout",
     "output_type": "stream",
     "text": [
      "********** Train **********\n",
      "14\n",
      "0.999153773984069\n",
      "Test\n",
      "0.598866494977244\n"
     ]
    },
    {
     "name": "stderr",
     "output_type": "stream",
     "text": [
      "C:\\Users\\Home\\Anaconda3\\lib\\site-packages\\sklearn\\ensemble\\forest.py:245: FutureWarning: The default value of n_estimators will change from 10 in version 0.20 to 100 in 0.22.\n",
      "  \"10 in version 0.20 to 100 in 0.22.\", FutureWarning)\n"
     ]
    },
    {
     "name": "stdout",
     "output_type": "stream",
     "text": [
      "********** Train **********\n",
      "15\n",
      "0.9992089626372818\n",
      "Test\n",
      "0.5899345986557428\n"
     ]
    },
    {
     "name": "stderr",
     "output_type": "stream",
     "text": [
      "C:\\Users\\Home\\Anaconda3\\lib\\site-packages\\sklearn\\ensemble\\forest.py:245: FutureWarning: The default value of n_estimators will change from 10 in version 0.20 to 100 in 0.22.\n",
      "  \"10 in version 0.20 to 100 in 0.22.\", FutureWarning)\n"
     ]
    },
    {
     "name": "stdout",
     "output_type": "stream",
     "text": [
      "********** Train **********\n",
      "16\n",
      "0.9991445758752001\n",
      "Test\n",
      "0.5942824247426993\n"
     ]
    },
    {
     "name": "stderr",
     "output_type": "stream",
     "text": [
      "C:\\Users\\Home\\Anaconda3\\lib\\site-packages\\sklearn\\ensemble\\forest.py:245: FutureWarning: The default value of n_estimators will change from 10 in version 0.20 to 100 in 0.22.\n",
      "  \"10 in version 0.20 to 100 in 0.22.\", FutureWarning)\n"
     ]
    },
    {
     "name": "stdout",
     "output_type": "stream",
     "text": [
      "********** Train **********\n",
      "17\n",
      "0.9992273588550195\n",
      "Test\n",
      "0.5835631967101368\n"
     ]
    },
    {
     "name": "stderr",
     "output_type": "stream",
     "text": [
      "C:\\Users\\Home\\Anaconda3\\lib\\site-packages\\sklearn\\ensemble\\forest.py:245: FutureWarning: The default value of n_estimators will change from 10 in version 0.20 to 100 in 0.22.\n",
      "  \"10 in version 0.20 to 100 in 0.22.\", FutureWarning)\n"
     ]
    },
    {
     "name": "stdout",
     "output_type": "stream",
     "text": [
      "********** Train **********\n",
      "18\n",
      "0.9991905664195442\n",
      "Test\n",
      "0.589913121915053\n"
     ]
    },
    {
     "name": "stderr",
     "output_type": "stream",
     "text": [
      "C:\\Users\\Home\\Anaconda3\\lib\\site-packages\\sklearn\\ensemble\\forest.py:245: FutureWarning: The default value of n_estimators will change from 10 in version 0.20 to 100 in 0.22.\n",
      "  \"10 in version 0.20 to 100 in 0.22.\", FutureWarning)\n"
     ]
    },
    {
     "name": "stdout",
     "output_type": "stream",
     "text": [
      "********** Train **********\n",
      "19\n",
      "0.9991445758752001\n",
      "Test\n",
      "0.5876747786495052\n"
     ]
    },
    {
     "name": "stderr",
     "output_type": "stream",
     "text": [
      "C:\\Users\\Home\\Anaconda3\\lib\\site-packages\\sklearn\\ensemble\\forest.py:245: FutureWarning: The default value of n_estimators will change from 10 in version 0.20 to 100 in 0.22.\n",
      "  \"10 in version 0.20 to 100 in 0.22.\", FutureWarning)\n"
     ]
    },
    {
     "name": "stdout",
     "output_type": "stream",
     "text": [
      "********** Train **********\n",
      "20\n",
      "0.9990709910042496\n",
      "Test\n",
      "0.5877821623529544\n"
     ]
    },
    {
     "name": "stderr",
     "output_type": "stream",
     "text": [
      "C:\\Users\\Home\\Anaconda3\\lib\\site-packages\\sklearn\\ensemble\\forest.py:245: FutureWarning: The default value of n_estimators will change from 10 in version 0.20 to 100 in 0.22.\n",
      "  \"10 in version 0.20 to 100 in 0.22.\", FutureWarning)\n"
     ]
    },
    {
     "name": "stdout",
     "output_type": "stream",
     "text": [
      "********** Train **********\n",
      "21\n",
      "0.9991721702018064\n",
      "Test\n",
      "0.5964348610454877\n"
     ]
    },
    {
     "name": "stderr",
     "output_type": "stream",
     "text": [
      "C:\\Users\\Home\\Anaconda3\\lib\\site-packages\\sklearn\\ensemble\\forest.py:245: FutureWarning: The default value of n_estimators will change from 10 in version 0.20 to 100 in 0.22.\n",
      "  \"10 in version 0.20 to 100 in 0.22.\", FutureWarning)\n"
     ]
    },
    {
     "name": "stdout",
     "output_type": "stream",
     "text": [
      "********** Train **********\n",
      "22\n",
      "0.9991537739840688\n",
      "Test\n",
      "0.5855438190874067\n"
     ]
    },
    {
     "name": "stderr",
     "output_type": "stream",
     "text": [
      "C:\\Users\\Home\\Anaconda3\\lib\\site-packages\\sklearn\\ensemble\\forest.py:245: FutureWarning: The default value of n_estimators will change from 10 in version 0.20 to 100 in 0.22.\n",
      "  \"10 in version 0.20 to 100 in 0.22.\", FutureWarning)\n"
     ]
    },
    {
     "name": "stdout",
     "output_type": "stream",
     "text": [
      "********** Train **********\n",
      "23\n",
      "0.9991261796574624\n",
      "Test\n",
      "0.596520768008247\n"
     ]
    },
    {
     "name": "stderr",
     "output_type": "stream",
     "text": [
      "C:\\Users\\Home\\Anaconda3\\lib\\site-packages\\sklearn\\ensemble\\forest.py:245: FutureWarning: The default value of n_estimators will change from 10 in version 0.20 to 100 in 0.22.\n",
      "  \"10 in version 0.20 to 100 in 0.22.\", FutureWarning)\n"
     ]
    },
    {
     "name": "stdout",
     "output_type": "stream",
     "text": [
      "********** Train **********\n",
      "24\n",
      "0.9992089626372818\n",
      "Test\n",
      "0.5921085116992211\n"
     ]
    },
    {
     "name": "stderr",
     "output_type": "stream",
     "text": [
      "C:\\Users\\Home\\Anaconda3\\lib\\site-packages\\sklearn\\ensemble\\forest.py:245: FutureWarning: The default value of n_estimators will change from 10 in version 0.20 to 100 in 0.22.\n",
      "  \"10 in version 0.20 to 100 in 0.22.\", FutureWarning)\n"
     ]
    },
    {
     "name": "stdout",
     "output_type": "stream",
     "text": [
      "********** Train **********\n",
      "25\n",
      "0.9993009437259699\n",
      "Test\n",
      "0.5922803256247396\n"
     ]
    },
    {
     "name": "stderr",
     "output_type": "stream",
     "text": [
      "C:\\Users\\Home\\Anaconda3\\lib\\site-packages\\sklearn\\ensemble\\forest.py:245: FutureWarning: The default value of n_estimators will change from 10 in version 0.20 to 100 in 0.22.\n",
      "  \"10 in version 0.20 to 100 in 0.22.\", FutureWarning)\n"
     ]
    },
    {
     "name": "stdout",
     "output_type": "stream",
     "text": [
      "********** Train **********\n",
      "26\n",
      "0.999199764528413\n",
      "Test\n",
      "0.5943683317054586\n"
     ]
    },
    {
     "name": "stderr",
     "output_type": "stream",
     "text": [
      "C:\\Users\\Home\\Anaconda3\\lib\\site-packages\\sklearn\\ensemble\\forest.py:245: FutureWarning: The default value of n_estimators will change from 10 in version 0.20 to 100 in 0.22.\n",
      "  \"10 in version 0.20 to 100 in 0.22.\", FutureWarning)\n"
     ]
    },
    {
     "name": "stdout",
     "output_type": "stream",
     "text": [
      "********** Train **********\n",
      "27\n",
      "0.9991721702018065\n",
      "Test\n",
      "0.5921514651806007\n"
     ]
    },
    {
     "name": "stderr",
     "output_type": "stream",
     "text": [
      "C:\\Users\\Home\\Anaconda3\\lib\\site-packages\\sklearn\\ensemble\\forest.py:245: FutureWarning: The default value of n_estimators will change from 10 in version 0.20 to 100 in 0.22.\n",
      "  \"10 in version 0.20 to 100 in 0.22.\", FutureWarning)\n"
     ]
    },
    {
     "name": "stdout",
     "output_type": "stream",
     "text": [
      "********** Train **********\n",
      "28\n",
      "0.999043396677643\n",
      "Test\n",
      "0.5834558130066876\n"
     ]
    },
    {
     "name": "stderr",
     "output_type": "stream",
     "text": [
      "C:\\Users\\Home\\Anaconda3\\lib\\site-packages\\sklearn\\ensemble\\forest.py:245: FutureWarning: The default value of n_estimators will change from 10 in version 0.20 to 100 in 0.22.\n",
      "  \"10 in version 0.20 to 100 in 0.22.\", FutureWarning)\n"
     ]
    },
    {
     "name": "stdout",
     "output_type": "stream",
     "text": [
      "********** Train **********\n",
      "29\n",
      "0.9991721702018064\n",
      "Test\n",
      "0.5898486916929835\n"
     ]
    },
    {
     "name": "stderr",
     "output_type": "stream",
     "text": [
      "C:\\Users\\Home\\Anaconda3\\lib\\site-packages\\sklearn\\ensemble\\forest.py:245: FutureWarning: The default value of n_estimators will change from 10 in version 0.20 to 100 in 0.22.\n",
      "  \"10 in version 0.20 to 100 in 0.22.\", FutureWarning)\n"
     ]
    },
    {
     "name": "stdout",
     "output_type": "stream",
     "text": [
      "********** Train **********\n",
      "30\n",
      "0.9992825475082323\n",
      "Test\n",
      "0.5983725299413778\n"
     ]
    },
    {
     "name": "stderr",
     "output_type": "stream",
     "text": [
      "C:\\Users\\Home\\Anaconda3\\lib\\site-packages\\sklearn\\ensemble\\forest.py:245: FutureWarning: The default value of n_estimators will change from 10 in version 0.20 to 100 in 0.22.\n",
      "  \"10 in version 0.20 to 100 in 0.22.\", FutureWarning)\n"
     ]
    },
    {
     "name": "stdout",
     "output_type": "stream",
     "text": [
      "********** Train **********\n",
      "31\n",
      "0.9992917456171012\n",
      "Test\n",
      "0.5964563377861776\n"
     ]
    },
    {
     "name": "stderr",
     "output_type": "stream",
     "text": [
      "C:\\Users\\Home\\Anaconda3\\lib\\site-packages\\sklearn\\ensemble\\forest.py:245: FutureWarning: The default value of n_estimators will change from 10 in version 0.20 to 100 in 0.22.\n",
      "  \"10 in version 0.20 to 100 in 0.22.\", FutureWarning)\n"
     ]
    },
    {
     "name": "stdout",
     "output_type": "stream",
     "text": [
      "********** Train **********\n",
      "32\n",
      "0.9991813683106754\n",
      "Test\n",
      "0.5920226047364617\n"
     ]
    },
    {
     "name": "stderr",
     "output_type": "stream",
     "text": [
      "C:\\Users\\Home\\Anaconda3\\lib\\site-packages\\sklearn\\ensemble\\forest.py:245: FutureWarning: The default value of n_estimators will change from 10 in version 0.20 to 100 in 0.22.\n",
      "  \"10 in version 0.20 to 100 in 0.22.\", FutureWarning)\n"
     ]
    },
    {
     "name": "stdout",
     "output_type": "stream",
     "text": [
      "********** Train **********\n",
      "33\n",
      "0.9991261796574624\n",
      "Test\n",
      "0.5942394712613196\n"
     ]
    },
    {
     "name": "stderr",
     "output_type": "stream",
     "text": [
      "C:\\Users\\Home\\Anaconda3\\lib\\site-packages\\sklearn\\ensemble\\forest.py:245: FutureWarning: The default value of n_estimators will change from 10 in version 0.20 to 100 in 0.22.\n",
      "  \"10 in version 0.20 to 100 in 0.22.\", FutureWarning)\n"
     ]
    },
    {
     "name": "stdout",
     "output_type": "stream",
     "text": [
      "********** Train **********\n",
      "34\n",
      "0.9991537739840688\n",
      "Test\n",
      "0.5899775521371224\n"
     ]
    },
    {
     "name": "stderr",
     "output_type": "stream",
     "text": [
      "C:\\Users\\Home\\Anaconda3\\lib\\site-packages\\sklearn\\ensemble\\forest.py:245: FutureWarning: The default value of n_estimators will change from 10 in version 0.20 to 100 in 0.22.\n",
      "  \"10 in version 0.20 to 100 in 0.22.\", FutureWarning)\n"
     ]
    },
    {
     "name": "stdout",
     "output_type": "stream",
     "text": [
      "********** Train **********\n",
      "35\n",
      "0.9992089626372819\n",
      "Test\n",
      "0.5831980921184097\n"
     ]
    },
    {
     "name": "stderr",
     "output_type": "stream",
     "text": [
      "C:\\Users\\Home\\Anaconda3\\lib\\site-packages\\sklearn\\ensemble\\forest.py:245: FutureWarning: The default value of n_estimators will change from 10 in version 0.20 to 100 in 0.22.\n",
      "  \"10 in version 0.20 to 100 in 0.22.\", FutureWarning)\n"
     ]
    },
    {
     "name": "stdout",
     "output_type": "stream",
     "text": [
      "********** Train **********\n",
      "36\n",
      "0.9991905664195442\n",
      "Test\n",
      "0.5921729419212906\n"
     ]
    },
    {
     "name": "stderr",
     "output_type": "stream",
     "text": [
      "C:\\Users\\Home\\Anaconda3\\lib\\site-packages\\sklearn\\ensemble\\forest.py:245: FutureWarning: The default value of n_estimators will change from 10 in version 0.20 to 100 in 0.22.\n",
      "  \"10 in version 0.20 to 100 in 0.22.\", FutureWarning)\n"
     ]
    },
    {
     "name": "stdout",
     "output_type": "stream",
     "text": [
      "********** Train **********\n",
      "37\n",
      "0.9991721702018066\n",
      "Test\n",
      "0.5812604232225196\n"
     ]
    },
    {
     "name": "stderr",
     "output_type": "stream",
     "text": [
      "C:\\Users\\Home\\Anaconda3\\lib\\site-packages\\sklearn\\ensemble\\forest.py:245: FutureWarning: The default value of n_estimators will change from 10 in version 0.20 to 100 in 0.22.\n",
      "  \"10 in version 0.20 to 100 in 0.22.\", FutureWarning)\n"
     ]
    },
    {
     "name": "stdout",
     "output_type": "stream",
     "text": [
      "********** Train **********\n",
      "38\n",
      "0.9990893872219871\n",
      "Test\n",
      "0.5961771401572098\n"
     ]
    },
    {
     "name": "stderr",
     "output_type": "stream",
     "text": [
      "C:\\Users\\Home\\Anaconda3\\lib\\site-packages\\sklearn\\ensemble\\forest.py:245: FutureWarning: The default value of n_estimators will change from 10 in version 0.20 to 100 in 0.22.\n",
      "  \"10 in version 0.20 to 100 in 0.22.\", FutureWarning)\n"
     ]
    },
    {
     "name": "stdout",
     "output_type": "stream",
     "text": [
      "********** Train **********\n",
      "39\n",
      "0.9991997645284129\n",
      "Test\n",
      "0.5941106108171806\n"
     ]
    },
    {
     "name": "stderr",
     "output_type": "stream",
     "text": [
      "C:\\Users\\Home\\Anaconda3\\lib\\site-packages\\sklearn\\ensemble\\forest.py:245: FutureWarning: The default value of n_estimators will change from 10 in version 0.20 to 100 in 0.22.\n",
      "  \"10 in version 0.20 to 100 in 0.22.\", FutureWarning)\n"
     ]
    },
    {
     "name": "stdout",
     "output_type": "stream",
     "text": [
      "********** Train **********\n",
      "40\n",
      "0.9990433966776431\n",
      "Test\n",
      "0.5898486916929835\n"
     ]
    },
    {
     "name": "stderr",
     "output_type": "stream",
     "text": [
      "C:\\Users\\Home\\Anaconda3\\lib\\site-packages\\sklearn\\ensemble\\forest.py:245: FutureWarning: The default value of n_estimators will change from 10 in version 0.20 to 100 in 0.22.\n",
      "  \"10 in version 0.20 to 100 in 0.22.\", FutureWarning)\n"
     ]
    },
    {
     "name": "stdout",
     "output_type": "stream",
     "text": [
      "********** Train **********\n",
      "41\n",
      "0.9991353777663312\n",
      "Test\n",
      "0.591850790810943\n"
     ]
    },
    {
     "name": "stderr",
     "output_type": "stream",
     "text": [
      "C:\\Users\\Home\\Anaconda3\\lib\\site-packages\\sklearn\\ensemble\\forest.py:245: FutureWarning: The default value of n_estimators will change from 10 in version 0.20 to 100 in 0.22.\n",
      "  \"10 in version 0.20 to 100 in 0.22.\", FutureWarning)\n"
     ]
    },
    {
     "name": "stdout",
     "output_type": "stream",
     "text": [
      "********** Train **********\n",
      "42\n",
      "0.9991169815485936\n",
      "Test\n",
      "0.5895050638419461\n"
     ]
    },
    {
     "name": "stderr",
     "output_type": "stream",
     "text": [
      "C:\\Users\\Home\\Anaconda3\\lib\\site-packages\\sklearn\\ensemble\\forest.py:245: FutureWarning: The default value of n_estimators will change from 10 in version 0.20 to 100 in 0.22.\n",
      "  \"10 in version 0.20 to 100 in 0.22.\", FutureWarning)\n"
     ]
    },
    {
     "name": "stdout",
     "output_type": "stream",
     "text": [
      "********** Train **********\n",
      "43\n",
      "0.9990617928953808\n",
      "Test\n",
      "0.5919366977737024\n"
     ]
    },
    {
     "name": "stderr",
     "output_type": "stream",
     "text": [
      "C:\\Users\\Home\\Anaconda3\\lib\\site-packages\\sklearn\\ensemble\\forest.py:245: FutureWarning: The default value of n_estimators will change from 10 in version 0.20 to 100 in 0.22.\n",
      "  \"10 in version 0.20 to 100 in 0.22.\", FutureWarning)\n"
     ]
    },
    {
     "name": "stdout",
     "output_type": "stream",
     "text": [
      "********** Train **********\n",
      "44\n",
      "0.9992365569638884\n",
      "Test\n",
      "0.5918937442923228\n"
     ]
    },
    {
     "name": "stderr",
     "output_type": "stream",
     "text": [
      "C:\\Users\\Home\\Anaconda3\\lib\\site-packages\\sklearn\\ensemble\\forest.py:245: FutureWarning: The default value of n_estimators will change from 10 in version 0.20 to 100 in 0.22.\n",
      "  \"10 in version 0.20 to 100 in 0.22.\", FutureWarning)\n"
     ]
    },
    {
     "name": "stdout",
     "output_type": "stream",
     "text": [
      "********** Train **********\n",
      "45\n",
      "0.999245755072757\n",
      "Test\n",
      "0.600417582540717\n"
     ]
    },
    {
     "name": "stderr",
     "output_type": "stream",
     "text": [
      "C:\\Users\\Home\\Anaconda3\\lib\\site-packages\\sklearn\\ensemble\\forest.py:245: FutureWarning: The default value of n_estimators will change from 10 in version 0.20 to 100 in 0.22.\n",
      "  \"10 in version 0.20 to 100 in 0.22.\", FutureWarning)\n"
     ]
    },
    {
     "name": "stdout",
     "output_type": "stream",
     "text": [
      "********** Train **********\n",
      "46\n",
      "0.9990801891131182\n",
      "Test\n",
      "0.5942609480020095\n"
     ]
    },
    {
     "name": "stderr",
     "output_type": "stream",
     "text": [
      "C:\\Users\\Home\\Anaconda3\\lib\\site-packages\\sklearn\\ensemble\\forest.py:245: FutureWarning: The default value of n_estimators will change from 10 in version 0.20 to 100 in 0.22.\n",
      "  \"10 in version 0.20 to 100 in 0.22.\", FutureWarning)\n"
     ]
    },
    {
     "name": "stdout",
     "output_type": "stream",
     "text": [
      "********** Train **********\n",
      "47\n",
      "0.9991077834397247\n",
      "Test\n",
      "0.5942824247426993\n"
     ]
    },
    {
     "name": "stderr",
     "output_type": "stream",
     "text": [
      "C:\\Users\\Home\\Anaconda3\\lib\\site-packages\\sklearn\\ensemble\\forest.py:245: FutureWarning: The default value of n_estimators will change from 10 in version 0.20 to 100 in 0.22.\n",
      "  \"10 in version 0.20 to 100 in 0.22.\", FutureWarning)\n"
     ]
    },
    {
     "name": "stdout",
     "output_type": "stream",
     "text": [
      "********** Train **********\n",
      "48\n",
      "0.9990709910042496\n",
      "Test\n",
      "0.5942179945206298\n"
     ]
    },
    {
     "name": "stderr",
     "output_type": "stream",
     "text": [
      "C:\\Users\\Home\\Anaconda3\\lib\\site-packages\\sklearn\\ensemble\\forest.py:245: FutureWarning: The default value of n_estimators will change from 10 in version 0.20 to 100 in 0.22.\n",
      "  \"10 in version 0.20 to 100 in 0.22.\", FutureWarning)\n"
     ]
    },
    {
     "name": "stdout",
     "output_type": "stream",
     "text": [
      "********** Train **********\n",
      "49\n",
      "0.9991813683106753\n",
      "Test\n",
      "0.5875244414646764\n"
     ]
    },
    {
     "name": "stderr",
     "output_type": "stream",
     "text": [
      "C:\\Users\\Home\\Anaconda3\\lib\\site-packages\\sklearn\\ensemble\\forest.py:245: FutureWarning: The default value of n_estimators will change from 10 in version 0.20 to 100 in 0.22.\n",
      "  \"10 in version 0.20 to 100 in 0.22.\", FutureWarning)\n"
     ]
    },
    {
     "name": "stdout",
     "output_type": "stream",
     "text": [
      "********** Train **********\n",
      "50\n",
      "0.9991169815485937\n",
      "Test\n",
      "0.5959408960096216\n"
     ]
    },
    {
     "name": "stderr",
     "output_type": "stream",
     "text": [
      "C:\\Users\\Home\\Anaconda3\\lib\\site-packages\\sklearn\\ensemble\\forest.py:245: FutureWarning: The default value of n_estimators will change from 10 in version 0.20 to 100 in 0.22.\n",
      "  \"10 in version 0.20 to 100 in 0.22.\", FutureWarning)\n"
     ]
    },
    {
     "name": "stdout",
     "output_type": "stream",
     "text": [
      "********** Train **********\n",
      "51\n",
      "0.999254953181626\n",
      "Test\n",
      "0.5940247038544213\n"
     ]
    },
    {
     "name": "stderr",
     "output_type": "stream",
     "text": [
      "C:\\Users\\Home\\Anaconda3\\lib\\site-packages\\sklearn\\ensemble\\forest.py:245: FutureWarning: The default value of n_estimators will change from 10 in version 0.20 to 100 in 0.22.\n",
      "  \"10 in version 0.20 to 100 in 0.22.\", FutureWarning)\n"
     ]
    },
    {
     "name": "stdout",
     "output_type": "stream",
     "text": [
      "********** Train **********\n",
      "52\n",
      "0.9991629720929376\n",
      "Test\n",
      "0.5941535642985603\n"
     ]
    },
    {
     "name": "stderr",
     "output_type": "stream",
     "text": [
      "C:\\Users\\Home\\Anaconda3\\lib\\site-packages\\sklearn\\ensemble\\forest.py:245: FutureWarning: The default value of n_estimators will change from 10 in version 0.20 to 100 in 0.22.\n",
      "  \"10 in version 0.20 to 100 in 0.22.\", FutureWarning)\n"
     ]
    },
    {
     "name": "stdout",
     "output_type": "stream",
     "text": [
      "********** Train **********\n",
      "53\n",
      "0.9990250004599055\n",
      "Test\n",
      "0.5879324995377833\n"
     ]
    },
    {
     "name": "stderr",
     "output_type": "stream",
     "text": [
      "C:\\Users\\Home\\Anaconda3\\lib\\site-packages\\sklearn\\ensemble\\forest.py:245: FutureWarning: The default value of n_estimators will change from 10 in version 0.20 to 100 in 0.22.\n",
      "  \"10 in version 0.20 to 100 in 0.22.\", FutureWarning)\n"
     ]
    },
    {
     "name": "stdout",
     "output_type": "stream",
     "text": [
      "********** Train **********\n",
      "54\n",
      "0.9991169815485935\n",
      "Test\n",
      "0.5941535642985603\n"
     ]
    },
    {
     "name": "stderr",
     "output_type": "stream",
     "text": [
      "C:\\Users\\Home\\Anaconda3\\lib\\site-packages\\sklearn\\ensemble\\forest.py:245: FutureWarning: The default value of n_estimators will change from 10 in version 0.20 to 100 in 0.22.\n",
      "  \"10 in version 0.20 to 100 in 0.22.\", FutureWarning)\n"
     ]
    },
    {
     "name": "stdout",
     "output_type": "stream",
     "text": [
      "********** Train **********\n",
      "55\n",
      "0.9990341985687743\n",
      "Test\n",
      "0.5941535642985603\n"
     ]
    },
    {
     "name": "stderr",
     "output_type": "stream",
     "text": [
      "C:\\Users\\Home\\Anaconda3\\lib\\site-packages\\sklearn\\ensemble\\forest.py:245: FutureWarning: The default value of n_estimators will change from 10 in version 0.20 to 100 in 0.22.\n",
      "  \"10 in version 0.20 to 100 in 0.22.\", FutureWarning)\n"
     ]
    },
    {
     "name": "stdout",
     "output_type": "stream",
     "text": [
      "********** Train **********\n",
      "56\n",
      "0.9991813683106753\n",
      "Test\n",
      "0.5917434071074938\n"
     ]
    },
    {
     "name": "stderr",
     "output_type": "stream",
     "text": [
      "C:\\Users\\Home\\Anaconda3\\lib\\site-packages\\sklearn\\ensemble\\forest.py:245: FutureWarning: The default value of n_estimators will change from 10 in version 0.20 to 100 in 0.22.\n",
      "  \"10 in version 0.20 to 100 in 0.22.\", FutureWarning)\n"
     ]
    },
    {
     "name": "stdout",
     "output_type": "stream",
     "text": [
      "********** Train **********\n",
      "57\n",
      "0.9990709910042496\n",
      "Test\n",
      "0.5877177321308849\n"
     ]
    },
    {
     "name": "stderr",
     "output_type": "stream",
     "text": [
      "C:\\Users\\Home\\Anaconda3\\lib\\site-packages\\sklearn\\ensemble\\forest.py:245: FutureWarning: The default value of n_estimators will change from 10 in version 0.20 to 100 in 0.22.\n",
      "  \"10 in version 0.20 to 100 in 0.22.\", FutureWarning)\n"
     ]
    },
    {
     "name": "stdout",
     "output_type": "stream",
     "text": [
      "********** Train **********\n",
      "58\n",
      "0.9990525947865119\n",
      "Test\n",
      "0.5873311507984679\n"
     ]
    },
    {
     "data": {
      "image/png": "[encoded data removed]",
      "text/plain": [
       "<Figure size 432x288 with 1 Axes>"
      ]
     },
     "metadata": {
      "needs_background": "light"
     },
     "output_type": "display_data"
    }
   ],
   "source": [
    "max_features = list(range(1,x_train.shape[1]))\n",
    "train_results = []\n",
    "test_results = []\n",
    "for max_feature in max_features:\n",
    "    rf = RandomForestClassifier(max_features=max_feature)\n",
    "    rf.fit(x_train, y_train)\n",
    "    train_pred = rf.predict(x_train)\n",
    "    false_positive_rate, true_positive_rate, thresholds = roc_curve(y_train, train_pred)\n",
    "    roc_auc = auc(false_positive_rate, true_positive_rate)\n",
    "    print (\"********** Train **********\")\n",
    "    print (max_feature)\n",
    "    print (roc_auc)\n",
    "    train_results.append(roc_auc)\n",
    "    y_pred = rf.predict(x_test)\n",
    "    false_positive_rate, true_positive_rate, thresholds = roc_curve(y_test, y_pred)\n",
    "    roc_auc = auc(false_positive_rate, true_positive_rate)\n",
    "    print (\"Test\")\n",
    "    print (roc_auc)\n",
    "    test_results.append(roc_auc)\n",
    "from matplotlib.legend_handler import HandlerLine2D\n",
    "line1, = plt.plot(max_features, train_results, 'b', label='Train AUC')\n",
    "line2, = plt.plot(max_features, test_results, 'r', label='Test AUC')\n",
    "plt.ylabel('AUC score')\n",
    "plt.xlabel('max features')\n",
    "plt.show()"
   ]
  },
  {
   "cell_type": "code",
   "execution_count": 147,
   "metadata": {
    "scrolled": true
   },
   "outputs": [
    {
     "name": "stdout",
     "output_type": "stream",
     "text": [
      "Variable: SUM(brand_Established) Importance: 0.31\n",
      "Variable: itemCount            Importance: 0.12\n",
      "Variable: SUM(category_Grocery) Importance: 0.12\n",
      "Variable: sumItCouAvailUntilNow Importance: 0.12\n",
      "Variable: family_size          Importance: 0.06\n",
      "Variable: income_bracket       Importance: 0.06\n",
      "Variable: Q2                   Importance: 0.06\n",
      "Variable: couDiscAvaiCtDjSum   Importance: 0.06\n",
      "Variable: couDiscAvaiCtFpSum   Importance: 0.06\n",
      "Variable: age_range            Importance: 0.0\n",
      "Variable: rented               Importance: 0.0\n",
      "Variable: campaign_type        Importance: 0.0\n",
      "Variable: SUM(brand_Local)     Importance: 0.0\n",
      "Variable: SUM(category_Bakery) Importance: 0.0\n",
      "Variable: SUM(category_DairyJuices) Importance: 0.0\n",
      "Variable: SUM(category_FlowersPlants) Importance: 0.0\n",
      "Variable: SUM(category_Garden) Importance: 0.0\n",
      "Variable: SUM(category_Meat)   Importance: 0.0\n",
      "Variable: SUM(category_Miscellaneous) Importance: 0.0\n",
      "Variable: SUM(category_Natural_Products) Importance: 0.0\n",
      "Variable: SUM(category_Packaged_Meat) Importance: 0.0\n",
      "Variable: SUM(category_Pharmaceutical) Importance: 0.0\n",
      "Variable: SUM(category_Prepared_Food) Importance: 0.0\n",
      "Variable: SUM(category_Restauarant) Importance: 0.0\n",
      "Variable: SUM(category_Salads) Importance: 0.0\n",
      "Variable: SUM(category_Seafood) Importance: 0.0\n",
      "Variable: SUM(category_Skin_Hair_Care) Importance: 0.0\n",
      "Variable: SUM(category_Travel) Importance: 0.0\n",
      "Variable: SUM(category_Vegetables_cut) Importance: 0.0\n",
      "Variable: NoOfDaysOfCampaign   Importance: 0.0\n",
      "Variable: dayOfWeekOfCamStart  Importance: 0.0\n",
      "Variable: dayOfWeekOfCamEnd    Importance: 0.0\n",
      "Variable: Q1                   Importance: 0.0\n",
      "Variable: Q3                   Importance: 0.0\n",
      "Variable: campaignStartDayOfMonth Importance: 0.0\n",
      "Variable: campaignEndDayOfMonth Importance: 0.0\n",
      "Variable: NoOfSunInCam         Importance: 0.0\n",
      "Variable: NoOfSatInCam         Importance: 0.0\n",
      "Variable: noItCouAvailUntilNow Importance: 0.0\n",
      "Variable: HasRedeemedBefore    Importance: 0.0\n",
      "Variable: couDiscAvaiBrEstSum  Importance: 0.0\n",
      "Variable: couDiscAvaiBrLcSum   Importance: 0.0\n",
      "Variable: couDiscAvaiCtAlSum   Importance: 0.0\n",
      "Variable: couDiscAvaiCtBkSum   Importance: 0.0\n",
      "Variable: couDiscAvaiCtFuSum   Importance: 0.0\n",
      "Variable: couDiscAvaiCtGarSum  Importance: 0.0\n",
      "Variable: couDiscAvaiCtGroSum  Importance: 0.0\n",
      "Variable: couDiscAvaiCtMtSum   Importance: 0.0\n",
      "Variable: couDiscAvaiCtMsSum   Importance: 0.0\n",
      "Variable: couDiscAvaiCtNpSum   Importance: 0.0\n",
      "Variable: couDiscAvaiCtPmSum   Importance: 0.0\n",
      "Variable: couDiscAvaiCtPharSum Importance: 0.0\n",
      "Variable: couDiscAvaiCtPfSum   Importance: 0.0\n",
      "Variable: couDiscAvaiCtResSum  Importance: 0.0\n",
      "Variable: couDiscAvaiCtSalSum  Importance: 0.0\n",
      "Variable: couDiscAvaiCtSfSum   Importance: 0.0\n",
      "Variable: couDiscAvaiCtSkhSum  Importance: 0.0\n",
      "Variable: couDiscAvaiCtTraSum  Importance: 0.0\n",
      "Variable: couDiscAvaiCtVcSum   Importance: 0.0\n",
      "Feature Importance\n",
      "[0.     0.     0.0625 0.0625 0.     0.125  0.3125 0.     0.     0.\n",
      " 0.     0.     0.125  0.     0.     0.     0.     0.     0.     0.\n",
      " 0.     0.     0.     0.     0.     0.     0.     0.     0.     0.0625\n",
      " 0.     0.     0.     0.     0.     0.     0.     0.125  0.     0.\n",
      " 0.     0.     0.0625 0.0625 0.     0.     0.     0.     0.     0.\n",
      " 0.     0.     0.     0.     0.     0.     0.     0.     0.    ]\n",
      "0.7107208154438309\n",
      "[0.         0.33508011 1.        ]\n",
      "[0.         0.75652174 1.        ]\n"
     ]
    }
   ],
   "source": [
    "# Tuned Features:\n",
    "# n_estimators - 16\n",
    "# max_depth - 4\n",
    "# min_samples_split - 0.6\n",
    "# min_samples_leaf - 0.2\n",
    "# max_features - 9\n",
    "\n",
    "rf = RandomForestClassifier(n_estimators = 16, max_depth = 4, min_samples_split = 0.6, min_samples_leaf = 0.2, max_features = 9)\n",
    "rf.fit(x_train, y_train)\n",
    "y_pred = rf.predict(x_test)\n",
    "\n",
    "feature_list = list(trainRf.columns)\n",
    "importances = list(rf.feature_importances_)\n",
    "feature_importances = [(feature, round(importance, 2)) for feature, importance in zip(feature_list, importances)]\n",
    "feature_importances = sorted(feature_importances, key = lambda x: x[1], reverse = True)\n",
    "# Print out the feature and importances \n",
    "[print('Variable: {:20} Importance: {}'.format(*pair)) for pair in feature_importances];\n",
    "\n",
    "\n",
    "from sklearn.metrics import roc_curve, auc\n",
    "false_positive_rate, true_positive_rate, thresholds = roc_curve(y_test, y_pred)\n",
    "roc_auc = auc(false_positive_rate, true_positive_rate)\n",
    "print (\"Feature Importance\")\n",
    "print (rf.feature_importances_)\n",
    "print (roc_auc)\n",
    "print (false_positive_rate)\n",
    "print (true_positive_rate)\n",
    "\n",
    "\n"
   ]
  },
  {
   "cell_type": "code",
   "execution_count": 164,
   "metadata": {},
   "outputs": [],
   "source": [
    "# Actual model building for submission\n",
    "\n",
    "Y = trainRf['redemption_status']\n",
    "del trainRf['redemption_status']\n",
    "X = trainRf\n",
    "test_id = testRf['id']\n",
    "del testRf['id']\n",
    "X_test = testRf\n",
    "\n",
    "from imblearn.over_sampling import SMOTE\n",
    "smt = SMOTE()\n",
    "x_train, y_train = smt.fit_sample(X, Y)\n",
    "\n",
    "rf = RandomForestClassifier(n_estimators = 16, max_depth = 7, min_samples_split = 0.6, min_samples_leaf = 0.1, max_features = 12)\n",
    "rf.fit(x_train, y_train)\n",
    "redemption_status = rf.predict(X_test)\n",
    "\n",
    "testRf['redemption_status'] = redemption_status\n",
    "testRf['id'] = test_id\n",
    "testRf.to_csv('submission17.csv')\n"
   ]
  },
  {
   "cell_type": "code",
   "execution_count": 91,
   "metadata": {},
   "outputs": [
    {
     "data": {
      "text/plain": [
       "9943"
      ]
     },
     "execution_count": 91,
     "metadata": {},
     "output_type": "execute_result"
    }
   ],
   "source": [
    "del trainRf\n",
    "del testRf\n",
    "gc.collect()"
   ]
  },
  {
   "cell_type": "code",
   "execution_count": 92,
   "metadata": {},
   "outputs": [],
   "source": [
    "# Model building using XGBoost.\n",
    " \n",
    "trainXG = trainAnalysis.copy(deep = True) \n",
    "testXG = testAnalysis.copy(deep = True)"
   ]
  },
  {
   "cell_type": "code",
   "execution_count": 93,
   "metadata": {},
   "outputs": [],
   "source": [
    "# Marital status - Dosent affect target, many Nas, so ignore it\n",
    "# No of children - Dosent affect target, many Nas, so ignore it\n",
    "\n",
    "del trainXG['marital_status']\n",
    "del trainXG['no_of_children']\n",
    "\n",
    "# Mean Encoding categorical features.\n",
    "\n",
    "ct_mean_encode = trainXG.groupby('campaign_type')['redemption_status'].mean()\n",
    "trainXG.loc[:,'campaign_type'] = trainXG['campaign_type'].map(ct_mean_encode)\n",
    "\n",
    "ib_mean_encode = trainXG.groupby('income_bracket')['redemption_status'].mean()\n",
    "trainXG.loc[:,'income_bracket'] = trainXG['income_bracket'].map(ib_mean_encode)\n",
    "\n",
    "rt_mean_encode = trainXG.groupby('rented')['redemption_status'].mean()\n",
    "trainXG.loc[:,'rented'] = trainXG['rented'].map(rt_mean_encode)\n",
    "\n",
    "ag_mean_encode = trainXG.groupby('age_range')['redemption_status'].mean()\n",
    "trainXG.loc[:,'age_range'] = trainXG['age_range'].map(ag_mean_encode)\n",
    "\n",
    "fs_mean_encode = trainXG.groupby('family_size')['redemption_status'].mean()\n",
    "trainXG.loc[:,'family_size'] = trainXG['family_size'].map(fs_mean_encode)\n",
    "\n",
    "del trainXG['campaign_id']\n",
    "del trainXG['coupon_id']\n",
    "del trainXG['customer_id']\n",
    "del trainXG['start_date']\n",
    "del trainXG['end_date']\n"
   ]
  },
  {
   "cell_type": "code",
   "execution_count": 94,
   "metadata": {},
   "outputs": [],
   "source": [
    "# Doing Everything for test data as well.\n",
    "\n",
    "del testXG['marital_status']\n",
    "del testXG['no_of_children']\n",
    "\n",
    "testXG.loc[:,'campaign_type'] = testXG['campaign_type'].map(ct_mean_encode)\n",
    "testXG.loc[:,'income_bracket'] = testXG['income_bracket'].map(ib_mean_encode)\n",
    "testXG.loc[:,'rented'] = testXG['rented'].map(rt_mean_encode)\n",
    "testXG.loc[:,'age_range'] = testXG['age_range'].map(ag_mean_encode)\n",
    "testXG.loc[:,'family_size'] = testXG['family_size'].map(fs_mean_encode)\n",
    "\n",
    "del testXG['campaign_id']\n",
    "del testXG['coupon_id']\n",
    "del testXG['customer_id']\n",
    "del testXG['start_date']\n",
    "del testXG['end_date']"
   ]
  },
  {
   "cell_type": "code",
   "execution_count": 95,
   "metadata": {},
   "outputs": [
    {
     "name": "stdout",
     "output_type": "stream",
     "text": [
      "0.8492670692476768\n",
      "[0.         0.15717728 1.        ]\n",
      "[0.         0.85571142 1.        ]\n",
      "0.8020923948059904\n",
      "[0.        0.1610326 1.       ]\n",
      "[0.         0.76521739 1.        ]\n"
     ]
    }
   ],
   "source": [
    "import xgboost as xgb\n",
    "from sklearn import metrics\n",
    "from sklearn.model_selection import train_test_split\n",
    "\n",
    "Y = trainXG['redemption_status']\n",
    "del trainXG['redemption_status']\n",
    "X = trainXG\n",
    "\n",
    "x_train, x_test, y_train, y_test = train_test_split(X, Y, test_size=0.3, random_state=0)\n",
    "\n",
    "# Generally, the Scale_pos_weight is the ratio of number of negative class to the positive class. so here it is 77640/729\n",
    "xg = xgb.XGBClassifier(objective = 'reg:logistic', scale_pos_weight = 106.50)\n",
    "xg.fit(x_train, y_train)\n",
    "y_pred_train = xg.predict(x_train)\n",
    "y_pred_test = xg.predict(x_test)\n",
    "\n",
    "from sklearn.metrics import roc_curve, auc\n",
    "false_positive_rate, true_positive_rate, thresholds = roc_curve(y_train, y_pred_train)\n",
    "roc_auc = auc(false_positive_rate, true_positive_rate)\n",
    "print (roc_auc)\n",
    "print (false_positive_rate)\n",
    "print (true_positive_rate)\n",
    "\n",
    "from sklearn.metrics import roc_curve, auc\n",
    "false_positive_rate, true_positive_rate, thresholds = roc_curve(y_test, y_pred_test)\n",
    "roc_auc = auc(false_positive_rate, true_positive_rate)\n",
    "print (roc_auc)\n",
    "print (false_positive_rate)\n",
    "print (true_positive_rate)\n",
    "\n",
    "\n"
   ]
  },
  {
   "cell_type": "code",
   "execution_count": 373,
   "metadata": {},
   "outputs": [],
   "source": [
    "# Actual model building for submission\n",
    "\n",
    "import xgboost as xgb\n",
    "from sklearn import metrics\n",
    "from sklearn.model_selection import train_test_split\n",
    "\n",
    "Y = trainXG['redemption_status']\n",
    "del trainXG['redemption_status']\n",
    "X = trainXG\n",
    "test_id = testXG['id']\n",
    "del testXG['id']\n",
    "X_test = testXG\n",
    "\n",
    "xg = xgb.XGBClassifier(objective = 'reg:logistic', scale_pos_weight = 106.50)\n",
    "xg.fit(X, Y)\n",
    "redemption_status = xg.predict(X_test)\n",
    "testXG['redemption_status'] = redemption_status\n",
    "testXG['id'] = test_id\n",
    "testXG.to_csv('submission12.csv')"
   ]
  },
  {
   "cell_type": "code",
   "execution_count": 375,
   "metadata": {},
   "outputs": [
    {
     "data": {
      "text/plain": [
       "476"
      ]
     },
     "execution_count": 375,
     "metadata": {},
     "output_type": "execute_result"
    }
   ],
   "source": [
    "del trainXG\n",
    "del testXG\n",
    "gc.collect()"
   ]
  },
  {
   "cell_type": "code",
   "execution_count": null,
   "metadata": {},
   "outputs": [],
   "source": []
  }
 ],
 "metadata": {
  "kernelspec": {
   "display_name": "Python 3",
   "language": "python",
   "name": "python3"
  },
  "language_info": {
   "codemirror_mode": {
    "name": "ipython",
    "version": 3
   },
   "file_extension": ".py",
   "mimetype": "text/x-python",
   "name": "python",
   "nbconvert_exporter": "python",
   "pygments_lexer": "ipython3",
   "version": "3.7.1"
  }
 },
 "nbformat": 4,
 "nbformat_minor": 2
}
